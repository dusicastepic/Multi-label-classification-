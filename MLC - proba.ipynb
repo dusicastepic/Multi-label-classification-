{
 "cells": [
  {
   "cell_type": "markdown",
   "metadata": {},
   "source": [
    "### Libraries"
   ]
  },
  {
   "cell_type": "code",
   "execution_count": 554,
   "metadata": {
    "collapsed": true
   },
   "outputs": [],
   "source": [
    "import pandas as pd\n",
    "import numpy as np\n",
    "import sklearn\n",
    "import skmultilearn\n",
    "\n",
    "from IPython.display import Image\n",
    "from prettytable import PrettyTable\n",
    "\n",
    "from sklearn.model_selection import train_test_split\n",
    "from sklearn.model_selection import cross_val_predict\n",
    "from sklearn.metrics import accuracy_score\n",
    "from sklearn.metrics import precision_score\n",
    "from sklearn.metrics import recall_score\n",
    "from sklearn.metrics import f1_score\n",
    "from sklearn.metrics import zero_one_loss\n",
    "from sklearn.linear_model import LogisticRegression\n",
    "from sklearn.naive_bayes import GaussianNB\n",
    "from sklearn.ensemble import RandomForestClassifier\n",
    "\n",
    "from skmultilearn.problem_transform import BinaryRelevance\n",
    "from skmultilearn.problem_transform import ClassifierChain\n",
    "from skmultilearn.problem_transform import LabelPowerset\n",
    "from skmultilearn.adapt import MLkNN\n",
    "from skmultilearn.adapt import BRkNNaClassifier"
   ]
  },
  {
   "cell_type": "markdown",
   "metadata": {},
   "source": [
    "### Import data"
   ]
  },
  {
   "cell_type": "code",
   "execution_count": 555,
   "metadata": {
    "collapsed": true
   },
   "outputs": [],
   "source": [
    "student=pd.read_csv('C:\\\\Users\\\\Dusica\\\\Downloads\\\\Student Performance\\\\student-mat.csv',sep=';')"
   ]
  },
  {
   "cell_type": "markdown",
   "metadata": {},
   "source": [
    "### Descriptive statistics"
   ]
  },
  {
   "cell_type": "code",
   "execution_count": 556,
   "metadata": {},
   "outputs": [
    {
     "data": {
      "text/plain": [
       "(395, 33)"
      ]
     },
     "execution_count": 556,
     "metadata": {},
     "output_type": "execute_result"
    }
   ],
   "source": [
    "student.shape"
   ]
  },
  {
   "cell_type": "code",
   "execution_count": 557,
   "metadata": {},
   "outputs": [
    {
     "data": {
      "text/html": [
       "<div>\n",
       "<style>\n",
       "    .dataframe thead tr:only-child th {\n",
       "        text-align: right;\n",
       "    }\n",
       "\n",
       "    .dataframe thead th {\n",
       "        text-align: left;\n",
       "    }\n",
       "\n",
       "    .dataframe tbody tr th {\n",
       "        vertical-align: top;\n",
       "    }\n",
       "</style>\n",
       "<table border=\"1\" class=\"dataframe\">\n",
       "  <thead>\n",
       "    <tr style=\"text-align: right;\">\n",
       "      <th></th>\n",
       "      <th>school</th>\n",
       "      <th>sex</th>\n",
       "      <th>age</th>\n",
       "      <th>address</th>\n",
       "      <th>famsize</th>\n",
       "      <th>Pstatus</th>\n",
       "      <th>Medu</th>\n",
       "      <th>Fedu</th>\n",
       "      <th>Mjob</th>\n",
       "      <th>Fjob</th>\n",
       "      <th>...</th>\n",
       "      <th>famrel</th>\n",
       "      <th>freetime</th>\n",
       "      <th>goout</th>\n",
       "      <th>Dalc</th>\n",
       "      <th>Walc</th>\n",
       "      <th>health</th>\n",
       "      <th>absences</th>\n",
       "      <th>G1</th>\n",
       "      <th>G2</th>\n",
       "      <th>G3</th>\n",
       "    </tr>\n",
       "  </thead>\n",
       "  <tbody>\n",
       "    <tr>\n",
       "      <th>0</th>\n",
       "      <td>GP</td>\n",
       "      <td>F</td>\n",
       "      <td>18</td>\n",
       "      <td>U</td>\n",
       "      <td>GT3</td>\n",
       "      <td>A</td>\n",
       "      <td>4.0</td>\n",
       "      <td>NaN</td>\n",
       "      <td>at_home</td>\n",
       "      <td>teacher</td>\n",
       "      <td>...</td>\n",
       "      <td>4.0</td>\n",
       "      <td>3.0</td>\n",
       "      <td>4</td>\n",
       "      <td>1</td>\n",
       "      <td>1.0</td>\n",
       "      <td>3</td>\n",
       "      <td>6.0</td>\n",
       "      <td>5</td>\n",
       "      <td>6</td>\n",
       "      <td>6</td>\n",
       "    </tr>\n",
       "    <tr>\n",
       "      <th>1</th>\n",
       "      <td>GP</td>\n",
       "      <td>F</td>\n",
       "      <td>17</td>\n",
       "      <td>U</td>\n",
       "      <td>GT3</td>\n",
       "      <td>T</td>\n",
       "      <td>1.0</td>\n",
       "      <td>1.0</td>\n",
       "      <td>at_home</td>\n",
       "      <td>other</td>\n",
       "      <td>...</td>\n",
       "      <td>5.0</td>\n",
       "      <td>3.0</td>\n",
       "      <td>3</td>\n",
       "      <td>1</td>\n",
       "      <td>1.0</td>\n",
       "      <td>3</td>\n",
       "      <td>4.0</td>\n",
       "      <td>5</td>\n",
       "      <td>5</td>\n",
       "      <td>6</td>\n",
       "    </tr>\n",
       "    <tr>\n",
       "      <th>2</th>\n",
       "      <td>GP</td>\n",
       "      <td>F</td>\n",
       "      <td>15</td>\n",
       "      <td>U</td>\n",
       "      <td>LE3</td>\n",
       "      <td>T</td>\n",
       "      <td>1.0</td>\n",
       "      <td>1.0</td>\n",
       "      <td>at_home</td>\n",
       "      <td>other</td>\n",
       "      <td>...</td>\n",
       "      <td>4.0</td>\n",
       "      <td>3.0</td>\n",
       "      <td>2</td>\n",
       "      <td>2</td>\n",
       "      <td>3.0</td>\n",
       "      <td>3</td>\n",
       "      <td>10.0</td>\n",
       "      <td>7</td>\n",
       "      <td>8</td>\n",
       "      <td>10</td>\n",
       "    </tr>\n",
       "    <tr>\n",
       "      <th>3</th>\n",
       "      <td>GP</td>\n",
       "      <td>F</td>\n",
       "      <td>15</td>\n",
       "      <td>U</td>\n",
       "      <td>GT3</td>\n",
       "      <td>T</td>\n",
       "      <td>4.0</td>\n",
       "      <td>2.0</td>\n",
       "      <td>health</td>\n",
       "      <td>services</td>\n",
       "      <td>...</td>\n",
       "      <td>3.0</td>\n",
       "      <td>2.0</td>\n",
       "      <td>2</td>\n",
       "      <td>1</td>\n",
       "      <td>1.0</td>\n",
       "      <td>5</td>\n",
       "      <td>2.0</td>\n",
       "      <td>15</td>\n",
       "      <td>14</td>\n",
       "      <td>15</td>\n",
       "    </tr>\n",
       "    <tr>\n",
       "      <th>4</th>\n",
       "      <td>GP</td>\n",
       "      <td>F</td>\n",
       "      <td>16</td>\n",
       "      <td>U</td>\n",
       "      <td>GT3</td>\n",
       "      <td>T</td>\n",
       "      <td>3.0</td>\n",
       "      <td>3.0</td>\n",
       "      <td>other</td>\n",
       "      <td>other</td>\n",
       "      <td>...</td>\n",
       "      <td>4.0</td>\n",
       "      <td>3.0</td>\n",
       "      <td>2</td>\n",
       "      <td>1</td>\n",
       "      <td>2.0</td>\n",
       "      <td>5</td>\n",
       "      <td>4.0</td>\n",
       "      <td>6</td>\n",
       "      <td>10</td>\n",
       "      <td>10</td>\n",
       "    </tr>\n",
       "  </tbody>\n",
       "</table>\n",
       "<p>5 rows × 33 columns</p>\n",
       "</div>"
      ],
      "text/plain": [
       "  school sex  age address famsize Pstatus  Medu  Fedu     Mjob      Fjob ...  \\\n",
       "0     GP   F   18       U     GT3       A   4.0   NaN  at_home   teacher ...   \n",
       "1     GP   F   17       U     GT3       T   1.0   1.0  at_home     other ...   \n",
       "2     GP   F   15       U     LE3       T   1.0   1.0  at_home     other ...   \n",
       "3     GP   F   15       U     GT3       T   4.0   2.0   health  services ...   \n",
       "4     GP   F   16       U     GT3       T   3.0   3.0    other     other ...   \n",
       "\n",
       "  famrel freetime  goout  Dalc  Walc health absences  G1  G2  G3  \n",
       "0    4.0      3.0      4     1   1.0      3      6.0   5   6   6  \n",
       "1    5.0      3.0      3     1   1.0      3      4.0   5   5   6  \n",
       "2    4.0      3.0      2     2   3.0      3     10.0   7   8  10  \n",
       "3    3.0      2.0      2     1   1.0      5      2.0  15  14  15  \n",
       "4    4.0      3.0      2     1   2.0      5      4.0   6  10  10  \n",
       "\n",
       "[5 rows x 33 columns]"
      ]
     },
     "execution_count": 557,
     "metadata": {},
     "output_type": "execute_result"
    }
   ],
   "source": [
    "student.head()"
   ]
  },
  {
   "cell_type": "code",
   "execution_count": 558,
   "metadata": {},
   "outputs": [
    {
     "data": {
      "text/html": [
       "<div>\n",
       "<style>\n",
       "    .dataframe thead tr:only-child th {\n",
       "        text-align: right;\n",
       "    }\n",
       "\n",
       "    .dataframe thead th {\n",
       "        text-align: left;\n",
       "    }\n",
       "\n",
       "    .dataframe tbody tr th {\n",
       "        vertical-align: top;\n",
       "    }\n",
       "</style>\n",
       "<table border=\"1\" class=\"dataframe\">\n",
       "  <thead>\n",
       "    <tr style=\"text-align: right;\">\n",
       "      <th></th>\n",
       "      <th>age</th>\n",
       "      <th>Medu</th>\n",
       "      <th>Fedu</th>\n",
       "      <th>traveltime</th>\n",
       "      <th>studytime</th>\n",
       "      <th>failures</th>\n",
       "      <th>famrel</th>\n",
       "      <th>freetime</th>\n",
       "      <th>goout</th>\n",
       "      <th>Dalc</th>\n",
       "      <th>Walc</th>\n",
       "      <th>health</th>\n",
       "      <th>absences</th>\n",
       "      <th>G1</th>\n",
       "      <th>G2</th>\n",
       "      <th>G3</th>\n",
       "    </tr>\n",
       "  </thead>\n",
       "  <tbody>\n",
       "    <tr>\n",
       "      <th>count</th>\n",
       "      <td>395.000000</td>\n",
       "      <td>394.000000</td>\n",
       "      <td>393.000000</td>\n",
       "      <td>394.000000</td>\n",
       "      <td>395.000000</td>\n",
       "      <td>394.000000</td>\n",
       "      <td>394.000000</td>\n",
       "      <td>394.000000</td>\n",
       "      <td>395.000000</td>\n",
       "      <td>395.000000</td>\n",
       "      <td>394.000000</td>\n",
       "      <td>395.000000</td>\n",
       "      <td>394.000000</td>\n",
       "      <td>395.000000</td>\n",
       "      <td>395.000000</td>\n",
       "      <td>395.000000</td>\n",
       "    </tr>\n",
       "    <tr>\n",
       "      <th>mean</th>\n",
       "      <td>16.696203</td>\n",
       "      <td>2.746193</td>\n",
       "      <td>2.516539</td>\n",
       "      <td>1.444162</td>\n",
       "      <td>2.035443</td>\n",
       "      <td>0.335025</td>\n",
       "      <td>3.941624</td>\n",
       "      <td>3.238579</td>\n",
       "      <td>3.108861</td>\n",
       "      <td>1.481013</td>\n",
       "      <td>2.291878</td>\n",
       "      <td>3.554430</td>\n",
       "      <td>5.713198</td>\n",
       "      <td>10.908861</td>\n",
       "      <td>10.713924</td>\n",
       "      <td>10.415190</td>\n",
       "    </tr>\n",
       "    <tr>\n",
       "      <th>std</th>\n",
       "      <td>1.276043</td>\n",
       "      <td>1.094306</td>\n",
       "      <td>1.088135</td>\n",
       "      <td>0.693979</td>\n",
       "      <td>0.839240</td>\n",
       "      <td>0.744405</td>\n",
       "      <td>0.896214</td>\n",
       "      <td>0.998184</td>\n",
       "      <td>1.113278</td>\n",
       "      <td>0.890741</td>\n",
       "      <td>1.289450</td>\n",
       "      <td>1.390303</td>\n",
       "      <td>8.012806</td>\n",
       "      <td>3.319195</td>\n",
       "      <td>3.761505</td>\n",
       "      <td>4.581443</td>\n",
       "    </tr>\n",
       "    <tr>\n",
       "      <th>min</th>\n",
       "      <td>15.000000</td>\n",
       "      <td>0.000000</td>\n",
       "      <td>0.000000</td>\n",
       "      <td>1.000000</td>\n",
       "      <td>1.000000</td>\n",
       "      <td>0.000000</td>\n",
       "      <td>1.000000</td>\n",
       "      <td>1.000000</td>\n",
       "      <td>1.000000</td>\n",
       "      <td>1.000000</td>\n",
       "      <td>1.000000</td>\n",
       "      <td>1.000000</td>\n",
       "      <td>0.000000</td>\n",
       "      <td>3.000000</td>\n",
       "      <td>0.000000</td>\n",
       "      <td>0.000000</td>\n",
       "    </tr>\n",
       "    <tr>\n",
       "      <th>25%</th>\n",
       "      <td>16.000000</td>\n",
       "      <td>2.000000</td>\n",
       "      <td>2.000000</td>\n",
       "      <td>1.000000</td>\n",
       "      <td>1.000000</td>\n",
       "      <td>0.000000</td>\n",
       "      <td>4.000000</td>\n",
       "      <td>3.000000</td>\n",
       "      <td>2.000000</td>\n",
       "      <td>1.000000</td>\n",
       "      <td>1.000000</td>\n",
       "      <td>3.000000</td>\n",
       "      <td>0.000000</td>\n",
       "      <td>8.000000</td>\n",
       "      <td>9.000000</td>\n",
       "      <td>8.000000</td>\n",
       "    </tr>\n",
       "    <tr>\n",
       "      <th>50%</th>\n",
       "      <td>17.000000</td>\n",
       "      <td>3.000000</td>\n",
       "      <td>2.000000</td>\n",
       "      <td>1.000000</td>\n",
       "      <td>2.000000</td>\n",
       "      <td>0.000000</td>\n",
       "      <td>4.000000</td>\n",
       "      <td>3.000000</td>\n",
       "      <td>3.000000</td>\n",
       "      <td>1.000000</td>\n",
       "      <td>2.000000</td>\n",
       "      <td>4.000000</td>\n",
       "      <td>4.000000</td>\n",
       "      <td>11.000000</td>\n",
       "      <td>11.000000</td>\n",
       "      <td>11.000000</td>\n",
       "    </tr>\n",
       "    <tr>\n",
       "      <th>75%</th>\n",
       "      <td>18.000000</td>\n",
       "      <td>4.000000</td>\n",
       "      <td>3.000000</td>\n",
       "      <td>2.000000</td>\n",
       "      <td>2.000000</td>\n",
       "      <td>0.000000</td>\n",
       "      <td>5.000000</td>\n",
       "      <td>4.000000</td>\n",
       "      <td>4.000000</td>\n",
       "      <td>2.000000</td>\n",
       "      <td>3.000000</td>\n",
       "      <td>5.000000</td>\n",
       "      <td>8.000000</td>\n",
       "      <td>13.000000</td>\n",
       "      <td>13.000000</td>\n",
       "      <td>14.000000</td>\n",
       "    </tr>\n",
       "    <tr>\n",
       "      <th>max</th>\n",
       "      <td>22.000000</td>\n",
       "      <td>4.000000</td>\n",
       "      <td>4.000000</td>\n",
       "      <td>4.000000</td>\n",
       "      <td>4.000000</td>\n",
       "      <td>3.000000</td>\n",
       "      <td>5.000000</td>\n",
       "      <td>5.000000</td>\n",
       "      <td>5.000000</td>\n",
       "      <td>5.000000</td>\n",
       "      <td>5.000000</td>\n",
       "      <td>5.000000</td>\n",
       "      <td>75.000000</td>\n",
       "      <td>19.000000</td>\n",
       "      <td>19.000000</td>\n",
       "      <td>20.000000</td>\n",
       "    </tr>\n",
       "  </tbody>\n",
       "</table>\n",
       "</div>"
      ],
      "text/plain": [
       "              age        Medu        Fedu  traveltime   studytime    failures  \\\n",
       "count  395.000000  394.000000  393.000000  394.000000  395.000000  394.000000   \n",
       "mean    16.696203    2.746193    2.516539    1.444162    2.035443    0.335025   \n",
       "std      1.276043    1.094306    1.088135    0.693979    0.839240    0.744405   \n",
       "min     15.000000    0.000000    0.000000    1.000000    1.000000    0.000000   \n",
       "25%     16.000000    2.000000    2.000000    1.000000    1.000000    0.000000   \n",
       "50%     17.000000    3.000000    2.000000    1.000000    2.000000    0.000000   \n",
       "75%     18.000000    4.000000    3.000000    2.000000    2.000000    0.000000   \n",
       "max     22.000000    4.000000    4.000000    4.000000    4.000000    3.000000   \n",
       "\n",
       "           famrel    freetime       goout        Dalc        Walc      health  \\\n",
       "count  394.000000  394.000000  395.000000  395.000000  394.000000  395.000000   \n",
       "mean     3.941624    3.238579    3.108861    1.481013    2.291878    3.554430   \n",
       "std      0.896214    0.998184    1.113278    0.890741    1.289450    1.390303   \n",
       "min      1.000000    1.000000    1.000000    1.000000    1.000000    1.000000   \n",
       "25%      4.000000    3.000000    2.000000    1.000000    1.000000    3.000000   \n",
       "50%      4.000000    3.000000    3.000000    1.000000    2.000000    4.000000   \n",
       "75%      5.000000    4.000000    4.000000    2.000000    3.000000    5.000000   \n",
       "max      5.000000    5.000000    5.000000    5.000000    5.000000    5.000000   \n",
       "\n",
       "         absences          G1          G2          G3  \n",
       "count  394.000000  395.000000  395.000000  395.000000  \n",
       "mean     5.713198   10.908861   10.713924   10.415190  \n",
       "std      8.012806    3.319195    3.761505    4.581443  \n",
       "min      0.000000    3.000000    0.000000    0.000000  \n",
       "25%      0.000000    8.000000    9.000000    8.000000  \n",
       "50%      4.000000   11.000000   11.000000   11.000000  \n",
       "75%      8.000000   13.000000   13.000000   14.000000  \n",
       "max     75.000000   19.000000   19.000000   20.000000  "
      ]
     },
     "execution_count": 558,
     "metadata": {},
     "output_type": "execute_result"
    }
   ],
   "source": [
    "student.describe()"
   ]
  },
  {
   "cell_type": "code",
   "execution_count": 559,
   "metadata": {},
   "outputs": [
    {
     "data": {
      "text/html": [
       "<div>\n",
       "<style>\n",
       "    .dataframe thead tr:only-child th {\n",
       "        text-align: right;\n",
       "    }\n",
       "\n",
       "    .dataframe thead th {\n",
       "        text-align: left;\n",
       "    }\n",
       "\n",
       "    .dataframe tbody tr th {\n",
       "        vertical-align: top;\n",
       "    }\n",
       "</style>\n",
       "<table border=\"1\" class=\"dataframe\">\n",
       "  <thead>\n",
       "    <tr style=\"text-align: right;\">\n",
       "      <th></th>\n",
       "      <th>school</th>\n",
       "      <th>sex</th>\n",
       "      <th>address</th>\n",
       "      <th>famsize</th>\n",
       "      <th>Pstatus</th>\n",
       "      <th>Mjob</th>\n",
       "      <th>Fjob</th>\n",
       "      <th>reason</th>\n",
       "      <th>guardian</th>\n",
       "      <th>schoolsup</th>\n",
       "      <th>famsup</th>\n",
       "      <th>paid</th>\n",
       "      <th>activities</th>\n",
       "      <th>nursery</th>\n",
       "      <th>higher</th>\n",
       "      <th>internet</th>\n",
       "      <th>romantic</th>\n",
       "    </tr>\n",
       "  </thead>\n",
       "  <tbody>\n",
       "    <tr>\n",
       "      <th>count</th>\n",
       "      <td>395</td>\n",
       "      <td>395</td>\n",
       "      <td>395</td>\n",
       "      <td>395</td>\n",
       "      <td>395</td>\n",
       "      <td>395</td>\n",
       "      <td>394</td>\n",
       "      <td>394</td>\n",
       "      <td>395</td>\n",
       "      <td>394</td>\n",
       "      <td>395</td>\n",
       "      <td>395</td>\n",
       "      <td>395</td>\n",
       "      <td>395</td>\n",
       "      <td>395</td>\n",
       "      <td>395</td>\n",
       "      <td>395</td>\n",
       "    </tr>\n",
       "    <tr>\n",
       "      <th>unique</th>\n",
       "      <td>2</td>\n",
       "      <td>2</td>\n",
       "      <td>2</td>\n",
       "      <td>2</td>\n",
       "      <td>2</td>\n",
       "      <td>5</td>\n",
       "      <td>5</td>\n",
       "      <td>4</td>\n",
       "      <td>3</td>\n",
       "      <td>2</td>\n",
       "      <td>2</td>\n",
       "      <td>2</td>\n",
       "      <td>2</td>\n",
       "      <td>2</td>\n",
       "      <td>2</td>\n",
       "      <td>2</td>\n",
       "      <td>2</td>\n",
       "    </tr>\n",
       "    <tr>\n",
       "      <th>top</th>\n",
       "      <td>GP</td>\n",
       "      <td>F</td>\n",
       "      <td>U</td>\n",
       "      <td>GT3</td>\n",
       "      <td>T</td>\n",
       "      <td>other</td>\n",
       "      <td>other</td>\n",
       "      <td>course</td>\n",
       "      <td>mother</td>\n",
       "      <td>no</td>\n",
       "      <td>yes</td>\n",
       "      <td>no</td>\n",
       "      <td>yes</td>\n",
       "      <td>yes</td>\n",
       "      <td>yes</td>\n",
       "      <td>yes</td>\n",
       "      <td>no</td>\n",
       "    </tr>\n",
       "    <tr>\n",
       "      <th>freq</th>\n",
       "      <td>349</td>\n",
       "      <td>208</td>\n",
       "      <td>307</td>\n",
       "      <td>281</td>\n",
       "      <td>354</td>\n",
       "      <td>141</td>\n",
       "      <td>216</td>\n",
       "      <td>144</td>\n",
       "      <td>273</td>\n",
       "      <td>344</td>\n",
       "      <td>242</td>\n",
       "      <td>214</td>\n",
       "      <td>201</td>\n",
       "      <td>314</td>\n",
       "      <td>375</td>\n",
       "      <td>329</td>\n",
       "      <td>263</td>\n",
       "    </tr>\n",
       "  </tbody>\n",
       "</table>\n",
       "</div>"
      ],
      "text/plain": [
       "       school  sex address famsize Pstatus   Mjob   Fjob  reason guardian  \\\n",
       "count     395  395     395     395     395    395    394     394      395   \n",
       "unique      2    2       2       2       2      5      5       4        3   \n",
       "top        GP    F       U     GT3       T  other  other  course   mother   \n",
       "freq      349  208     307     281     354    141    216     144      273   \n",
       "\n",
       "       schoolsup famsup paid activities nursery higher internet romantic  \n",
       "count        394    395  395        395     395    395      395      395  \n",
       "unique         2      2    2          2       2      2        2        2  \n",
       "top           no    yes   no        yes     yes    yes      yes       no  \n",
       "freq         344    242  214        201     314    375      329      263  "
      ]
     },
     "execution_count": 559,
     "metadata": {},
     "output_type": "execute_result"
    }
   ],
   "source": [
    "student.select_dtypes(include=['object']).describe()"
   ]
  },
  {
   "cell_type": "code",
   "execution_count": 560,
   "metadata": {},
   "outputs": [
    {
     "data": {
      "text/html": [
       "<div>\n",
       "<style>\n",
       "    .dataframe thead tr:only-child th {\n",
       "        text-align: right;\n",
       "    }\n",
       "\n",
       "    .dataframe thead th {\n",
       "        text-align: left;\n",
       "    }\n",
       "\n",
       "    .dataframe tbody tr th {\n",
       "        vertical-align: top;\n",
       "    }\n",
       "</style>\n",
       "<table border=\"1\" class=\"dataframe\">\n",
       "  <thead>\n",
       "    <tr style=\"text-align: right;\">\n",
       "      <th></th>\n",
       "      <th>0</th>\n",
       "      <th>1</th>\n",
       "    </tr>\n",
       "  </thead>\n",
       "  <tbody>\n",
       "    <tr>\n",
       "      <th>school</th>\n",
       "      <td>object</td>\n",
       "      <td>0</td>\n",
       "    </tr>\n",
       "    <tr>\n",
       "      <th>sex</th>\n",
       "      <td>object</td>\n",
       "      <td>0</td>\n",
       "    </tr>\n",
       "    <tr>\n",
       "      <th>age</th>\n",
       "      <td>int64</td>\n",
       "      <td>0</td>\n",
       "    </tr>\n",
       "    <tr>\n",
       "      <th>address</th>\n",
       "      <td>object</td>\n",
       "      <td>0</td>\n",
       "    </tr>\n",
       "    <tr>\n",
       "      <th>famsize</th>\n",
       "      <td>object</td>\n",
       "      <td>0</td>\n",
       "    </tr>\n",
       "    <tr>\n",
       "      <th>Pstatus</th>\n",
       "      <td>object</td>\n",
       "      <td>0</td>\n",
       "    </tr>\n",
       "    <tr>\n",
       "      <th>Medu</th>\n",
       "      <td>float64</td>\n",
       "      <td>1</td>\n",
       "    </tr>\n",
       "    <tr>\n",
       "      <th>Fedu</th>\n",
       "      <td>float64</td>\n",
       "      <td>2</td>\n",
       "    </tr>\n",
       "    <tr>\n",
       "      <th>Mjob</th>\n",
       "      <td>object</td>\n",
       "      <td>0</td>\n",
       "    </tr>\n",
       "    <tr>\n",
       "      <th>Fjob</th>\n",
       "      <td>object</td>\n",
       "      <td>1</td>\n",
       "    </tr>\n",
       "    <tr>\n",
       "      <th>reason</th>\n",
       "      <td>object</td>\n",
       "      <td>1</td>\n",
       "    </tr>\n",
       "    <tr>\n",
       "      <th>guardian</th>\n",
       "      <td>object</td>\n",
       "      <td>0</td>\n",
       "    </tr>\n",
       "    <tr>\n",
       "      <th>traveltime</th>\n",
       "      <td>float64</td>\n",
       "      <td>1</td>\n",
       "    </tr>\n",
       "    <tr>\n",
       "      <th>studytime</th>\n",
       "      <td>int64</td>\n",
       "      <td>0</td>\n",
       "    </tr>\n",
       "    <tr>\n",
       "      <th>failures</th>\n",
       "      <td>float64</td>\n",
       "      <td>1</td>\n",
       "    </tr>\n",
       "    <tr>\n",
       "      <th>schoolsup</th>\n",
       "      <td>object</td>\n",
       "      <td>1</td>\n",
       "    </tr>\n",
       "    <tr>\n",
       "      <th>famsup</th>\n",
       "      <td>object</td>\n",
       "      <td>0</td>\n",
       "    </tr>\n",
       "    <tr>\n",
       "      <th>paid</th>\n",
       "      <td>object</td>\n",
       "      <td>0</td>\n",
       "    </tr>\n",
       "    <tr>\n",
       "      <th>activities</th>\n",
       "      <td>object</td>\n",
       "      <td>0</td>\n",
       "    </tr>\n",
       "    <tr>\n",
       "      <th>nursery</th>\n",
       "      <td>object</td>\n",
       "      <td>0</td>\n",
       "    </tr>\n",
       "    <tr>\n",
       "      <th>higher</th>\n",
       "      <td>object</td>\n",
       "      <td>0</td>\n",
       "    </tr>\n",
       "    <tr>\n",
       "      <th>internet</th>\n",
       "      <td>object</td>\n",
       "      <td>0</td>\n",
       "    </tr>\n",
       "    <tr>\n",
       "      <th>romantic</th>\n",
       "      <td>object</td>\n",
       "      <td>0</td>\n",
       "    </tr>\n",
       "    <tr>\n",
       "      <th>famrel</th>\n",
       "      <td>float64</td>\n",
       "      <td>1</td>\n",
       "    </tr>\n",
       "    <tr>\n",
       "      <th>freetime</th>\n",
       "      <td>float64</td>\n",
       "      <td>1</td>\n",
       "    </tr>\n",
       "    <tr>\n",
       "      <th>goout</th>\n",
       "      <td>int64</td>\n",
       "      <td>0</td>\n",
       "    </tr>\n",
       "    <tr>\n",
       "      <th>Dalc</th>\n",
       "      <td>int64</td>\n",
       "      <td>0</td>\n",
       "    </tr>\n",
       "    <tr>\n",
       "      <th>Walc</th>\n",
       "      <td>float64</td>\n",
       "      <td>1</td>\n",
       "    </tr>\n",
       "    <tr>\n",
       "      <th>health</th>\n",
       "      <td>int64</td>\n",
       "      <td>0</td>\n",
       "    </tr>\n",
       "    <tr>\n",
       "      <th>absences</th>\n",
       "      <td>float64</td>\n",
       "      <td>1</td>\n",
       "    </tr>\n",
       "    <tr>\n",
       "      <th>G1</th>\n",
       "      <td>int64</td>\n",
       "      <td>0</td>\n",
       "    </tr>\n",
       "    <tr>\n",
       "      <th>G2</th>\n",
       "      <td>int64</td>\n",
       "      <td>0</td>\n",
       "    </tr>\n",
       "    <tr>\n",
       "      <th>G3</th>\n",
       "      <td>int64</td>\n",
       "      <td>0</td>\n",
       "    </tr>\n",
       "  </tbody>\n",
       "</table>\n",
       "</div>"
      ],
      "text/plain": [
       "                  0  1\n",
       "school       object  0\n",
       "sex          object  0\n",
       "age           int64  0\n",
       "address      object  0\n",
       "famsize      object  0\n",
       "Pstatus      object  0\n",
       "Medu        float64  1\n",
       "Fedu        float64  2\n",
       "Mjob         object  0\n",
       "Fjob         object  1\n",
       "reason       object  1\n",
       "guardian     object  0\n",
       "traveltime  float64  1\n",
       "studytime     int64  0\n",
       "failures    float64  1\n",
       "schoolsup    object  1\n",
       "famsup       object  0\n",
       "paid         object  0\n",
       "activities   object  0\n",
       "nursery      object  0\n",
       "higher       object  0\n",
       "internet     object  0\n",
       "romantic     object  0\n",
       "famrel      float64  1\n",
       "freetime    float64  1\n",
       "goout         int64  0\n",
       "Dalc          int64  0\n",
       "Walc        float64  1\n",
       "health        int64  0\n",
       "absences    float64  1\n",
       "G1            int64  0\n",
       "G2            int64  0\n",
       "G3            int64  0"
      ]
     },
     "execution_count": 560,
     "metadata": {},
     "output_type": "execute_result"
    }
   ],
   "source": [
    "pd.concat([student.dtypes,student.isnull().sum()],axis=1)"
   ]
  },
  {
   "cell_type": "code",
   "execution_count": 561,
   "metadata": {},
   "outputs": [
    {
     "name": "stdout",
     "output_type": "stream",
     "text": [
      "Medu 1\n",
      "Fedu 2\n",
      "Fjob 1\n",
      "reason 1\n",
      "traveltime 1\n",
      "failures 1\n",
      "schoolsup 1\n",
      "famrel 1\n",
      "freetime 1\n",
      "Walc 1\n",
      "absences 1\n",
      "Conclusion: There are  11  NULL values\n"
     ]
    }
   ],
   "source": [
    "a=[]\n",
    "for i in range(len(student.isnull().sum())):\n",
    "        if student.isnull().sum()[i]>0:\n",
    "            a.append(student.isnull().sum()[i])\n",
    "            print (student.columns[i],student.isnull().sum()[i])\n",
    "print('Conclusion: There are ',len(a),' NULL values')"
   ]
  },
  {
   "cell_type": "markdown",
   "metadata": {},
   "source": [
    "### Cleaning data"
   ]
  },
  {
   "cell_type": "markdown",
   "metadata": {},
   "source": [
    "##### Categorical variables"
   ]
  },
  {
   "cell_type": "code",
   "execution_count": 562,
   "metadata": {
    "collapsed": true
   },
   "outputs": [],
   "source": [
    "#Fjob, reason, schoolsup\n",
    "student[\"Fjob\"].value_counts() \n",
    "student=student.fillna({\"Fjob\": \"other\"})"
   ]
  },
  {
   "cell_type": "code",
   "execution_count": 563,
   "metadata": {
    "collapsed": true
   },
   "outputs": [],
   "source": [
    "student[\"reason\"].value_counts() \n",
    "student=student.fillna({\"reason\": \"course\"})"
   ]
  },
  {
   "cell_type": "code",
   "execution_count": 564,
   "metadata": {
    "collapsed": true
   },
   "outputs": [],
   "source": [
    "student[\"schoolsup\"].value_counts() \n",
    "student=student.fillna({\"schoolsup\": \"no\"})"
   ]
  },
  {
   "cell_type": "markdown",
   "metadata": {},
   "source": [
    "##### Numerical variables"
   ]
  },
  {
   "cell_type": "code",
   "execution_count": 565,
   "metadata": {
    "collapsed": true
   },
   "outputs": [],
   "source": [
    "student.traveltime.fillna(np.average(student.traveltime.dropna()), inplace=True)\n",
    "student.Medu.fillna(np.average(student.Medu.dropna()), inplace=True)\n",
    "student.failures.fillna(np.average(student.failures.dropna()), inplace=True)\n",
    "student.Fedu.fillna(np.average(student.Fedu.dropna()), inplace=True)\n",
    "student.famrel.fillna(np.average(student.famrel.dropna()), inplace=True)\n",
    "student.freetime.fillna(np.average(student.freetime.dropna()), inplace=True)\n",
    "student.Walc.fillna(np.average(student.Walc.dropna()), inplace=True)\n",
    "student.absences.fillna(np.average(student.absences.dropna()), inplace=True)"
   ]
  },
  {
   "cell_type": "code",
   "execution_count": 566,
   "metadata": {},
   "outputs": [
    {
     "name": "stdout",
     "output_type": "stream",
     "text": [
      "Conclusion: There are  0  NULL values\n"
     ]
    }
   ],
   "source": [
    "a=[]\n",
    "for i in range(len(student.isnull().sum())):\n",
    "        if student.isnull().sum()[i]>0:\n",
    "            a.append(student.isnull().sum()[i])\n",
    "            print (student.columns[i],student.isnull().sum()[i])\n",
    "print('Conclusion: There are ',len(a),' NULL values')"
   ]
  },
  {
   "cell_type": "markdown",
   "metadata": {},
   "source": [
    "#### Dummy variables"
   ]
  },
  {
   "cell_type": "code",
   "execution_count": 567,
   "metadata": {
    "collapsed": true
   },
   "outputs": [],
   "source": [
    "dummies=pd.get_dummies(student[['school', 'sex', 'address', 'famsize', 'Pstatus', 'Mjob', 'Fjob',\n",
    "       'reason', 'guardian', 'schoolsup', 'famsup', 'paid', 'activities',\n",
    "       'nursery', 'higher', 'internet', 'romantic']])"
   ]
  },
  {
   "cell_type": "code",
   "execution_count": 568,
   "metadata": {
    "collapsed": true
   },
   "outputs": [],
   "source": [
    "student_dummies=student.drop(student[['school', 'sex', 'address', 'famsize', 'Pstatus', 'Mjob', 'Fjob',\n",
    "       'reason', 'guardian', 'schoolsup', 'famsup', 'paid', 'activities',\n",
    "       'nursery', 'higher', 'internet', 'romantic']], axis=1)"
   ]
  },
  {
   "cell_type": "code",
   "execution_count": 569,
   "metadata": {
    "collapsed": true
   },
   "outputs": [],
   "source": [
    "student_dummies=student_dummies.join(dummies)"
   ]
  },
  {
   "cell_type": "code",
   "execution_count": 570,
   "metadata": {
    "collapsed": true
   },
   "outputs": [],
   "source": [
    "#Grade>=10 passed(1); Grade<10 failed(0)\n",
    "for i in range(student_dummies.columns.get_loc(\"G1\"),student_dummies.columns.get_loc(\"G3\")+1):\n",
    "    student_dummies.iloc[:,i] = np.where(student_dummies.iloc[:,i]<10, 0, 1)"
   ]
  },
  {
   "cell_type": "markdown",
   "metadata": {
    "collapsed": true
   },
   "source": [
    "# Multi class classification\n",
    "# 1. Problem transformation methods"
   ]
  },
  {
   "cell_type": "markdown",
   "metadata": {},
   "source": [
    "##     a)The binary relevance method (BR)\n",
    "the simplest problem transformation method\n",
    "BR learns a binary classifier for each label\n",
    "\n",
    "--- labels are predicted independently of each other and label dependencies are not taken into account."
   ]
  },
  {
   "cell_type": "code",
   "execution_count": 571,
   "metadata": {},
   "outputs": [
    {
     "data": {
      "image/png": "[encoded data removed]",
      "text/plain": [
       "<IPython.core.display.Image object>"
      ]
     },
     "execution_count": 571,
     "metadata": {
      "image/png": {
       "height": 300,
       "width": 500
      }
     },
     "output_type": "execute_result"
    }
   ],
   "source": [
    "Image(filename=\"C:\\\\Users\\\\Dusica\\\\Desktop\\\\RESURSII ZA MLC\\\\BinaryRelevance2.png\",width=500, height=300)"
   ]
  },
  {
   "cell_type": "markdown",
   "metadata": {},
   "source": [
    "### TARGET LABELS [G1, G2, G3]"
   ]
  },
  {
   "cell_type": "code",
   "execution_count": 572,
   "metadata": {
    "collapsed": true
   },
   "outputs": [],
   "source": [
    "x=student_dummies.drop(['G1','G2','G3'],axis=1)"
   ]
  },
  {
   "cell_type": "code",
   "execution_count": 573,
   "metadata": {
    "collapsed": true
   },
   "outputs": [],
   "source": [
    "y=student_dummies[['G1','G2','G3']]"
   ]
  },
  {
   "cell_type": "code",
   "execution_count": 574,
   "metadata": {
    "collapsed": true
   },
   "outputs": [],
   "source": [
    "a_train, a_test, b_train, b_test = train_test_split(x,y, test_size=0.3, random_state=42)"
   ]
  },
  {
   "cell_type": "code",
   "execution_count": 575,
   "metadata": {},
   "outputs": [],
   "source": [
    "#classifier = BinaryRelevance(RandomForestClassifier())\n",
    "#classifier = BinaryRelevance(GaussianNB())\n",
    "classifier = BinaryRelevance(LogisticRegression())\n",
    "\n",
    "# train\n",
    "classifier.fit(a_train, b_train)\n",
    "\n",
    "# predict\n",
    "predictions = classifier.predict(a_test)"
   ]
  },
  {
   "cell_type": "code",
   "execution_count": 576,
   "metadata": {},
   "outputs": [
    {
     "data": {
      "text/plain": [
       "matrix([[0, 0, 0],\n",
       "        [1, 0, 0],\n",
       "        [1, 1, 0],\n",
       "        [1, 1, 1],\n",
       "        [1, 0, 0]], dtype=int32)"
      ]
     },
     "execution_count": 576,
     "metadata": {},
     "output_type": "execute_result"
    }
   ],
   "source": [
    "predictions.todense()[0:5]"
   ]
  },
  {
   "cell_type": "code",
   "execution_count": 577,
   "metadata": {},
   "outputs": [
    {
     "name": "stdout",
     "output_type": "stream",
     "text": [
      "+-----------+----------------+\n",
      "|  Measures |     Value      |\n",
      "+-----------+----------------+\n",
      "|  Accuracy | 0.521008403361 |\n",
      "| Precision | 0.673772956807 |\n",
      "|   Recall  | 0.913084019504 |\n",
      "|  0/1 loss | 0.478991596639 |\n",
      "|     F1    | 0.775129172036 |\n",
      "+-----------+----------------+\n"
     ]
    }
   ],
   "source": [
    "t = PrettyTable(['Measures', 'Value'])\n",
    "t.add_row(['Accuracy',accuracy_score(b_test,predictions)])\n",
    "t.add_row(['Precision',precision_score(b_test,predictions,average='macro')])\n",
    "t.add_row(['Recall',recall_score(b_test,predictions,average='macro')])\n",
    "t.add_row(['0/1 loss',zero_one_loss(b_test,predictions)])\n",
    "t.add_row(['F1',f1_score(b_test,predictions,average='macro')])\n",
    "print(t)"
   ]
  },
  {
   "cell_type": "markdown",
   "metadata": {},
   "source": [
    "### *TARGET LABELS  [G2, G3]"
   ]
  },
  {
   "cell_type": "code",
   "execution_count": 578,
   "metadata": {
    "collapsed": true
   },
   "outputs": [],
   "source": [
    "x2=student_dummies.drop(['G2','G3'],axis=1)"
   ]
  },
  {
   "cell_type": "code",
   "execution_count": 579,
   "metadata": {
    "collapsed": true
   },
   "outputs": [],
   "source": [
    "y2=student_dummies[['G2','G3']]"
   ]
  },
  {
   "cell_type": "code",
   "execution_count": 580,
   "metadata": {
    "collapsed": true
   },
   "outputs": [],
   "source": [
    "a2_train, a2_test, b2_train, b2_test = train_test_split(x2,y2, test_size=0.3, random_state=42)"
   ]
  },
  {
   "cell_type": "code",
   "execution_count": 581,
   "metadata": {
    "collapsed": true
   },
   "outputs": [],
   "source": [
    "#classifier = BinaryRelevance(RandomForestClassifier())\n",
    "#classifier = BinaryRelevance(GaussianNB())\n",
    "classifier = BinaryRelevance(LogisticRegression())\n",
    "\n",
    "# train\n",
    "classifier.fit(a2_train, b2_train)\n",
    "\n",
    "# predict\n",
    "predictions2 = classifier.predict(a2_test)"
   ]
  },
  {
   "cell_type": "code",
   "execution_count": 582,
   "metadata": {},
   "outputs": [
    {
     "name": "stdout",
     "output_type": "stream",
     "text": [
      "+-----------+----------------+\n",
      "|  Measures |     Value      |\n",
      "+-----------+----------------+\n",
      "|  Accuracy | 0.764705882353 |\n",
      "| Precision | 0.828114700066 |\n",
      "|   Recall  | 0.929327521793 |\n",
      "|  0/1 loss | 0.235294117647 |\n",
      "|     F1    | 0.875806451613 |\n",
      "+-----------+----------------+\n"
     ]
    }
   ],
   "source": [
    "t2 = PrettyTable(['Measures', 'Value'])\n",
    "t2.add_row(['Accuracy',accuracy_score(b2_test,predictions2)])\n",
    "t2.add_row(['Precision',precision_score(b2_test,predictions2,average='macro')])\n",
    "t2.add_row(['Recall',recall_score(b2_test,predictions2,average='macro')])\n",
    "t2.add_row(['0/1 loss',zero_one_loss(b2_test,predictions2)])\n",
    "t2.add_row(['F1',f1_score(b2_test,predictions2,average='macro')])\n",
    "print(t2)"
   ]
  },
  {
   "cell_type": "code",
   "execution_count": 583,
   "metadata": {},
   "outputs": [
    {
     "name": "stdout",
     "output_type": "stream",
     "text": [
      "+-----------+----------------+\n",
      "|  Measures |     Value      |\n",
      "+-----------+----------------+\n",
      "|  Accuracy | 0.521008403361 |\n",
      "| Precision | 0.673772956807 |\n",
      "|   Recall  | 0.913084019504 |\n",
      "|  0/1 loss | 0.478991596639 |\n",
      "|     F1    | 0.775129172036 |\n",
      "+-----------+----------------+\n",
      "+-----------+----------------+\n",
      "|  Measures |     Value      |\n",
      "+-----------+----------------+\n",
      "|  Accuracy | 0.764705882353 |\n",
      "| Precision | 0.828114700066 |\n",
      "|   Recall  | 0.929327521793 |\n",
      "|  0/1 loss | 0.235294117647 |\n",
      "|     F1    | 0.875806451613 |\n",
      "+-----------+----------------+\n"
     ]
    }
   ],
   "source": [
    "print(t)\n",
    "print(t2)"
   ]
  },
  {
   "cell_type": "markdown",
   "metadata": {},
   "source": [
    "## b) Classifier Chains\n",
    " -The first classifier is trained just on the input data and then each next classifier is trained on the input space and all the previous classifiers in the chain."
   ]
  },
  {
   "cell_type": "code",
   "execution_count": 584,
   "metadata": {},
   "outputs": [
    {
     "data": {
      "image/png": "[encoded data removed]",
      "text/plain": [
       "<IPython.core.display.Image object>"
      ]
     },
     "execution_count": 584,
     "metadata": {
      "image/png": {
       "height": 700,
       "width": 700
      }
     },
     "output_type": "execute_result"
    }
   ],
   "source": [
    "Image(filename=\"C:\\\\Users\\\\Dusica\\\\Desktop\\\\RESURSII ZA MLC\\\\ClassifierChains.png\",width=700, height=700)"
   ]
  },
  {
   "cell_type": "markdown",
   "metadata": {},
   "source": [
    "### TARGET LABELS [G1, G2, G3]"
   ]
  },
  {
   "cell_type": "code",
   "execution_count": 585,
   "metadata": {},
   "outputs": [
    {
     "name": "stdout",
     "output_type": "stream",
     "text": [
      "+-----------+----------------+\n",
      "|  Measures |     Value      |\n",
      "+-----------+----------------+\n",
      "|  Accuracy | 0.571428571429 |\n",
      "| Precision | 0.65817770232  |\n",
      "|   Recall  | 0.898416799357 |\n",
      "|  0/1 loss | 0.428571428571 |\n",
      "|     F1    | 0.759535040431 |\n",
      "+-----------+----------------+\n"
     ]
    }
   ],
   "source": [
    "classifier = ClassifierChain(LogisticRegression())\n",
    "\n",
    "# train\n",
    "classifier.fit(a_train, b_train)\n",
    "\n",
    "# predict\n",
    "predictions = classifier.predict(a_test)\n",
    " \n",
    " \n",
    "t = PrettyTable(['Measures', 'Value'])\n",
    "t.add_row(['Accuracy',accuracy_score(b_test,predictions)])\n",
    "t.add_row(['Precision',precision_score(b_test,predictions,average='macro')])\n",
    "t.add_row(['Recall',recall_score(b_test,predictions,average='macro')])\n",
    "t.add_row(['0/1 loss',zero_one_loss(b_test,predictions)])\n",
    "t.add_row(['F1',f1_score(b_test,predictions,average='macro')])\n",
    "print(t) "
   ]
  },
  {
   "cell_type": "code",
   "execution_count": 586,
   "metadata": {
    "collapsed": true
   },
   "outputs": [],
   "source": [
    "#Nested stacking\n",
    "#proba"
   ]
  },
  {
   "cell_type": "code",
   "execution_count": 587,
   "metadata": {},
   "outputs": [
    {
     "data": {
      "image/png": "[encoded data removed]",
      "text/plain": [
       "<IPython.core.display.Image object>"
      ]
     },
     "execution_count": 587,
     "metadata": {
      "image/png": {
       "height": 700,
       "width": 700
      }
     },
     "output_type": "execute_result"
    }
   ],
   "source": [
    "Image(filename=\"C:\\\\Users\\\\Dusica\\\\Desktop\\\\RESURSII ZA MLC\\\\NestedStacking.png\",width=700, height=700)"
   ]
  },
  {
   "cell_type": "code",
   "execution_count": 589,
   "metadata": {
    "collapsed": true
   },
   "outputs": [],
   "source": [
    "x1_ns=x\n",
    "y1_ns=y['G1']"
   ]
  },
  {
   "cell_type": "code",
   "execution_count": 590,
   "metadata": {},
   "outputs": [
    {
     "data": {
      "text/plain": [
       "0.65822784810126578"
      ]
     },
     "execution_count": 590,
     "metadata": {},
     "output_type": "execute_result"
    }
   ],
   "source": [
    "predicted_G1 = cross_val_predict(LogisticRegression(), x1_ns, y1_ns, cv=2)\n",
    "accuracy_score(y1_ns, predicted_G1) "
   ]
  },
  {
   "cell_type": "code",
   "execution_count": 591,
   "metadata": {
    "collapsed": true
   },
   "outputs": [],
   "source": [
    "x1_ns['predicted_G1']=predicted_G1\n",
    "y2_ns=y['G2']"
   ]
  },
  {
   "cell_type": "code",
   "execution_count": 592,
   "metadata": {},
   "outputs": [
    {
     "data": {
      "text/plain": [
       "0.67594936708860764"
      ]
     },
     "execution_count": 592,
     "metadata": {},
     "output_type": "execute_result"
    }
   ],
   "source": [
    "predicted_G2 = cross_val_predict(LogisticRegression(), x1_ns, y2_ns, cv=2)\n",
    "accuracy_score(y2_ns, predicted_G2) "
   ]
  },
  {
   "cell_type": "code",
   "execution_count": 593,
   "metadata": {
    "collapsed": true
   },
   "outputs": [],
   "source": [
    "x1_ns['predicted_G2']=predicted_G2\n",
    "y3_ns=y['G3']"
   ]
  },
  {
   "cell_type": "code",
   "execution_count": 594,
   "metadata": {},
   "outputs": [
    {
     "data": {
      "text/plain": [
       "0.66075949367088604"
      ]
     },
     "execution_count": 594,
     "metadata": {},
     "output_type": "execute_result"
    }
   ],
   "source": [
    "predicted_G3 = cross_val_predict(LogisticRegression(), x1_ns, y3_ns, cv=2)\n",
    "accuracy_score(y3_ns, predicted_G3) "
   ]
  },
  {
   "cell_type": "code",
   "execution_count": 595,
   "metadata": {
    "collapsed": true
   },
   "outputs": [],
   "source": [
    "#Dependent binary relevance - DBR\n",
    "#proba"
   ]
  },
  {
   "cell_type": "code",
   "execution_count": 596,
   "metadata": {},
   "outputs": [
    {
     "data": {
      "image/png": "[encoded data removed]",
      "text/plain": [
       "<IPython.core.display.Image object>"
      ]
     },
     "execution_count": 596,
     "metadata": {
      "image/png": {
       "height": 700,
       "width": 700
      }
     },
     "output_type": "execute_result"
    }
   ],
   "source": [
    "Image(filename=\"C:\\\\Users\\\\Dusica\\\\Desktop\\\\RESURSII ZA MLC\\\\dbr.png\",width=700, height=700)"
   ]
  },
  {
   "cell_type": "code",
   "execution_count": 598,
   "metadata": {
    "collapsed": true
   },
   "outputs": [],
   "source": [
    "x1_dbr=student_dummies.drop('G1',axis=1)\n",
    "y1_dbr=y['G1']"
   ]
  },
  {
   "cell_type": "code",
   "execution_count": 599,
   "metadata": {},
   "outputs": [
    {
     "data": {
      "text/plain": [
       "0.84303797468354436"
      ]
     },
     "execution_count": 599,
     "metadata": {},
     "output_type": "execute_result"
    }
   ],
   "source": [
    "predicted_G1 = cross_val_predict(LogisticRegression(), x1_dbr, y1_dbr, cv=5)\n",
    "accuracy_score(y1_dbr, predicted_G1) "
   ]
  },
  {
   "cell_type": "code",
   "execution_count": 600,
   "metadata": {
    "collapsed": true
   },
   "outputs": [],
   "source": [
    "x2_dbr=student_dummies.drop('G2',axis=1)\n",
    "y2_dbr=y['G2']"
   ]
  },
  {
   "cell_type": "code",
   "execution_count": 601,
   "metadata": {},
   "outputs": [
    {
     "data": {
      "text/plain": [
       "0.91392405063291138"
      ]
     },
     "execution_count": 601,
     "metadata": {},
     "output_type": "execute_result"
    }
   ],
   "source": [
    "predicted_G2 = cross_val_predict(LogisticRegression(), x2_dbr, y2_dbr, cv=5)\n",
    "accuracy_score(y2_dbr, predicted_G2) "
   ]
  },
  {
   "cell_type": "code",
   "execution_count": 602,
   "metadata": {
    "collapsed": true
   },
   "outputs": [],
   "source": [
    "x3_dbr=student_dummies.drop('G3',axis=1)\n",
    "y3_dbr=y['G3']"
   ]
  },
  {
   "cell_type": "code",
   "execution_count": 603,
   "metadata": {},
   "outputs": [
    {
     "data": {
      "text/plain": [
       "0.89367088607594936"
      ]
     },
     "execution_count": 603,
     "metadata": {},
     "output_type": "execute_result"
    }
   ],
   "source": [
    "predicted_G3 = cross_val_predict(LogisticRegression(), x3_dbr, y3_dbr, cv=5)\n",
    "accuracy_score(y3_dbr, predicted_G3) "
   ]
  },
  {
   "cell_type": "markdown",
   "metadata": {},
   "source": [
    "### *TARGET LABELS [G2, G3]"
   ]
  },
  {
   "cell_type": "code",
   "execution_count": 604,
   "metadata": {},
   "outputs": [
    {
     "name": "stdout",
     "output_type": "stream",
     "text": [
      "+-----------+----------------+\n",
      "|  Measures |     Value      |\n",
      "+-----------+----------------+\n",
      "|  Accuracy | 0.806722689076 |\n",
      "| Precision | 0.839255922589 |\n",
      "|   Recall  | 0.936176836862 |\n",
      "|  0/1 loss | 0.193277310924 |\n",
      "|     F1    | 0.885064935065 |\n",
      "+-----------+----------------+\n"
     ]
    }
   ],
   "source": [
    "classifier = ClassifierChain(LogisticRegression())\n",
    "\n",
    "# train\n",
    "classifier.fit(a2_train, b2_train)\n",
    "\n",
    "# predict\n",
    "predictions2 = classifier.predict(a2_test)\n",
    " \n",
    " \n",
    "t = PrettyTable(['Measures', 'Value'])\n",
    "t.add_row(['Accuracy',accuracy_score(b2_test,predictions2)])\n",
    "t.add_row(['Precision',precision_score(b2_test,predictions2,average='macro')])\n",
    "t.add_row(['Recall',recall_score(b2_test,predictions2,average='macro')])\n",
    "t.add_row(['0/1 loss',zero_one_loss(b2_test,predictions2)])\n",
    "t.add_row(['F1',f1_score(b2_test,predictions2,average='macro')])\n",
    "print(t)"
   ]
  },
  {
   "cell_type": "markdown",
   "metadata": {},
   "source": [
    "## c) Label Powerset\n",
    "It transforms the problem into a multi-class problem with one multi-class classifier which is trained on all unique label combinations found in the training data.\n",
    "x1 and x4 have the same labels, similarly, x3 and x6 have the same set of labels. Label powerset transforms this problem into a single multi-class problem as shown below.\n",
    "Disadvantage:  The only disadvantage of this is that as the training data increases, number of classes also inreases, and measure values decrease.  "
   ]
  },
  {
   "cell_type": "code",
   "execution_count": 605,
   "metadata": {},
   "outputs": [
    {
     "data": {
      "image/png": "[encoded data removed]",
      "text/plain": [
       "<IPython.core.display.Image object>"
      ]
     },
     "execution_count": 605,
     "metadata": {
      "image/png": {
       "height": 300,
       "width": 500
      }
     },
     "output_type": "execute_result"
    }
   ],
   "source": [
    "Image(filename=\"C:\\\\Users\\\\Dusica\\\\Desktop\\\\RESURSII ZA MLC\\\\LabelPowerset2.png\",width=500, height=300)"
   ]
  },
  {
   "cell_type": "markdown",
   "metadata": {},
   "source": [
    "### TARGET LABELS [G1, G2, G3]"
   ]
  },
  {
   "cell_type": "code",
   "execution_count": 606,
   "metadata": {},
   "outputs": [
    {
     "name": "stdout",
     "output_type": "stream",
     "text": [
      "+-----------+----------------+\n",
      "|  Measures |     Value      |\n",
      "+-----------+----------------+\n",
      "|  Accuracy | 0.588235294118 |\n",
      "| Precision | 0.664059138854 |\n",
      "|   Recall  | 0.922625353928 |\n",
      "|  0/1 loss | 0.411764705882 |\n",
      "|     F1    | 0.772061868226 |\n",
      "+-----------+----------------+\n"
     ]
    }
   ],
   "source": [
    "classifier = LabelPowerset(LogisticRegression())\n",
    "\n",
    "# train\n",
    "classifier.fit(a_train, b_train)\n",
    "\n",
    "# predict\n",
    "predictions = classifier.predict(a_test)\n",
    "\n",
    "t = PrettyTable(['Measures', 'Value'])\n",
    "t.add_row(['Accuracy',accuracy_score(b_test,predictions)])\n",
    "t.add_row(['Precision',precision_score(b_test,predictions,average='macro')])\n",
    "t.add_row(['Recall',recall_score(b_test,predictions,average='macro')])\n",
    "t.add_row(['0/1 loss',zero_one_loss(b_test,predictions)])\n",
    "t.add_row(['F1',f1_score(b_test,predictions,average='macro')])\n",
    "print(t) "
   ]
  },
  {
   "cell_type": "markdown",
   "metadata": {
    "collapsed": true
   },
   "source": [
    "### *TARGET LABELS [G2, G3]"
   ]
  },
  {
   "cell_type": "code",
   "execution_count": 620,
   "metadata": {},
   "outputs": [
    {
     "name": "stdout",
     "output_type": "stream",
     "text": [
      "+-----------+----------------+\n",
      "|  Measures |     Value      |\n",
      "+-----------+----------------+\n",
      "|  Accuracy | 0.789915966387 |\n",
      "| Precision | 0.819198873416 |\n",
      "|   Recall  | 0.943752594438 |\n",
      "|  0/1 loss | 0.210084033613 |\n",
      "|     F1    | 0.87703962704  |\n",
      "+-----------+----------------+\n"
     ]
    }
   ],
   "source": [
    "classifier = LabelPowerset(LogisticRegression())\n",
    "\n",
    "# train\n",
    "classifier.fit(a2_train, b2_train)\n",
    "\n",
    "# predict\n",
    "predictions = classifier.predict(a2_test)\n",
    "\n",
    " \n",
    "t = PrettyTable(['Measures', 'Value'])\n",
    "t.add_row(['Accuracy',accuracy_score(b2_test,predictions)])\n",
    "t.add_row(['Precision',precision_score(b2_test,predictions,average='macro')])\n",
    "t.add_row(['Recall',recall_score(b2_test,predictions,average='macro')])\n",
    "t.add_row(['0/1 loss',zero_one_loss(b2_test,predictions)])\n",
    "t.add_row(['F1',f1_score(b2_test,predictions,average='macro')])\n",
    "print(t) "
   ]
  },
  {
   "cell_type": "markdown",
   "metadata": {
    "collapsed": true
   },
   "source": [
    "# 2. Algorithm adaptation methods\n",
    "\n",
    "Adapted algorithm, as the name suggests, adapting the algorithm to directly perform multi-label classification, rather than transforming the problem into different subsets of problems.\n",
    "\n",
    "multi-label version of kNN is represented by MLkNN"
   ]
  },
  {
   "cell_type": "markdown",
   "metadata": {},
   "source": [
    "### TARGET LABELS [G1, G2, G3]"
   ]
  },
  {
   "cell_type": "code",
   "execution_count": 621,
   "metadata": {
    "collapsed": true
   },
   "outputs": [],
   "source": [
    "a_train_sp=scipy.sparse.csr_matrix(a_train.values)\n",
    "b_train_sp=scipy.sparse.csr_matrix(b_train.values)\n",
    "a_test_sp=scipy.sparse.csr_matrix(a_test.values)\n",
    "b_test_sp=scipy.sparse.csr_matrix(b_test.values)"
   ]
  },
  {
   "cell_type": "code",
   "execution_count": 622,
   "metadata": {},
   "outputs": [
    {
     "name": "stdout",
     "output_type": "stream",
     "text": [
      "+-----------+----------------+\n",
      "|  Measures |     Value      |\n",
      "+-----------+----------------+\n",
      "|  Accuracy | 0.487394957983 |\n",
      "| Precision | 0.619729708547 |\n",
      "|   Recall  | 0.953853604539 |\n",
      "|  0/1 loss | 0.512605042017 |\n",
      "|     F1    | 0.74959880321  |\n",
      "+-----------+----------------+\n"
     ]
    }
   ],
   "source": [
    "classifier = MLkNN(k=20)\n",
    "\n",
    "# train\n",
    "classifier.fit(a_train_sp, b_train_sp)\n",
    "\n",
    "# predict\n",
    "predictions = classifier.predict(a_test_sp)\n",
    "#predict_proba\n",
    "\n",
    " \n",
    "t = PrettyTable(['Measures', 'Value'])\n",
    "t.add_row(['Accuracy',accuracy_score(b_test_sp,predictions)])\n",
    "t.add_row(['Precision',precision_score(b_test_sp,predictions,average='macro')])\n",
    "t.add_row(['Recall',recall_score(b_test_sp,predictions,average='macro')])\n",
    "t.add_row(['0/1 loss',zero_one_loss(b_test_sp,predictions)])\n",
    "t.add_row(['F1',f1_score(b_test_sp,predictions,average='macro')])\n",
    "print(t) "
   ]
  },
  {
   "cell_type": "code",
   "execution_count": 623,
   "metadata": {},
   "outputs": [
    {
     "name": "stdout",
     "output_type": "stream",
     "text": [
      "+-----------+----------------+\n",
      "|  Measures |     Value      |\n",
      "+-----------+----------------+\n",
      "|  Accuracy | 0.504201680672 |\n",
      "| Precision | 0.597442313039 |\n",
      "|   Recall  | 0.951324737871 |\n",
      "|  0/1 loss | 0.495798319328 |\n",
      "|     F1    | 0.733667116126 |\n",
      "+-----------+----------------+\n"
     ]
    }
   ],
   "source": [
    "classifier = BRkNNaClassifier(k=4)\n",
    "\n",
    "# train\n",
    "classifier.fit(a_train_sp, b_train_sp)\n",
    "\n",
    "# predict\n",
    "predictions = classifier.predict(a_test_sp)\n",
    "#predict_proba\n",
    "\n",
    "\n",
    "t = PrettyTable(['Measures', 'Value'])\n",
    "t.add_row(['Accuracy',accuracy_score(b_test,predictions)])\n",
    "t.add_row(['Precision',precision_score(b_test,predictions,average='macro')])\n",
    "t.add_row(['Recall',recall_score(b_test,predictions,average='macro')])\n",
    "t.add_row(['0/1 loss',zero_one_loss(b_test,predictions)])\n",
    "t.add_row(['F1',f1_score(b_test,predictions,average='macro')])\n",
    "print(t) "
   ]
  },
  {
   "cell_type": "markdown",
   "metadata": {
    "collapsed": true
   },
   "source": [
    "### *TARGET LABELS [G2, G3]"
   ]
  },
  {
   "cell_type": "code",
   "execution_count": 627,
   "metadata": {
    "collapsed": true
   },
   "outputs": [],
   "source": [
    "a2_train_sp=scipy.sparse.csr_matrix(a2_train.values)\n",
    "b2_train_sp=scipy.sparse.csr_matrix(b2_train.values)\n",
    "a2_test_sp=scipy.sparse.csr_matrix(a2_test.values)\n",
    "b2_test_sp=scipy.sparse.csr_matrix(b2_test.values)"
   ]
  },
  {
   "cell_type": "code",
   "execution_count": 628,
   "metadata": {},
   "outputs": [
    {
     "data": {
      "text/plain": [
       "0.60504201680672265"
      ]
     },
     "execution_count": 628,
     "metadata": {},
     "output_type": "execute_result"
    }
   ],
   "source": [
    "classifier = MLkNN(k=20)\n",
    "\n",
    "# train\n",
    "classifier.fit(a2_train_sp, b2_train_sp)\n",
    "\n",
    "# predict\n",
    "predictions = classifier.predict(a2_test_sp)\n",
    "#predict_proba\n",
    "\n",
    "accuracy_score(b2_test_sp,predictions)"
   ]
  },
  {
   "cell_type": "code",
   "execution_count": 629,
   "metadata": {},
   "outputs": [
    {
     "data": {
      "text/plain": [
       "0.62184873949579833"
      ]
     },
     "execution_count": 629,
     "metadata": {},
     "output_type": "execute_result"
    }
   ],
   "source": [
    "# Binary Relevance kNN classifier that assigns a label if at least half of the neighbors are also classified with the label\n",
    "classifier = BRkNNaClassifier(k=2)\n",
    "\n",
    "# train\n",
    "classifier.fit(a2_train_sp, b2_train_sp)\n",
    "\n",
    "# predict\n",
    "predictions = classifier.predict(a2_test_sp)\n",
    "\n",
    "accuracy_score(b2_test,predictions)"
   ]
  },
  {
   "cell_type": "raw",
   "metadata": {},
   "source": [
    ".\n",
    ".\n",
    "."
   ]
  },
  {
   "cell_type": "raw",
   "metadata": {},
   "source": [
    "Multi label classification\n",
    "1. Algorithm adaptation\n",
    "   skmultilearn.adapt\n",
    "2. Problem transformation \n",
    "  such as Binary Relevance, Label Powerset\n",
    "  skmultilearn.problem_transformation\n",
    "3. Ensemble classification \n",
    "  skmultilearn.ensemble"
   ]
  },
  {
   "cell_type": "markdown",
   "metadata": {
    "collapsed": true
   },
   "source": [
    "# 3. Ensemble Approaches?\n",
    "Ensemble always produces better results. Scikit-Multilearn library provides different ensembling classification functions, which you can use for obtaining better results."
   ]
  },
  {
   "cell_type": "markdown",
   "metadata": {},
   "source": [
    "# Yeast dataset practice"
   ]
  },
  {
   "cell_type": "code",
   "execution_count": 630,
   "metadata": {
    "collapsed": true
   },
   "outputs": [],
   "source": [
    "import scipy\n",
    "from scipy.io import arff\n",
    "data, meta = scipy.io.arff.loadarff('/Users/Dusica/Downloads/yeast/yeast-train.arff')\n",
    "df = pd.DataFrame(data)"
   ]
  },
  {
   "cell_type": "code",
   "execution_count": 631,
   "metadata": {},
   "outputs": [
    {
     "data": {
      "text/plain": [
       "(1500, 117)"
      ]
     },
     "execution_count": 631,
     "metadata": {},
     "output_type": "execute_result"
    }
   ],
   "source": [
    "df.shape"
   ]
  },
  {
   "cell_type": "code",
   "execution_count": 632,
   "metadata": {},
   "outputs": [
    {
     "data": {
      "text/html": [
       "<div>\n",
       "<style>\n",
       "    .dataframe thead tr:only-child th {\n",
       "        text-align: right;\n",
       "    }\n",
       "\n",
       "    .dataframe thead th {\n",
       "        text-align: left;\n",
       "    }\n",
       "\n",
       "    .dataframe tbody tr th {\n",
       "        vertical-align: top;\n",
       "    }\n",
       "</style>\n",
       "<table border=\"1\" class=\"dataframe\">\n",
       "  <thead>\n",
       "    <tr style=\"text-align: right;\">\n",
       "      <th></th>\n",
       "      <th>Att1</th>\n",
       "      <th>Att2</th>\n",
       "      <th>Att3</th>\n",
       "      <th>Att4</th>\n",
       "      <th>Att5</th>\n",
       "      <th>Att6</th>\n",
       "      <th>Att7</th>\n",
       "      <th>Att8</th>\n",
       "      <th>Att9</th>\n",
       "      <th>Att10</th>\n",
       "      <th>...</th>\n",
       "      <th>Class5</th>\n",
       "      <th>Class6</th>\n",
       "      <th>Class7</th>\n",
       "      <th>Class8</th>\n",
       "      <th>Class9</th>\n",
       "      <th>Class10</th>\n",
       "      <th>Class11</th>\n",
       "      <th>Class12</th>\n",
       "      <th>Class13</th>\n",
       "      <th>Class14</th>\n",
       "    </tr>\n",
       "  </thead>\n",
       "  <tbody>\n",
       "    <tr>\n",
       "      <th>0</th>\n",
       "      <td>0.093700</td>\n",
       "      <td>0.139771</td>\n",
       "      <td>0.062774</td>\n",
       "      <td>0.007698</td>\n",
       "      <td>0.083873</td>\n",
       "      <td>-0.119156</td>\n",
       "      <td>0.073305</td>\n",
       "      <td>0.005510</td>\n",
       "      <td>0.027523</td>\n",
       "      <td>0.043477</td>\n",
       "      <td>...</td>\n",
       "      <td>b'0'</td>\n",
       "      <td>b'0'</td>\n",
       "      <td>b'0'</td>\n",
       "      <td>b'0'</td>\n",
       "      <td>b'0'</td>\n",
       "      <td>b'0'</td>\n",
       "      <td>b'0'</td>\n",
       "      <td>b'0'</td>\n",
       "      <td>b'0'</td>\n",
       "      <td>b'0'</td>\n",
       "    </tr>\n",
       "    <tr>\n",
       "      <th>1</th>\n",
       "      <td>-0.022711</td>\n",
       "      <td>-0.050504</td>\n",
       "      <td>-0.035691</td>\n",
       "      <td>-0.065434</td>\n",
       "      <td>-0.084316</td>\n",
       "      <td>-0.378560</td>\n",
       "      <td>0.038212</td>\n",
       "      <td>0.085770</td>\n",
       "      <td>0.182613</td>\n",
       "      <td>-0.055544</td>\n",
       "      <td>...</td>\n",
       "      <td>b'0'</td>\n",
       "      <td>b'0'</td>\n",
       "      <td>b'1'</td>\n",
       "      <td>b'1'</td>\n",
       "      <td>b'0'</td>\n",
       "      <td>b'0'</td>\n",
       "      <td>b'0'</td>\n",
       "      <td>b'1'</td>\n",
       "      <td>b'1'</td>\n",
       "      <td>b'0'</td>\n",
       "    </tr>\n",
       "    <tr>\n",
       "      <th>2</th>\n",
       "      <td>-0.090407</td>\n",
       "      <td>0.021198</td>\n",
       "      <td>0.208712</td>\n",
       "      <td>0.102752</td>\n",
       "      <td>0.119315</td>\n",
       "      <td>0.041729</td>\n",
       "      <td>-0.021728</td>\n",
       "      <td>0.019603</td>\n",
       "      <td>-0.063853</td>\n",
       "      <td>-0.053756</td>\n",
       "      <td>...</td>\n",
       "      <td>b'0'</td>\n",
       "      <td>b'0'</td>\n",
       "      <td>b'0'</td>\n",
       "      <td>b'0'</td>\n",
       "      <td>b'0'</td>\n",
       "      <td>b'0'</td>\n",
       "      <td>b'0'</td>\n",
       "      <td>b'1'</td>\n",
       "      <td>b'1'</td>\n",
       "      <td>b'0'</td>\n",
       "    </tr>\n",
       "    <tr>\n",
       "      <th>3</th>\n",
       "      <td>-0.085235</td>\n",
       "      <td>0.009540</td>\n",
       "      <td>-0.013228</td>\n",
       "      <td>0.094063</td>\n",
       "      <td>-0.013592</td>\n",
       "      <td>-0.030719</td>\n",
       "      <td>-0.116062</td>\n",
       "      <td>-0.131674</td>\n",
       "      <td>-0.165448</td>\n",
       "      <td>-0.123053</td>\n",
       "      <td>...</td>\n",
       "      <td>b'0'</td>\n",
       "      <td>b'0'</td>\n",
       "      <td>b'0'</td>\n",
       "      <td>b'0'</td>\n",
       "      <td>b'0'</td>\n",
       "      <td>b'0'</td>\n",
       "      <td>b'0'</td>\n",
       "      <td>b'1'</td>\n",
       "      <td>b'1'</td>\n",
       "      <td>b'1'</td>\n",
       "    </tr>\n",
       "    <tr>\n",
       "      <th>4</th>\n",
       "      <td>-0.088765</td>\n",
       "      <td>-0.026743</td>\n",
       "      <td>0.002075</td>\n",
       "      <td>-0.043819</td>\n",
       "      <td>-0.005465</td>\n",
       "      <td>0.004306</td>\n",
       "      <td>-0.055865</td>\n",
       "      <td>-0.071484</td>\n",
       "      <td>-0.159025</td>\n",
       "      <td>-0.111348</td>\n",
       "      <td>...</td>\n",
       "      <td>b'0'</td>\n",
       "      <td>b'0'</td>\n",
       "      <td>b'0'</td>\n",
       "      <td>b'0'</td>\n",
       "      <td>b'0'</td>\n",
       "      <td>b'0'</td>\n",
       "      <td>b'0'</td>\n",
       "      <td>b'0'</td>\n",
       "      <td>b'0'</td>\n",
       "      <td>b'0'</td>\n",
       "    </tr>\n",
       "  </tbody>\n",
       "</table>\n",
       "<p>5 rows × 117 columns</p>\n",
       "</div>"
      ],
      "text/plain": [
       "       Att1      Att2      Att3      Att4      Att5      Att6      Att7  \\\n",
       "0  0.093700  0.139771  0.062774  0.007698  0.083873 -0.119156  0.073305   \n",
       "1 -0.022711 -0.050504 -0.035691 -0.065434 -0.084316 -0.378560  0.038212   \n",
       "2 -0.090407  0.021198  0.208712  0.102752  0.119315  0.041729 -0.021728   \n",
       "3 -0.085235  0.009540 -0.013228  0.094063 -0.013592 -0.030719 -0.116062   \n",
       "4 -0.088765 -0.026743  0.002075 -0.043819 -0.005465  0.004306 -0.055865   \n",
       "\n",
       "       Att8      Att9     Att10   ...     Class5  Class6  Class7  Class8  \\\n",
       "0  0.005510  0.027523  0.043477   ...       b'0'    b'0'    b'0'    b'0'   \n",
       "1  0.085770  0.182613 -0.055544   ...       b'0'    b'0'    b'1'    b'1'   \n",
       "2  0.019603 -0.063853 -0.053756   ...       b'0'    b'0'    b'0'    b'0'   \n",
       "3 -0.131674 -0.165448 -0.123053   ...       b'0'    b'0'    b'0'    b'0'   \n",
       "4 -0.071484 -0.159025 -0.111348   ...       b'0'    b'0'    b'0'    b'0'   \n",
       "\n",
       "   Class9  Class10  Class11  Class12  Class13  Class14  \n",
       "0    b'0'     b'0'     b'0'     b'0'     b'0'     b'0'  \n",
       "1    b'0'     b'0'     b'0'     b'1'     b'1'     b'0'  \n",
       "2    b'0'     b'0'     b'0'     b'1'     b'1'     b'0'  \n",
       "3    b'0'     b'0'     b'0'     b'1'     b'1'     b'1'  \n",
       "4    b'0'     b'0'     b'0'     b'0'     b'0'     b'0'  \n",
       "\n",
       "[5 rows x 117 columns]"
      ]
     },
     "execution_count": 632,
     "metadata": {},
     "output_type": "execute_result"
    }
   ],
   "source": [
    "df.head()"
   ]
  },
  {
   "cell_type": "code",
   "execution_count": 633,
   "metadata": {
    "collapsed": true
   },
   "outputs": [],
   "source": [
    "for i in range(df.columns.get_loc(\"Class1\"),df.columns.get_loc(\"Class14\")+1):\n",
    "    df.iloc[:,i] =df.iloc[:,i] .replace(df.iloc[:,i] .unique()[1], 1)\n",
    "    df.iloc[:,i]  =df.iloc[:,i] .replace(df.iloc[:,i] .unique()[0], 0)"
   ]
  },
  {
   "cell_type": "code",
   "execution_count": 634,
   "metadata": {},
   "outputs": [
    {
     "name": "stdout",
     "output_type": "stream",
     "text": [
      "[0 1]\n",
      "[0 1]\n",
      "[0 1]\n",
      "[0 1]\n",
      "[0 1]\n",
      "[0 1]\n",
      "[0 1]\n",
      "[0 1]\n",
      "[0 1]\n",
      "[0 1]\n",
      "[0 1]\n",
      "[0 1]\n",
      "[0 1]\n",
      "[0 1]\n"
     ]
    }
   ],
   "source": [
    "for i in range(df.columns.get_loc(\"Class1\"),df.columns.get_loc(\"Class14\")+1):\n",
    "      print(df.iloc[:,i].unique())"
   ]
  },
  {
   "cell_type": "code",
   "execution_count": 635,
   "metadata": {},
   "outputs": [
    {
     "data": {
      "text/html": [
       "<div>\n",
       "<style>\n",
       "    .dataframe thead tr:only-child th {\n",
       "        text-align: right;\n",
       "    }\n",
       "\n",
       "    .dataframe thead th {\n",
       "        text-align: left;\n",
       "    }\n",
       "\n",
       "    .dataframe tbody tr th {\n",
       "        vertical-align: top;\n",
       "    }\n",
       "</style>\n",
       "<table border=\"1\" class=\"dataframe\">\n",
       "  <thead>\n",
       "    <tr style=\"text-align: right;\">\n",
       "      <th></th>\n",
       "      <th>Att1</th>\n",
       "      <th>Att2</th>\n",
       "      <th>Att3</th>\n",
       "      <th>Att4</th>\n",
       "      <th>Att5</th>\n",
       "      <th>Att6</th>\n",
       "      <th>Att7</th>\n",
       "      <th>Att8</th>\n",
       "      <th>Att9</th>\n",
       "      <th>Att10</th>\n",
       "      <th>...</th>\n",
       "      <th>Class5</th>\n",
       "      <th>Class6</th>\n",
       "      <th>Class7</th>\n",
       "      <th>Class8</th>\n",
       "      <th>Class9</th>\n",
       "      <th>Class10</th>\n",
       "      <th>Class11</th>\n",
       "      <th>Class12</th>\n",
       "      <th>Class13</th>\n",
       "      <th>Class14</th>\n",
       "    </tr>\n",
       "  </thead>\n",
       "  <tbody>\n",
       "    <tr>\n",
       "      <th>0</th>\n",
       "      <td>0.0937</td>\n",
       "      <td>0.139771</td>\n",
       "      <td>0.062774</td>\n",
       "      <td>0.007698</td>\n",
       "      <td>0.083873</td>\n",
       "      <td>-0.119156</td>\n",
       "      <td>0.073305</td>\n",
       "      <td>0.00551</td>\n",
       "      <td>0.027523</td>\n",
       "      <td>0.043477</td>\n",
       "      <td>...</td>\n",
       "      <td>0</td>\n",
       "      <td>0</td>\n",
       "      <td>0</td>\n",
       "      <td>0</td>\n",
       "      <td>0</td>\n",
       "      <td>0</td>\n",
       "      <td>0</td>\n",
       "      <td>0</td>\n",
       "      <td>0</td>\n",
       "      <td>0</td>\n",
       "    </tr>\n",
       "  </tbody>\n",
       "</table>\n",
       "<p>1 rows × 117 columns</p>\n",
       "</div>"
      ],
      "text/plain": [
       "     Att1      Att2      Att3      Att4      Att5      Att6      Att7  \\\n",
       "0  0.0937  0.139771  0.062774  0.007698  0.083873 -0.119156  0.073305   \n",
       "\n",
       "      Att8      Att9     Att10   ...     Class5  Class6  Class7  Class8  \\\n",
       "0  0.00551  0.027523  0.043477   ...          0       0       0       0   \n",
       "\n",
       "   Class9  Class10  Class11  Class12  Class13  Class14  \n",
       "0       0        0        0        0        0        0  \n",
       "\n",
       "[1 rows x 117 columns]"
      ]
     },
     "execution_count": 635,
     "metadata": {},
     "output_type": "execute_result"
    }
   ],
   "source": [
    "df.head(1)"
   ]
  },
  {
   "cell_type": "code",
   "execution_count": 636,
   "metadata": {
    "collapsed": true
   },
   "outputs": [],
   "source": [
    "#df.loc[:,[df.iloc[:,0], df.iloc[:,1]]]\n",
    "y_yeast=df.loc[:,\"Class1\":\"Class14\"]"
   ]
  },
  {
   "cell_type": "code",
   "execution_count": 642,
   "metadata": {
    "collapsed": true
   },
   "outputs": [],
   "source": [
    "x_yeast=df.drop(y_yeast,axis=1)"
   ]
  },
  {
   "cell_type": "code",
   "execution_count": 643,
   "metadata": {
    "collapsed": true
   },
   "outputs": [],
   "source": [
    "x_yeast_train, x_yeast_test, y_yeast_train, y_yeast_test = train_test_split(x_yeast,y_yeast, test_size=0.3, random_state=42)"
   ]
  },
  {
   "cell_type": "markdown",
   "metadata": {},
   "source": [
    "### 1. Problem transformation \n",
    " ####   Binary Relevance "
   ]
  },
  {
   "cell_type": "code",
   "execution_count": 644,
   "metadata": {
    "collapsed": true
   },
   "outputs": [],
   "source": [
    "classifier = BinaryRelevance(LogisticRegression())\n",
    "\n",
    "# train\n",
    "classifier.fit(x_yeast_train, y_yeast_train)\n",
    "\n",
    "# predict\n",
    "predictions = classifier.predict(x_yeast_test)"
   ]
  },
  {
   "cell_type": "code",
   "execution_count": 645,
   "metadata": {},
   "outputs": [
    {
     "data": {
      "text/plain": [
       "(450, 103)"
      ]
     },
     "execution_count": 645,
     "metadata": {},
     "output_type": "execute_result"
    }
   ],
   "source": [
    "x_yeast_test.shape"
   ]
  },
  {
   "cell_type": "code",
   "execution_count": 646,
   "metadata": {},
   "outputs": [
    {
     "data": {
      "text/plain": [
       "matrix([[0, 0, 0, ..., 1, 1, 0],\n",
       "        [0, 0, 1, ..., 1, 1, 0],\n",
       "        [0, 1, 0, ..., 1, 1, 0],\n",
       "        ..., \n",
       "        [0, 0, 0, ..., 1, 1, 0],\n",
       "        [1, 0, 1, ..., 1, 1, 0],\n",
       "        [1, 1, 1, ..., 1, 1, 0]], dtype=int64)"
      ]
     },
     "execution_count": 646,
     "metadata": {},
     "output_type": "execute_result"
    }
   ],
   "source": [
    "predictions.todense()"
   ]
  },
  {
   "cell_type": "code",
   "execution_count": 647,
   "metadata": {},
   "outputs": [
    {
     "name": "stdout",
     "output_type": "stream",
     "text": [
      "+-----------+----------------+\n",
      "|  Measures |     Value      |\n",
      "+-----------+----------------+\n",
      "|  Accuracy | 0.115555555556 |\n",
      "| Precision | 0.744438415627 |\n",
      "|   Recall  | 0.622504537205 |\n",
      "|  0/1 loss | 0.884444444444 |\n",
      "|     F1    | 0.678033110946 |\n",
      "+-----------+----------------+\n"
     ]
    }
   ],
   "source": [
    "t = PrettyTable(['Measures', 'Value'])\n",
    "t.add_row(['Accuracy',accuracy_score(y_yeast_test,predictions)])\n",
    "t.add_row(['Precision',precision_score(y_yeast_test,predictions,average='micro')])\n",
    "t.add_row(['Recall',recall_score(y_yeast_test,predictions,average='micro')])\n",
    "t.add_row(['0/1 loss',zero_one_loss(y_yeast_test,predictions)])\n",
    "t.add_row(['F1',f1_score(y_yeast_test,predictions,average='micro')])\n",
    "print(t) "
   ]
  },
  {
   "cell_type": "markdown",
   "metadata": {},
   "source": [
    "### 2. Algorithm adaptation"
   ]
  },
  {
   "cell_type": "code",
   "execution_count": 648,
   "metadata": {
    "collapsed": true
   },
   "outputs": [],
   "source": [
    "x_yeast_train_sp=scipy.sparse.csr_matrix(x_yeast_train.values)\n",
    "y_yeast_train_sp=scipy.sparse.csr_matrix(y_yeast_train.values)\n",
    "x_yeast_test_sp=scipy.sparse.csr_matrix(x_yeast_test.values)\n",
    "y_yeast_test_sp=scipy.sparse.csr_matrix(y_yeast_test.values)"
   ]
  },
  {
   "cell_type": "code",
   "execution_count": 649,
   "metadata": {},
   "outputs": [
    {
     "name": "stdout",
     "output_type": "stream",
     "text": [
      "+-----------+----------------+\n",
      "|  Measures |     Value      |\n",
      "+-----------+----------------+\n",
      "|  Accuracy | 0.175555555556 |\n",
      "| Precision | 0.718461538462 |\n",
      "|   Recall  | 0.635662431942 |\n",
      "|  0/1 loss | 0.824444444444 |\n",
      "|     F1    | 0.674530572942 |\n",
      "+-----------+----------------+\n"
     ]
    }
   ],
   "source": [
    "classifier = MLkNN(k=10)\n",
    "\n",
    "# train\n",
    "classifier.fit(x_yeast_train_sp, y_yeast_train_sp)\n",
    "\n",
    "# predict\n",
    "predictions = classifier.predict(x_yeast_test_sp)\n",
    "#predict_proba\n",
    "\n",
    "\n",
    "t = PrettyTable(['Measures', 'Value'])\n",
    "t.add_row(['Accuracy',accuracy_score(y_yeast_test_sp,predictions)])\n",
    "t.add_row(['Precision',precision_score(y_yeast_test_sp,predictions,average='micro')])\n",
    "t.add_row(['Recall',recall_score(y_yeast_test_sp,predictions,average='micro')])\n",
    "t.add_row(['0/1 loss',zero_one_loss(y_yeast_test_sp,predictions)])\n",
    "t.add_row(['F1',f1_score(y_yeast_test_sp,predictions,average='micro')])\n",
    "print(t) "
   ]
  },
  {
   "cell_type": "code",
   "execution_count": 650,
   "metadata": {},
   "outputs": [
    {
     "name": "stdout",
     "output_type": "stream",
     "text": [
      "+-----------+----------------+\n",
      "|  Measures |     Value      |\n",
      "+-----------+----------------+\n",
      "|  Accuracy | 0.117777777778 |\n",
      "| Precision | 0.824267782427 |\n",
      "|   Recall  | 0.357531760436 |\n",
      "|  0/1 loss | 0.882222222222 |\n",
      "|     F1    | 0.498734177215 |\n",
      "+-----------+----------------+\n"
     ]
    }
   ],
   "source": [
    "classifier = BRkNNaClassifier(k=10)\n",
    "\n",
    "# train\n",
    "classifier.fit(x_yeast_train_sp, y_yeast_train_sp)\n",
    "\n",
    "# predict\n",
    "predictions = classifier.predict(x_yeast_test_sp)\n",
    "#predict_proba\n",
    "\n",
    "t = PrettyTable(['Measures', 'Value'])\n",
    "t.add_row(['Accuracy',accuracy_score(y_yeast_test,predictions)])\n",
    "t.add_row(['Precision',precision_score(y_yeast_test,predictions,average='micro')])\n",
    "t.add_row(['Recall',recall_score(y_yeast_test,predictions,average='micro')])\n",
    "t.add_row(['0/1 loss',zero_one_loss(y_yeast_test,predictions)])\n",
    "t.add_row(['F1',f1_score(y_yeast_test,predictions,average='micro')])\n",
    "print(t) "
   ]
  },
  {
   "cell_type": "markdown",
   "metadata": {},
   "source": [
    "## RANDOM DATASET"
   ]
  },
  {
   "cell_type": "code",
   "execution_count": 50,
   "metadata": {
    "collapsed": true
   },
   "outputs": [],
   "source": [
    "from sklearn.datasets import make_multilabel_classification\n",
    "\n",
    "# this will generate a random multi-label dataset\n",
    "x_random, y_random = make_multilabel_classification(sparse = True, n_labels = 20,\n",
    "return_indicator = 'sparse', allow_unlabeled = False)"
   ]
  },
  {
   "cell_type": "code",
   "execution_count": 51,
   "metadata": {
    "collapsed": true
   },
   "outputs": [],
   "source": [
    "x_random_train, x_random_test, y_random_train, y_random_test = train_test_split(x_random,y_random, test_size=0.3, random_state=42)"
   ]
  },
  {
   "cell_type": "markdown",
   "metadata": {},
   "source": [
    "### 1.Problem transformation method"
   ]
  },
  {
   "cell_type": "markdown",
   "metadata": {},
   "source": [
    "### Binary Relevance"
   ]
  },
  {
   "cell_type": "code",
   "execution_count": 209,
   "metadata": {},
   "outputs": [
    {
     "name": "stdout",
     "output_type": "stream",
     "text": [
      "Collecting scikit-multilearn\n",
      "  Downloading scikit_multilearn-0.0.5-py3-none-any.whl\n",
      "Installing collected packages: scikit-multilearn\n",
      "Successfully installed scikit-multilearn-0.0.5\n"
     ]
    }
   ],
   "source": [
    "!pip install scikit-multilearn"
   ]
  },
  {
   "cell_type": "code",
   "execution_count": 73,
   "metadata": {},
   "outputs": [
    {
     "data": {
      "text/plain": [
       "scipy.sparse.csr.csr_matrix"
      ]
     },
     "execution_count": 73,
     "metadata": {},
     "output_type": "execute_result"
    }
   ],
   "source": [
    "type(x_random_test)"
   ]
  },
  {
   "cell_type": "code",
   "execution_count": 106,
   "metadata": {
    "collapsed": true
   },
   "outputs": [],
   "source": [
    " \n",
    "# initialize binary relevance multi-label classifier\n",
    "# with a gaussian naive bayes base classifier\n",
    "classifier = BinaryRelevance(GaussianNB())\n",
    "\n",
    "# train\n",
    "classifier.fit(x_random_train, y_random_train)\n",
    "\n",
    "# predict\n",
    "predictions = classifier.predict(x_random_test)"
   ]
  },
  {
   "cell_type": "code",
   "execution_count": 107,
   "metadata": {},
   "outputs": [
    {
     "data": {
      "text/plain": [
       "0.80000000000000004"
      ]
     },
     "execution_count": 107,
     "metadata": {},
     "output_type": "execute_result"
    }
   ],
   "source": [
    "accuracy_score(y_random_test,predictions)"
   ]
  },
  {
   "cell_type": "markdown",
   "metadata": {},
   "source": [
    "### 2. Algorithm adaptation method"
   ]
  },
  {
   "cell_type": "code",
   "execution_count": 120,
   "metadata": {},
   "outputs": [
    {
     "data": {
      "text/plain": [
       "0.90000000000000002"
      ]
     },
     "execution_count": 120,
     "metadata": {},
     "output_type": "execute_result"
    }
   ],
   "source": [
    "classifier = MLkNN(k=10)\n",
    "\n",
    "# train\n",
    "classifier.fit(x_random_train, y_random_train)\n",
    "\n",
    "# predict\n",
    "predictions = classifier.predict(x_random_test)\n",
    "#predict_proba\n",
    "\n",
    "accuracy_score(y_random_test,predictions)"
   ]
  },
  {
   "cell_type": "code",
   "execution_count": 198,
   "metadata": {},
   "outputs": [
    {
     "data": {
      "text/plain": [
       "0.90000000000000002"
      ]
     },
     "execution_count": 198,
     "metadata": {},
     "output_type": "execute_result"
    }
   ],
   "source": [
    "classifier = BRkNNaClassifier(k=7)\n",
    "\n",
    "# train\n",
    "classifier.fit(x_random_train, y_random_train)\n",
    "\n",
    "# predict\n",
    "predictions = classifier.predict(x_random_test)\n",
    "#predict_proba\n",
    "\n",
    "accuracy_score(y_random_test,predictions)"
   ]
  },
  {
   "cell_type": "code",
   "execution_count": 192,
   "metadata": {},
   "outputs": [
    {
     "name": "stdout",
     "output_type": "stream",
     "text": [
      "Collecting liac-arff\n",
      "  Downloading liac-arff-2.1.1.tar.gz\n",
      "Building wheels for collected packages: liac-arff\n",
      "  Running setup.py bdist_wheel for liac-arff: started\n",
      "  Running setup.py bdist_wheel for liac-arff: finished with status 'done'\n",
      "  Stored in directory: C:\\Users\\Dusica\\AppData\\Local\\pip\\Cache\\wheels\\fa\\05\\89\\ad13dcf092046e2ea86beec50db9ad5ce8a3ba0c4d00489579\n",
      "Successfully built liac-arff\n",
      "Installing collected packages: liac-arff\n",
      "Successfully installed liac-arff-2.1.1\n"
     ]
    }
   ],
   "source": [
    "!pip install liac-arff"
   ]
  },
  {
   "cell_type": "code",
   "execution_count": 208,
   "metadata": {},
   "outputs": [
    {
     "name": "stdout",
     "output_type": "stream",
     "text": [
      "Collecting future\n",
      "  Downloading future-0.16.0.tar.gz (824kB)\n",
      "Building wheels for collected packages: future\n",
      "  Running setup.py bdist_wheel for future: started\n",
      "  Running setup.py bdist_wheel for future: finished with status 'done'\n",
      "  Stored in directory: C:\\Users\\Dusica\\AppData\\Local\\pip\\Cache\\wheels\\c2\\50\\7c\\0d83b4baac4f63ff7a765bd16390d2ab43c93587fac9d6017a\n",
      "Successfully built future\n",
      "Installing collected packages: future\n",
      "Successfully installed future-0.16.0\n"
     ]
    }
   ],
   "source": [
    "!pip install future"
   ]
  },
  {
   "cell_type": "code",
   "execution_count": 226,
   "metadata": {},
   "outputs": [
    {
     "name": "stdout",
     "output_type": "stream",
     "text": [
      "Collecting whichcraft\n",
      "  Downloading whichcraft-0.4.1-py2.py3-none-any.whl\n",
      "Installing collected packages: whichcraft\n",
      "Successfully installed whichcraft-0.4.1\n"
     ]
    }
   ],
   "source": [
    "!pip install whichcraft"
   ]
  },
  {
   "cell_type": "code",
   "execution_count": 382,
   "metadata": {},
   "outputs": [
    {
     "name": "stdout",
     "output_type": "stream",
     "text": [
      "Collecting prettytable\n",
      "  Downloading prettytable-0.7.2.zip\n",
      "Building wheels for collected packages: prettytable\n",
      "  Running setup.py bdist_wheel for prettytable: started\n",
      "  Running setup.py bdist_wheel for prettytable: finished with status 'done'\n",
      "  Stored in directory: C:\\Users\\Dusica\\AppData\\Local\\pip\\Cache\\wheels\\b6\\90\\7b\\1c22b89217d0eba6d5f406e562365ebee804f0d4595b2bdbcd\n",
      "Successfully built prettytable\n",
      "Installing collected packages: prettytable\n",
      "Successfully installed prettytable-0.7.2\n"
     ]
    }
   ],
   "source": [
    "!pip install prettytable"
   ]
  },
  {
   "cell_type": "code",
   "execution_count": null,
   "metadata": {
    "collapsed": true
   },
   "outputs": [],
   "source": []
  }
 ],
 "metadata": {
  "kernelspec": {
   "display_name": "Python 3",
   "language": "python",
   "name": "python3"
  },
  "language_info": {
   "codemirror_mode": {
    "name": "ipython",
    "version": 3
   },
   "file_extension": ".py",
   "mimetype": "text/x-python",
   "name": "python",
   "nbconvert_exporter": "python",
   "pygments_lexer": "ipython3",
   "version": "3.6.3"
  }
 },
 "nbformat": 4,
 "nbformat_minor": 2
}
