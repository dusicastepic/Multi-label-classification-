{
 "cells": [
  {
   "cell_type": "markdown",
   "metadata": {},
   "source": [
    "# Libraries"
   ]
  },
  {
   "cell_type": "code",
   "execution_count": 882,
   "metadata": {},
   "outputs": [],
   "source": [
    "import pandas as pd\n",
    "import numpy as np\n",
    "import sklearn\n",
    "import skmultilearn\n",
    "\n",
    "import scipy\n",
    "from scipy.io import arff\n",
    "\n",
    "from IPython.display import Image\n",
    "from prettytable import PrettyTable\n",
    "\n",
    "from sklearn.model_selection import train_test_split\n",
    "from sklearn.model_selection import cross_val_predict\n",
    "from sklearn.metrics import accuracy_score\n",
    "from sklearn.metrics import precision_score\n",
    "from sklearn.metrics import recall_score\n",
    "from sklearn.metrics import f1_score\n",
    "from sklearn.metrics import zero_one_loss\n",
    "from sklearn.metrics import roc_auc_score\n",
    "from sklearn.metrics import roc_curve\n",
    "from sklearn.metrics import auc\n",
    "from sklearn.metrics import hamming_loss\n",
    "from sklearn.linear_model import LogisticRegression\n",
    "from sklearn.naive_bayes import GaussianNB\n",
    "from sklearn.ensemble import RandomForestClassifier\n",
    "\n",
    "from skmultilearn.problem_transform import BinaryRelevance\n",
    "from skmultilearn.problem_transform import ClassifierChain\n",
    "from skmultilearn.problem_transform import LabelPowerset\n",
    "from skmultilearn.adapt import MLkNN\n",
    "from skmultilearn.adapt import BRkNNaClassifier"
   ]
  },
  {
   "cell_type": "markdown",
   "metadata": {},
   "source": [
    "# Import datasets"
   ]
  },
  {
   "cell_type": "raw",
   "metadata": {
    "collapsed": true
   },
   "source": [
    "#paid and failures distinct"
   ]
  },
  {
   "cell_type": "code",
   "execution_count": 883,
   "metadata": {},
   "outputs": [],
   "source": [
    "#\"school\",\"sex\",\"age\",\"address\",\"famsize\",\"Pstatus\",\"Medu\",\"Fedu\",\"Mjob\",\"Fjob\",\"reason\",\"nursery\",\"internet\""
   ]
  },
  {
   "cell_type": "markdown",
   "metadata": {},
   "source": [
    "### Student performance dataset"
   ]
  },
  {
   "cell_type": "code",
   "execution_count": 884,
   "metadata": {},
   "outputs": [],
   "source": [
    "student_mat=pd.read_csv('C:\\\\Users\\\\Dusica\\\\Downloads\\\\student\\\\student-mat.csv',sep=';')\n",
    "student_por=pd.read_csv('C:\\\\Users\\\\Dusica\\\\Downloads\\\\student\\\\student-por.csv',sep=';')"
   ]
  },
  {
   "cell_type": "code",
   "execution_count": 885,
   "metadata": {},
   "outputs": [],
   "source": [
    "#student=pd.concat([mat,por],join='left')\n",
    "student = pd.merge(student_mat,student_por, on=[\"school\",\"sex\",\"age\",\"address\",\"famsize\",\"Pstatus\",\"Medu\",\"Fedu\",\"Mjob\",\"Fjob\",\"reason\",\"nursery\",\"internet\"])"
   ]
  },
  {
   "cell_type": "markdown",
   "metadata": {},
   "source": [
    "### Yeast dataset"
   ]
  },
  {
   "cell_type": "code",
   "execution_count": 886,
   "metadata": {},
   "outputs": [],
   "source": [
    "yeast, meta = scipy.io.arff.loadarff('/Users/Dusica/Downloads/yeast/yeast.arff')\n",
    "#yeast_test, meta = scipy.io.arff.loadarff('/Users/Dusica/Downloads/yeast/yeast-test.arff')\n",
    "yeast = pd.DataFrame(yeast)\n",
    "#yeast_test= pd.DataFrame(yeast_test)"
   ]
  },
  {
   "cell_type": "code",
   "execution_count": 887,
   "metadata": {},
   "outputs": [],
   "source": [
    "listDF=[]\n",
    "listDF.append(student)\n",
    "listDF.append(yeast)\n",
    "listDF.append(student_mat)\n",
    "listDF.append(student_por)"
   ]
  },
  {
   "cell_type": "code",
   "execution_count": 888,
   "metadata": {},
   "outputs": [
    {
     "data": {
      "text/plain": [
       "pandas.core.frame.DataFrame"
      ]
     },
     "execution_count": 888,
     "metadata": {},
     "output_type": "execute_result"
    }
   ],
   "source": [
    "type(listDF[2])"
   ]
  },
  {
   "cell_type": "markdown",
   "metadata": {},
   "source": [
    "### Descriptive statistics - Student performance"
   ]
  },
  {
   "cell_type": "code",
   "execution_count": 889,
   "metadata": {},
   "outputs": [
    {
     "data": {
      "text/plain": [
       "(382, 53)"
      ]
     },
     "execution_count": 889,
     "metadata": {},
     "output_type": "execute_result"
    }
   ],
   "source": [
    "student.shape"
   ]
  },
  {
   "cell_type": "code",
   "execution_count": 890,
   "metadata": {},
   "outputs": [
    {
     "data": {
      "text/html": [
       "<div>\n",
       "<style>\n",
       "    .dataframe thead tr:only-child th {\n",
       "        text-align: right;\n",
       "    }\n",
       "\n",
       "    .dataframe thead th {\n",
       "        text-align: left;\n",
       "    }\n",
       "\n",
       "    .dataframe tbody tr th {\n",
       "        vertical-align: top;\n",
       "    }\n",
       "</style>\n",
       "<table border=\"1\" class=\"dataframe\">\n",
       "  <thead>\n",
       "    <tr style=\"text-align: right;\">\n",
       "      <th></th>\n",
       "      <th>school</th>\n",
       "      <th>sex</th>\n",
       "      <th>age</th>\n",
       "      <th>address</th>\n",
       "      <th>famsize</th>\n",
       "      <th>Pstatus</th>\n",
       "      <th>Medu</th>\n",
       "      <th>Fedu</th>\n",
       "      <th>Mjob</th>\n",
       "      <th>Fjob</th>\n",
       "      <th>...</th>\n",
       "      <th>famrel_y</th>\n",
       "      <th>freetime_y</th>\n",
       "      <th>goout_y</th>\n",
       "      <th>Dalc_y</th>\n",
       "      <th>Walc_y</th>\n",
       "      <th>health_y</th>\n",
       "      <th>absences_y</th>\n",
       "      <th>G1_p</th>\n",
       "      <th>G2_p</th>\n",
       "      <th>G3_p</th>\n",
       "    </tr>\n",
       "  </thead>\n",
       "  <tbody>\n",
       "    <tr>\n",
       "      <th>0</th>\n",
       "      <td>GP</td>\n",
       "      <td>F</td>\n",
       "      <td>18</td>\n",
       "      <td>U</td>\n",
       "      <td>GT3</td>\n",
       "      <td>A</td>\n",
       "      <td>4</td>\n",
       "      <td>4</td>\n",
       "      <td>at_home</td>\n",
       "      <td>teacher</td>\n",
       "      <td>...</td>\n",
       "      <td>4</td>\n",
       "      <td>3</td>\n",
       "      <td>4</td>\n",
       "      <td>1</td>\n",
       "      <td>1</td>\n",
       "      <td>3</td>\n",
       "      <td>4</td>\n",
       "      <td>0</td>\n",
       "      <td>11</td>\n",
       "      <td>11</td>\n",
       "    </tr>\n",
       "    <tr>\n",
       "      <th>1</th>\n",
       "      <td>GP</td>\n",
       "      <td>F</td>\n",
       "      <td>17</td>\n",
       "      <td>U</td>\n",
       "      <td>GT3</td>\n",
       "      <td>T</td>\n",
       "      <td>1</td>\n",
       "      <td>1</td>\n",
       "      <td>at_home</td>\n",
       "      <td>other</td>\n",
       "      <td>...</td>\n",
       "      <td>5</td>\n",
       "      <td>3</td>\n",
       "      <td>3</td>\n",
       "      <td>1</td>\n",
       "      <td>1</td>\n",
       "      <td>3</td>\n",
       "      <td>2</td>\n",
       "      <td>9</td>\n",
       "      <td>11</td>\n",
       "      <td>11</td>\n",
       "    </tr>\n",
       "    <tr>\n",
       "      <th>2</th>\n",
       "      <td>GP</td>\n",
       "      <td>F</td>\n",
       "      <td>15</td>\n",
       "      <td>U</td>\n",
       "      <td>LE3</td>\n",
       "      <td>T</td>\n",
       "      <td>1</td>\n",
       "      <td>1</td>\n",
       "      <td>at_home</td>\n",
       "      <td>other</td>\n",
       "      <td>...</td>\n",
       "      <td>4</td>\n",
       "      <td>3</td>\n",
       "      <td>2</td>\n",
       "      <td>2</td>\n",
       "      <td>3</td>\n",
       "      <td>3</td>\n",
       "      <td>6</td>\n",
       "      <td>12</td>\n",
       "      <td>13</td>\n",
       "      <td>12</td>\n",
       "    </tr>\n",
       "    <tr>\n",
       "      <th>3</th>\n",
       "      <td>GP</td>\n",
       "      <td>F</td>\n",
       "      <td>15</td>\n",
       "      <td>U</td>\n",
       "      <td>GT3</td>\n",
       "      <td>T</td>\n",
       "      <td>4</td>\n",
       "      <td>2</td>\n",
       "      <td>health</td>\n",
       "      <td>services</td>\n",
       "      <td>...</td>\n",
       "      <td>3</td>\n",
       "      <td>2</td>\n",
       "      <td>2</td>\n",
       "      <td>1</td>\n",
       "      <td>1</td>\n",
       "      <td>5</td>\n",
       "      <td>0</td>\n",
       "      <td>14</td>\n",
       "      <td>14</td>\n",
       "      <td>14</td>\n",
       "    </tr>\n",
       "    <tr>\n",
       "      <th>4</th>\n",
       "      <td>GP</td>\n",
       "      <td>F</td>\n",
       "      <td>16</td>\n",
       "      <td>U</td>\n",
       "      <td>GT3</td>\n",
       "      <td>T</td>\n",
       "      <td>3</td>\n",
       "      <td>3</td>\n",
       "      <td>other</td>\n",
       "      <td>other</td>\n",
       "      <td>...</td>\n",
       "      <td>4</td>\n",
       "      <td>3</td>\n",
       "      <td>2</td>\n",
       "      <td>1</td>\n",
       "      <td>2</td>\n",
       "      <td>5</td>\n",
       "      <td>0</td>\n",
       "      <td>11</td>\n",
       "      <td>13</td>\n",
       "      <td>13</td>\n",
       "    </tr>\n",
       "  </tbody>\n",
       "</table>\n",
       "<p>5 rows × 53 columns</p>\n",
       "</div>"
      ],
      "text/plain": [
       "  school sex  age address famsize Pstatus  Medu  Fedu     Mjob      Fjob ...   \\\n",
       "0     GP   F   18       U     GT3       A     4     4  at_home   teacher ...    \n",
       "1     GP   F   17       U     GT3       T     1     1  at_home     other ...    \n",
       "2     GP   F   15       U     LE3       T     1     1  at_home     other ...    \n",
       "3     GP   F   15       U     GT3       T     4     2   health  services ...    \n",
       "4     GP   F   16       U     GT3       T     3     3    other     other ...    \n",
       "\n",
       "  famrel_y freetime_y  goout_y  Dalc_y  Walc_y health_y absences_y G1_p G2_p  \\\n",
       "0        4          3        4       1       1        3          4    0   11   \n",
       "1        5          3        3       1       1        3          2    9   11   \n",
       "2        4          3        2       2       3        3          6   12   13   \n",
       "3        3          2        2       1       1        5          0   14   14   \n",
       "4        4          3        2       1       2        5          0   11   13   \n",
       "\n",
       "  G3_p  \n",
       "0   11  \n",
       "1   11  \n",
       "2   12  \n",
       "3   14  \n",
       "4   13  \n",
       "\n",
       "[5 rows x 53 columns]"
      ]
     },
     "execution_count": 890,
     "metadata": {},
     "output_type": "execute_result"
    }
   ],
   "source": [
    "student.head()"
   ]
  },
  {
   "cell_type": "code",
   "execution_count": 891,
   "metadata": {},
   "outputs": [
    {
     "data": {
      "text/html": [
       "<div>\n",
       "<style>\n",
       "    .dataframe thead tr:only-child th {\n",
       "        text-align: right;\n",
       "    }\n",
       "\n",
       "    .dataframe thead th {\n",
       "        text-align: left;\n",
       "    }\n",
       "\n",
       "    .dataframe tbody tr th {\n",
       "        vertical-align: top;\n",
       "    }\n",
       "</style>\n",
       "<table border=\"1\" class=\"dataframe\">\n",
       "  <thead>\n",
       "    <tr style=\"text-align: right;\">\n",
       "      <th></th>\n",
       "      <th>age</th>\n",
       "      <th>Medu</th>\n",
       "      <th>Fedu</th>\n",
       "      <th>traveltime_x</th>\n",
       "      <th>studytime_x</th>\n",
       "      <th>failures_x</th>\n",
       "      <th>famrel_x</th>\n",
       "      <th>freetime_x</th>\n",
       "      <th>goout_x</th>\n",
       "      <th>Dalc_x</th>\n",
       "      <th>...</th>\n",
       "      <th>famrel_y</th>\n",
       "      <th>freetime_y</th>\n",
       "      <th>goout_y</th>\n",
       "      <th>Dalc_y</th>\n",
       "      <th>Walc_y</th>\n",
       "      <th>health_y</th>\n",
       "      <th>absences_y</th>\n",
       "      <th>G1_p</th>\n",
       "      <th>G2_p</th>\n",
       "      <th>G3_p</th>\n",
       "    </tr>\n",
       "  </thead>\n",
       "  <tbody>\n",
       "    <tr>\n",
       "      <th>count</th>\n",
       "      <td>382.000000</td>\n",
       "      <td>382.000000</td>\n",
       "      <td>382.000000</td>\n",
       "      <td>382.000000</td>\n",
       "      <td>382.000000</td>\n",
       "      <td>382.000000</td>\n",
       "      <td>382.000000</td>\n",
       "      <td>382.000000</td>\n",
       "      <td>382.000000</td>\n",
       "      <td>382.000000</td>\n",
       "      <td>...</td>\n",
       "      <td>382.000000</td>\n",
       "      <td>382.000000</td>\n",
       "      <td>382.000000</td>\n",
       "      <td>382.000000</td>\n",
       "      <td>382.000000</td>\n",
       "      <td>382.000000</td>\n",
       "      <td>382.000000</td>\n",
       "      <td>382.000000</td>\n",
       "      <td>382.000000</td>\n",
       "      <td>382.000000</td>\n",
       "    </tr>\n",
       "    <tr>\n",
       "      <th>mean</th>\n",
       "      <td>16.586387</td>\n",
       "      <td>2.806283</td>\n",
       "      <td>2.565445</td>\n",
       "      <td>1.442408</td>\n",
       "      <td>2.034031</td>\n",
       "      <td>0.290576</td>\n",
       "      <td>3.939791</td>\n",
       "      <td>3.222513</td>\n",
       "      <td>3.112565</td>\n",
       "      <td>1.473822</td>\n",
       "      <td>...</td>\n",
       "      <td>3.942408</td>\n",
       "      <td>3.230366</td>\n",
       "      <td>3.117801</td>\n",
       "      <td>1.476440</td>\n",
       "      <td>2.290576</td>\n",
       "      <td>3.575916</td>\n",
       "      <td>3.672775</td>\n",
       "      <td>12.112565</td>\n",
       "      <td>12.238220</td>\n",
       "      <td>12.515707</td>\n",
       "    </tr>\n",
       "    <tr>\n",
       "      <th>std</th>\n",
       "      <td>1.173470</td>\n",
       "      <td>1.086381</td>\n",
       "      <td>1.096240</td>\n",
       "      <td>0.695378</td>\n",
       "      <td>0.845798</td>\n",
       "      <td>0.729481</td>\n",
       "      <td>0.921620</td>\n",
       "      <td>0.988233</td>\n",
       "      <td>1.131927</td>\n",
       "      <td>0.886229</td>\n",
       "      <td>...</td>\n",
       "      <td>0.908884</td>\n",
       "      <td>0.985096</td>\n",
       "      <td>1.133710</td>\n",
       "      <td>0.886303</td>\n",
       "      <td>1.282577</td>\n",
       "      <td>1.404248</td>\n",
       "      <td>4.905965</td>\n",
       "      <td>2.556531</td>\n",
       "      <td>2.468341</td>\n",
       "      <td>2.945438</td>\n",
       "    </tr>\n",
       "    <tr>\n",
       "      <th>min</th>\n",
       "      <td>15.000000</td>\n",
       "      <td>0.000000</td>\n",
       "      <td>0.000000</td>\n",
       "      <td>1.000000</td>\n",
       "      <td>1.000000</td>\n",
       "      <td>0.000000</td>\n",
       "      <td>1.000000</td>\n",
       "      <td>1.000000</td>\n",
       "      <td>1.000000</td>\n",
       "      <td>1.000000</td>\n",
       "      <td>...</td>\n",
       "      <td>1.000000</td>\n",
       "      <td>1.000000</td>\n",
       "      <td>1.000000</td>\n",
       "      <td>1.000000</td>\n",
       "      <td>1.000000</td>\n",
       "      <td>1.000000</td>\n",
       "      <td>0.000000</td>\n",
       "      <td>0.000000</td>\n",
       "      <td>5.000000</td>\n",
       "      <td>0.000000</td>\n",
       "    </tr>\n",
       "    <tr>\n",
       "      <th>25%</th>\n",
       "      <td>16.000000</td>\n",
       "      <td>2.000000</td>\n",
       "      <td>2.000000</td>\n",
       "      <td>1.000000</td>\n",
       "      <td>1.000000</td>\n",
       "      <td>0.000000</td>\n",
       "      <td>4.000000</td>\n",
       "      <td>3.000000</td>\n",
       "      <td>2.000000</td>\n",
       "      <td>1.000000</td>\n",
       "      <td>...</td>\n",
       "      <td>4.000000</td>\n",
       "      <td>3.000000</td>\n",
       "      <td>2.000000</td>\n",
       "      <td>1.000000</td>\n",
       "      <td>1.000000</td>\n",
       "      <td>3.000000</td>\n",
       "      <td>0.000000</td>\n",
       "      <td>10.000000</td>\n",
       "      <td>11.000000</td>\n",
       "      <td>11.000000</td>\n",
       "    </tr>\n",
       "    <tr>\n",
       "      <th>50%</th>\n",
       "      <td>17.000000</td>\n",
       "      <td>3.000000</td>\n",
       "      <td>3.000000</td>\n",
       "      <td>1.000000</td>\n",
       "      <td>2.000000</td>\n",
       "      <td>0.000000</td>\n",
       "      <td>4.000000</td>\n",
       "      <td>3.000000</td>\n",
       "      <td>3.000000</td>\n",
       "      <td>1.000000</td>\n",
       "      <td>...</td>\n",
       "      <td>4.000000</td>\n",
       "      <td>3.000000</td>\n",
       "      <td>3.000000</td>\n",
       "      <td>1.000000</td>\n",
       "      <td>2.000000</td>\n",
       "      <td>4.000000</td>\n",
       "      <td>2.000000</td>\n",
       "      <td>12.000000</td>\n",
       "      <td>12.000000</td>\n",
       "      <td>13.000000</td>\n",
       "    </tr>\n",
       "    <tr>\n",
       "      <th>75%</th>\n",
       "      <td>17.000000</td>\n",
       "      <td>4.000000</td>\n",
       "      <td>4.000000</td>\n",
       "      <td>2.000000</td>\n",
       "      <td>2.000000</td>\n",
       "      <td>0.000000</td>\n",
       "      <td>5.000000</td>\n",
       "      <td>4.000000</td>\n",
       "      <td>4.000000</td>\n",
       "      <td>2.000000</td>\n",
       "      <td>...</td>\n",
       "      <td>5.000000</td>\n",
       "      <td>4.000000</td>\n",
       "      <td>4.000000</td>\n",
       "      <td>2.000000</td>\n",
       "      <td>3.000000</td>\n",
       "      <td>5.000000</td>\n",
       "      <td>6.000000</td>\n",
       "      <td>14.000000</td>\n",
       "      <td>14.000000</td>\n",
       "      <td>14.000000</td>\n",
       "    </tr>\n",
       "    <tr>\n",
       "      <th>max</th>\n",
       "      <td>22.000000</td>\n",
       "      <td>4.000000</td>\n",
       "      <td>4.000000</td>\n",
       "      <td>4.000000</td>\n",
       "      <td>4.000000</td>\n",
       "      <td>3.000000</td>\n",
       "      <td>5.000000</td>\n",
       "      <td>5.000000</td>\n",
       "      <td>5.000000</td>\n",
       "      <td>5.000000</td>\n",
       "      <td>...</td>\n",
       "      <td>5.000000</td>\n",
       "      <td>5.000000</td>\n",
       "      <td>5.000000</td>\n",
       "      <td>5.000000</td>\n",
       "      <td>5.000000</td>\n",
       "      <td>5.000000</td>\n",
       "      <td>32.000000</td>\n",
       "      <td>19.000000</td>\n",
       "      <td>19.000000</td>\n",
       "      <td>19.000000</td>\n",
       "    </tr>\n",
       "  </tbody>\n",
       "</table>\n",
       "<p>8 rows × 29 columns</p>\n",
       "</div>"
      ],
      "text/plain": [
       "              age        Medu        Fedu  traveltime_x  studytime_x  \\\n",
       "count  382.000000  382.000000  382.000000    382.000000   382.000000   \n",
       "mean    16.586387    2.806283    2.565445      1.442408     2.034031   \n",
       "std      1.173470    1.086381    1.096240      0.695378     0.845798   \n",
       "min     15.000000    0.000000    0.000000      1.000000     1.000000   \n",
       "25%     16.000000    2.000000    2.000000      1.000000     1.000000   \n",
       "50%     17.000000    3.000000    3.000000      1.000000     2.000000   \n",
       "75%     17.000000    4.000000    4.000000      2.000000     2.000000   \n",
       "max     22.000000    4.000000    4.000000      4.000000     4.000000   \n",
       "\n",
       "       failures_x    famrel_x  freetime_x     goout_x      Dalc_x     ...      \\\n",
       "count  382.000000  382.000000  382.000000  382.000000  382.000000     ...       \n",
       "mean     0.290576    3.939791    3.222513    3.112565    1.473822     ...       \n",
       "std      0.729481    0.921620    0.988233    1.131927    0.886229     ...       \n",
       "min      0.000000    1.000000    1.000000    1.000000    1.000000     ...       \n",
       "25%      0.000000    4.000000    3.000000    2.000000    1.000000     ...       \n",
       "50%      0.000000    4.000000    3.000000    3.000000    1.000000     ...       \n",
       "75%      0.000000    5.000000    4.000000    4.000000    2.000000     ...       \n",
       "max      3.000000    5.000000    5.000000    5.000000    5.000000     ...       \n",
       "\n",
       "         famrel_y  freetime_y     goout_y      Dalc_y      Walc_y    health_y  \\\n",
       "count  382.000000  382.000000  382.000000  382.000000  382.000000  382.000000   \n",
       "mean     3.942408    3.230366    3.117801    1.476440    2.290576    3.575916   \n",
       "std      0.908884    0.985096    1.133710    0.886303    1.282577    1.404248   \n",
       "min      1.000000    1.000000    1.000000    1.000000    1.000000    1.000000   \n",
       "25%      4.000000    3.000000    2.000000    1.000000    1.000000    3.000000   \n",
       "50%      4.000000    3.000000    3.000000    1.000000    2.000000    4.000000   \n",
       "75%      5.000000    4.000000    4.000000    2.000000    3.000000    5.000000   \n",
       "max      5.000000    5.000000    5.000000    5.000000    5.000000    5.000000   \n",
       "\n",
       "       absences_y        G1_p        G2_p        G3_p  \n",
       "count  382.000000  382.000000  382.000000  382.000000  \n",
       "mean     3.672775   12.112565   12.238220   12.515707  \n",
       "std      4.905965    2.556531    2.468341    2.945438  \n",
       "min      0.000000    0.000000    5.000000    0.000000  \n",
       "25%      0.000000   10.000000   11.000000   11.000000  \n",
       "50%      2.000000   12.000000   12.000000   13.000000  \n",
       "75%      6.000000   14.000000   14.000000   14.000000  \n",
       "max     32.000000   19.000000   19.000000   19.000000  \n",
       "\n",
       "[8 rows x 29 columns]"
      ]
     },
     "execution_count": 891,
     "metadata": {},
     "output_type": "execute_result"
    }
   ],
   "source": [
    "student.describe()"
   ]
  },
  {
   "cell_type": "code",
   "execution_count": 892,
   "metadata": {},
   "outputs": [
    {
     "data": {
      "text/html": [
       "<div>\n",
       "<style>\n",
       "    .dataframe thead tr:only-child th {\n",
       "        text-align: right;\n",
       "    }\n",
       "\n",
       "    .dataframe thead th {\n",
       "        text-align: left;\n",
       "    }\n",
       "\n",
       "    .dataframe tbody tr th {\n",
       "        vertical-align: top;\n",
       "    }\n",
       "</style>\n",
       "<table border=\"1\" class=\"dataframe\">\n",
       "  <thead>\n",
       "    <tr style=\"text-align: right;\">\n",
       "      <th></th>\n",
       "      <th>school</th>\n",
       "      <th>sex</th>\n",
       "      <th>address</th>\n",
       "      <th>famsize</th>\n",
       "      <th>Pstatus</th>\n",
       "      <th>Mjob</th>\n",
       "      <th>Fjob</th>\n",
       "      <th>reason</th>\n",
       "      <th>guardian_x</th>\n",
       "      <th>schoolsup_x</th>\n",
       "      <th>...</th>\n",
       "      <th>higher_x</th>\n",
       "      <th>internet</th>\n",
       "      <th>romantic_x</th>\n",
       "      <th>guardian_y</th>\n",
       "      <th>schoolsup_y</th>\n",
       "      <th>famsup_y</th>\n",
       "      <th>paid_y</th>\n",
       "      <th>activities_y</th>\n",
       "      <th>higher_y</th>\n",
       "      <th>romantic_y</th>\n",
       "    </tr>\n",
       "  </thead>\n",
       "  <tbody>\n",
       "    <tr>\n",
       "      <th>count</th>\n",
       "      <td>382</td>\n",
       "      <td>382</td>\n",
       "      <td>382</td>\n",
       "      <td>382</td>\n",
       "      <td>382</td>\n",
       "      <td>382</td>\n",
       "      <td>382</td>\n",
       "      <td>382</td>\n",
       "      <td>382</td>\n",
       "      <td>382</td>\n",
       "      <td>...</td>\n",
       "      <td>382</td>\n",
       "      <td>382</td>\n",
       "      <td>382</td>\n",
       "      <td>382</td>\n",
       "      <td>382</td>\n",
       "      <td>382</td>\n",
       "      <td>382</td>\n",
       "      <td>382</td>\n",
       "      <td>382</td>\n",
       "      <td>382</td>\n",
       "    </tr>\n",
       "    <tr>\n",
       "      <th>unique</th>\n",
       "      <td>2</td>\n",
       "      <td>2</td>\n",
       "      <td>2</td>\n",
       "      <td>2</td>\n",
       "      <td>2</td>\n",
       "      <td>5</td>\n",
       "      <td>5</td>\n",
       "      <td>4</td>\n",
       "      <td>3</td>\n",
       "      <td>2</td>\n",
       "      <td>...</td>\n",
       "      <td>2</td>\n",
       "      <td>2</td>\n",
       "      <td>2</td>\n",
       "      <td>3</td>\n",
       "      <td>2</td>\n",
       "      <td>2</td>\n",
       "      <td>2</td>\n",
       "      <td>2</td>\n",
       "      <td>2</td>\n",
       "      <td>2</td>\n",
       "    </tr>\n",
       "    <tr>\n",
       "      <th>top</th>\n",
       "      <td>GP</td>\n",
       "      <td>F</td>\n",
       "      <td>U</td>\n",
       "      <td>GT3</td>\n",
       "      <td>T</td>\n",
       "      <td>other</td>\n",
       "      <td>other</td>\n",
       "      <td>course</td>\n",
       "      <td>mother</td>\n",
       "      <td>no</td>\n",
       "      <td>...</td>\n",
       "      <td>yes</td>\n",
       "      <td>yes</td>\n",
       "      <td>no</td>\n",
       "      <td>mother</td>\n",
       "      <td>no</td>\n",
       "      <td>yes</td>\n",
       "      <td>no</td>\n",
       "      <td>yes</td>\n",
       "      <td>yes</td>\n",
       "      <td>no</td>\n",
       "    </tr>\n",
       "    <tr>\n",
       "      <th>freq</th>\n",
       "      <td>342</td>\n",
       "      <td>198</td>\n",
       "      <td>301</td>\n",
       "      <td>278</td>\n",
       "      <td>344</td>\n",
       "      <td>138</td>\n",
       "      <td>211</td>\n",
       "      <td>140</td>\n",
       "      <td>275</td>\n",
       "      <td>331</td>\n",
       "      <td>...</td>\n",
       "      <td>364</td>\n",
       "      <td>324</td>\n",
       "      <td>261</td>\n",
       "      <td>275</td>\n",
       "      <td>332</td>\n",
       "      <td>239</td>\n",
       "      <td>356</td>\n",
       "      <td>200</td>\n",
       "      <td>364</td>\n",
       "      <td>259</td>\n",
       "    </tr>\n",
       "  </tbody>\n",
       "</table>\n",
       "<p>4 rows × 24 columns</p>\n",
       "</div>"
      ],
      "text/plain": [
       "       school  sex address famsize Pstatus   Mjob   Fjob  reason guardian_x  \\\n",
       "count     382  382     382     382     382    382    382     382        382   \n",
       "unique      2    2       2       2       2      5      5       4          3   \n",
       "top        GP    F       U     GT3       T  other  other  course     mother   \n",
       "freq      342  198     301     278     344    138    211     140        275   \n",
       "\n",
       "       schoolsup_x    ...     higher_x internet romantic_x guardian_y  \\\n",
       "count          382    ...          382      382        382        382   \n",
       "unique           2    ...            2        2          2          3   \n",
       "top             no    ...          yes      yes         no     mother   \n",
       "freq           331    ...          364      324        261        275   \n",
       "\n",
       "       schoolsup_y famsup_y paid_y activities_y higher_y romantic_y  \n",
       "count          382      382    382          382      382        382  \n",
       "unique           2        2      2            2        2          2  \n",
       "top             no      yes     no          yes      yes         no  \n",
       "freq           332      239    356          200      364        259  \n",
       "\n",
       "[4 rows x 24 columns]"
      ]
     },
     "execution_count": 892,
     "metadata": {},
     "output_type": "execute_result"
    }
   ],
   "source": [
    "student.select_dtypes(include=['object']).describe()"
   ]
  },
  {
   "cell_type": "code",
   "execution_count": 893,
   "metadata": {},
   "outputs": [
    {
     "data": {
      "text/html": [
       "<div>\n",
       "<style>\n",
       "    .dataframe thead tr:only-child th {\n",
       "        text-align: right;\n",
       "    }\n",
       "\n",
       "    .dataframe thead th {\n",
       "        text-align: left;\n",
       "    }\n",
       "\n",
       "    .dataframe tbody tr th {\n",
       "        vertical-align: top;\n",
       "    }\n",
       "</style>\n",
       "<table border=\"1\" class=\"dataframe\">\n",
       "  <thead>\n",
       "    <tr style=\"text-align: right;\">\n",
       "      <th></th>\n",
       "      <th>0</th>\n",
       "      <th>1</th>\n",
       "    </tr>\n",
       "  </thead>\n",
       "  <tbody>\n",
       "    <tr>\n",
       "      <th>school</th>\n",
       "      <td>object</td>\n",
       "      <td>0</td>\n",
       "    </tr>\n",
       "    <tr>\n",
       "      <th>sex</th>\n",
       "      <td>object</td>\n",
       "      <td>0</td>\n",
       "    </tr>\n",
       "    <tr>\n",
       "      <th>age</th>\n",
       "      <td>int64</td>\n",
       "      <td>0</td>\n",
       "    </tr>\n",
       "    <tr>\n",
       "      <th>address</th>\n",
       "      <td>object</td>\n",
       "      <td>0</td>\n",
       "    </tr>\n",
       "    <tr>\n",
       "      <th>famsize</th>\n",
       "      <td>object</td>\n",
       "      <td>0</td>\n",
       "    </tr>\n",
       "    <tr>\n",
       "      <th>Pstatus</th>\n",
       "      <td>object</td>\n",
       "      <td>0</td>\n",
       "    </tr>\n",
       "    <tr>\n",
       "      <th>Medu</th>\n",
       "      <td>int64</td>\n",
       "      <td>0</td>\n",
       "    </tr>\n",
       "    <tr>\n",
       "      <th>Fedu</th>\n",
       "      <td>int64</td>\n",
       "      <td>0</td>\n",
       "    </tr>\n",
       "    <tr>\n",
       "      <th>Mjob</th>\n",
       "      <td>object</td>\n",
       "      <td>0</td>\n",
       "    </tr>\n",
       "    <tr>\n",
       "      <th>Fjob</th>\n",
       "      <td>object</td>\n",
       "      <td>0</td>\n",
       "    </tr>\n",
       "    <tr>\n",
       "      <th>reason</th>\n",
       "      <td>object</td>\n",
       "      <td>0</td>\n",
       "    </tr>\n",
       "    <tr>\n",
       "      <th>guardian_x</th>\n",
       "      <td>object</td>\n",
       "      <td>0</td>\n",
       "    </tr>\n",
       "    <tr>\n",
       "      <th>traveltime_x</th>\n",
       "      <td>int64</td>\n",
       "      <td>0</td>\n",
       "    </tr>\n",
       "    <tr>\n",
       "      <th>studytime_x</th>\n",
       "      <td>int64</td>\n",
       "      <td>0</td>\n",
       "    </tr>\n",
       "    <tr>\n",
       "      <th>failures_x</th>\n",
       "      <td>int64</td>\n",
       "      <td>0</td>\n",
       "    </tr>\n",
       "    <tr>\n",
       "      <th>schoolsup_x</th>\n",
       "      <td>object</td>\n",
       "      <td>0</td>\n",
       "    </tr>\n",
       "    <tr>\n",
       "      <th>famsup_x</th>\n",
       "      <td>object</td>\n",
       "      <td>0</td>\n",
       "    </tr>\n",
       "    <tr>\n",
       "      <th>paid_x</th>\n",
       "      <td>object</td>\n",
       "      <td>0</td>\n",
       "    </tr>\n",
       "    <tr>\n",
       "      <th>activities_x</th>\n",
       "      <td>object</td>\n",
       "      <td>0</td>\n",
       "    </tr>\n",
       "    <tr>\n",
       "      <th>nursery</th>\n",
       "      <td>object</td>\n",
       "      <td>0</td>\n",
       "    </tr>\n",
       "    <tr>\n",
       "      <th>higher_x</th>\n",
       "      <td>object</td>\n",
       "      <td>0</td>\n",
       "    </tr>\n",
       "    <tr>\n",
       "      <th>internet</th>\n",
       "      <td>object</td>\n",
       "      <td>0</td>\n",
       "    </tr>\n",
       "    <tr>\n",
       "      <th>romantic_x</th>\n",
       "      <td>object</td>\n",
       "      <td>0</td>\n",
       "    </tr>\n",
       "    <tr>\n",
       "      <th>famrel_x</th>\n",
       "      <td>int64</td>\n",
       "      <td>0</td>\n",
       "    </tr>\n",
       "    <tr>\n",
       "      <th>freetime_x</th>\n",
       "      <td>int64</td>\n",
       "      <td>0</td>\n",
       "    </tr>\n",
       "    <tr>\n",
       "      <th>goout_x</th>\n",
       "      <td>int64</td>\n",
       "      <td>0</td>\n",
       "    </tr>\n",
       "    <tr>\n",
       "      <th>Dalc_x</th>\n",
       "      <td>int64</td>\n",
       "      <td>0</td>\n",
       "    </tr>\n",
       "    <tr>\n",
       "      <th>Walc_x</th>\n",
       "      <td>int64</td>\n",
       "      <td>0</td>\n",
       "    </tr>\n",
       "    <tr>\n",
       "      <th>health_x</th>\n",
       "      <td>int64</td>\n",
       "      <td>0</td>\n",
       "    </tr>\n",
       "    <tr>\n",
       "      <th>absences_x</th>\n",
       "      <td>int64</td>\n",
       "      <td>0</td>\n",
       "    </tr>\n",
       "    <tr>\n",
       "      <th>G1_m</th>\n",
       "      <td>int64</td>\n",
       "      <td>0</td>\n",
       "    </tr>\n",
       "    <tr>\n",
       "      <th>G2_m</th>\n",
       "      <td>int64</td>\n",
       "      <td>0</td>\n",
       "    </tr>\n",
       "    <tr>\n",
       "      <th>G3_m</th>\n",
       "      <td>int64</td>\n",
       "      <td>0</td>\n",
       "    </tr>\n",
       "    <tr>\n",
       "      <th>guardian_y</th>\n",
       "      <td>object</td>\n",
       "      <td>0</td>\n",
       "    </tr>\n",
       "    <tr>\n",
       "      <th>traveltime_y</th>\n",
       "      <td>int64</td>\n",
       "      <td>0</td>\n",
       "    </tr>\n",
       "    <tr>\n",
       "      <th>studytime_y</th>\n",
       "      <td>int64</td>\n",
       "      <td>0</td>\n",
       "    </tr>\n",
       "    <tr>\n",
       "      <th>failures_y</th>\n",
       "      <td>int64</td>\n",
       "      <td>0</td>\n",
       "    </tr>\n",
       "    <tr>\n",
       "      <th>schoolsup_y</th>\n",
       "      <td>object</td>\n",
       "      <td>0</td>\n",
       "    </tr>\n",
       "    <tr>\n",
       "      <th>famsup_y</th>\n",
       "      <td>object</td>\n",
       "      <td>0</td>\n",
       "    </tr>\n",
       "    <tr>\n",
       "      <th>paid_y</th>\n",
       "      <td>object</td>\n",
       "      <td>0</td>\n",
       "    </tr>\n",
       "    <tr>\n",
       "      <th>activities_y</th>\n",
       "      <td>object</td>\n",
       "      <td>0</td>\n",
       "    </tr>\n",
       "    <tr>\n",
       "      <th>higher_y</th>\n",
       "      <td>object</td>\n",
       "      <td>0</td>\n",
       "    </tr>\n",
       "    <tr>\n",
       "      <th>romantic_y</th>\n",
       "      <td>object</td>\n",
       "      <td>0</td>\n",
       "    </tr>\n",
       "    <tr>\n",
       "      <th>famrel_y</th>\n",
       "      <td>int64</td>\n",
       "      <td>0</td>\n",
       "    </tr>\n",
       "    <tr>\n",
       "      <th>freetime_y</th>\n",
       "      <td>int64</td>\n",
       "      <td>0</td>\n",
       "    </tr>\n",
       "    <tr>\n",
       "      <th>goout_y</th>\n",
       "      <td>int64</td>\n",
       "      <td>0</td>\n",
       "    </tr>\n",
       "    <tr>\n",
       "      <th>Dalc_y</th>\n",
       "      <td>int64</td>\n",
       "      <td>0</td>\n",
       "    </tr>\n",
       "    <tr>\n",
       "      <th>Walc_y</th>\n",
       "      <td>int64</td>\n",
       "      <td>0</td>\n",
       "    </tr>\n",
       "    <tr>\n",
       "      <th>health_y</th>\n",
       "      <td>int64</td>\n",
       "      <td>0</td>\n",
       "    </tr>\n",
       "    <tr>\n",
       "      <th>absences_y</th>\n",
       "      <td>int64</td>\n",
       "      <td>0</td>\n",
       "    </tr>\n",
       "    <tr>\n",
       "      <th>G1_p</th>\n",
       "      <td>int64</td>\n",
       "      <td>0</td>\n",
       "    </tr>\n",
       "    <tr>\n",
       "      <th>G2_p</th>\n",
       "      <td>int64</td>\n",
       "      <td>0</td>\n",
       "    </tr>\n",
       "    <tr>\n",
       "      <th>G3_p</th>\n",
       "      <td>int64</td>\n",
       "      <td>0</td>\n",
       "    </tr>\n",
       "  </tbody>\n",
       "</table>\n",
       "</div>"
      ],
      "text/plain": [
       "                   0  1\n",
       "school        object  0\n",
       "sex           object  0\n",
       "age            int64  0\n",
       "address       object  0\n",
       "famsize       object  0\n",
       "Pstatus       object  0\n",
       "Medu           int64  0\n",
       "Fedu           int64  0\n",
       "Mjob          object  0\n",
       "Fjob          object  0\n",
       "reason        object  0\n",
       "guardian_x    object  0\n",
       "traveltime_x   int64  0\n",
       "studytime_x    int64  0\n",
       "failures_x     int64  0\n",
       "schoolsup_x   object  0\n",
       "famsup_x      object  0\n",
       "paid_x        object  0\n",
       "activities_x  object  0\n",
       "nursery       object  0\n",
       "higher_x      object  0\n",
       "internet      object  0\n",
       "romantic_x    object  0\n",
       "famrel_x       int64  0\n",
       "freetime_x     int64  0\n",
       "goout_x        int64  0\n",
       "Dalc_x         int64  0\n",
       "Walc_x         int64  0\n",
       "health_x       int64  0\n",
       "absences_x     int64  0\n",
       "G1_m           int64  0\n",
       "G2_m           int64  0\n",
       "G3_m           int64  0\n",
       "guardian_y    object  0\n",
       "traveltime_y   int64  0\n",
       "studytime_y    int64  0\n",
       "failures_y     int64  0\n",
       "schoolsup_y   object  0\n",
       "famsup_y      object  0\n",
       "paid_y        object  0\n",
       "activities_y  object  0\n",
       "higher_y      object  0\n",
       "romantic_y    object  0\n",
       "famrel_y       int64  0\n",
       "freetime_y     int64  0\n",
       "goout_y        int64  0\n",
       "Dalc_y         int64  0\n",
       "Walc_y         int64  0\n",
       "health_y       int64  0\n",
       "absences_y     int64  0\n",
       "G1_p           int64  0\n",
       "G2_p           int64  0\n",
       "G3_p           int64  0"
      ]
     },
     "execution_count": 893,
     "metadata": {},
     "output_type": "execute_result"
    }
   ],
   "source": [
    "pd.concat([student.dtypes,student.isnull().sum()],axis=1)"
   ]
  },
  {
   "cell_type": "code",
   "execution_count": 894,
   "metadata": {},
   "outputs": [
    {
     "name": "stdout",
     "output_type": "stream",
     "text": [
      "Conclusion: There are  0  NULL values\n"
     ]
    }
   ],
   "source": [
    "a=[]\n",
    "for i in range(len(student.isnull().sum())):\n",
    "        if student.isnull().sum()[i]>0:\n",
    "            a.append(student.isnull().sum()[i])\n",
    "            print (student.columns[i],student.isnull().sum()[i])\n",
    "print('Conclusion: There are ',len(a),' NULL values')"
   ]
  },
  {
   "cell_type": "markdown",
   "metadata": {},
   "source": [
    "### Cleaning data"
   ]
  },
  {
   "cell_type": "markdown",
   "metadata": {},
   "source": [
    "##### Categorical variables"
   ]
  },
  {
   "cell_type": "code",
   "execution_count": 895,
   "metadata": {},
   "outputs": [
    {
     "data": {
      "text/plain": [
       "Index(['school', 'sex', 'address', 'famsize', 'Pstatus', 'Mjob', 'Fjob',\n",
       "       'reason', 'guardian_x', 'schoolsup_x', 'famsup_x', 'paid_x',\n",
       "       'activities_x', 'nursery', 'higher_x', 'internet', 'romantic_x',\n",
       "       'guardian_y', 'schoolsup_y', 'famsup_y', 'paid_y', 'activities_y',\n",
       "       'higher_y', 'romantic_y'],\n",
       "      dtype='object')"
      ]
     },
     "execution_count": 895,
     "metadata": {},
     "output_type": "execute_result"
    }
   ],
   "source": [
    "student.select_dtypes(include=['object']).columns"
   ]
  },
  {
   "cell_type": "markdown",
   "metadata": {},
   "source": [
    "#### Dummy variables"
   ]
  },
  {
   "cell_type": "code",
   "execution_count": 896,
   "metadata": {},
   "outputs": [],
   "source": [
    "dummies=pd.get_dummies(student[student.select_dtypes(include=['object']).columns])"
   ]
  },
  {
   "cell_type": "code",
   "execution_count": 897,
   "metadata": {},
   "outputs": [],
   "source": [
    "student_dummies=student.drop(student[student.select_dtypes(include=['object']).columns], axis=1)"
   ]
  },
  {
   "cell_type": "code",
   "execution_count": 898,
   "metadata": {},
   "outputs": [],
   "source": [
    "student_dummies=student_dummies.join(dummies)"
   ]
  },
  {
   "cell_type": "code",
   "execution_count": 899,
   "metadata": {},
   "outputs": [
    {
     "data": {
      "text/plain": [
       "Index(['age', 'Medu', 'Fedu', 'traveltime_x', 'studytime_x', 'failures_x',\n",
       "       'famrel_x', 'freetime_x', 'goout_x', 'Dalc_x', 'Walc_x', 'health_x',\n",
       "       'absences_x', 'G1_m', 'G2_m', 'G3_m', 'traveltime_y', 'studytime_y',\n",
       "       'failures_y', 'famrel_y', 'freetime_y', 'goout_y', 'Dalc_y', 'Walc_y',\n",
       "       'health_y', 'absences_y', 'G1_p', 'G2_p', 'G3_p', 'school_GP',\n",
       "       'school_MS', 'sex_F', 'sex_M', 'address_R', 'address_U', 'famsize_GT3',\n",
       "       'famsize_LE3', 'Pstatus_A', 'Pstatus_T', 'Mjob_at_home', 'Mjob_health',\n",
       "       'Mjob_other', 'Mjob_services', 'Mjob_teacher', 'Fjob_at_home',\n",
       "       'Fjob_health', 'Fjob_other', 'Fjob_services', 'Fjob_teacher',\n",
       "       'reason_course', 'reason_home', 'reason_other', 'reason_reputation',\n",
       "       'guardian_x_father', 'guardian_x_mother', 'guardian_x_other',\n",
       "       'schoolsup_x_no', 'schoolsup_x_yes', 'famsup_x_no', 'famsup_x_yes',\n",
       "       'paid_x_no', 'paid_x_yes', 'activities_x_no', 'activities_x_yes',\n",
       "       'nursery_no', 'nursery_yes', 'higher_x_no', 'higher_x_yes',\n",
       "       'internet_no', 'internet_yes', 'romantic_x_no', 'romantic_x_yes',\n",
       "       'guardian_y_father', 'guardian_y_mother', 'guardian_y_other',\n",
       "       'schoolsup_y_no', 'schoolsup_y_yes', 'famsup_y_no', 'famsup_y_yes',\n",
       "       'paid_y_no', 'paid_y_yes', 'activities_y_no', 'activities_y_yes',\n",
       "       'higher_y_no', 'higher_y_yes', 'romantic_y_no', 'romantic_y_yes'],\n",
       "      dtype='object')"
      ]
     },
     "execution_count": 899,
     "metadata": {},
     "output_type": "execute_result"
    }
   ],
   "source": [
    "student_dummies.columns"
   ]
  },
  {
   "cell_type": "code",
   "execution_count": 900,
   "metadata": {},
   "outputs": [],
   "source": [
    "#Grade>=10 passed(1); Grade<10 failed(0)\n",
    "for i in range(student_dummies.columns.get_loc(\"G1_p\"),student_dummies.columns.get_loc(\"G3_p\")+1):\n",
    "    student_dummies.iloc[:,i] = np.where(student_dummies.iloc[:,i]<10, 0, 1)"
   ]
  },
  {
   "cell_type": "code",
   "execution_count": 901,
   "metadata": {},
   "outputs": [],
   "source": [
    "#Grade>=10 passed(1); Grade<10 failed(0)\n",
    "for i in range(student_dummies.columns.get_loc(\"G1_m\"),student_dummies.columns.get_loc(\"G3_m\")+1):\n",
    "    student_dummies.iloc[:,i] = np.where(student_dummies.iloc[:,i]<10, 0, 1)"
   ]
  },
  {
   "cell_type": "markdown",
   "metadata": {},
   "source": [
    "## yeast.shape"
   ]
  },
  {
   "cell_type": "code",
   "execution_count": 902,
   "metadata": {},
   "outputs": [
    {
     "data": {
      "text/html": [
       "<div>\n",
       "<style>\n",
       "    .dataframe thead tr:only-child th {\n",
       "        text-align: right;\n",
       "    }\n",
       "\n",
       "    .dataframe thead th {\n",
       "        text-align: left;\n",
       "    }\n",
       "\n",
       "    .dataframe tbody tr th {\n",
       "        vertical-align: top;\n",
       "    }\n",
       "</style>\n",
       "<table border=\"1\" class=\"dataframe\">\n",
       "  <thead>\n",
       "    <tr style=\"text-align: right;\">\n",
       "      <th></th>\n",
       "      <th>Att1</th>\n",
       "      <th>Att2</th>\n",
       "      <th>Att3</th>\n",
       "      <th>Att4</th>\n",
       "      <th>Att5</th>\n",
       "      <th>Att6</th>\n",
       "      <th>Att7</th>\n",
       "      <th>Att8</th>\n",
       "      <th>Att9</th>\n",
       "      <th>Att10</th>\n",
       "      <th>...</th>\n",
       "      <th>Class5</th>\n",
       "      <th>Class6</th>\n",
       "      <th>Class7</th>\n",
       "      <th>Class8</th>\n",
       "      <th>Class9</th>\n",
       "      <th>Class10</th>\n",
       "      <th>Class11</th>\n",
       "      <th>Class12</th>\n",
       "      <th>Class13</th>\n",
       "      <th>Class14</th>\n",
       "    </tr>\n",
       "  </thead>\n",
       "  <tbody>\n",
       "    <tr>\n",
       "      <th>0</th>\n",
       "      <td>0.004168</td>\n",
       "      <td>-0.170975</td>\n",
       "      <td>-0.156748</td>\n",
       "      <td>-0.142151</td>\n",
       "      <td>0.058781</td>\n",
       "      <td>0.026851</td>\n",
       "      <td>0.197719</td>\n",
       "      <td>0.041850</td>\n",
       "      <td>0.066938</td>\n",
       "      <td>-0.056617</td>\n",
       "      <td>...</td>\n",
       "      <td>b'0'</td>\n",
       "      <td>b'0'</td>\n",
       "      <td>b'1'</td>\n",
       "      <td>b'1'</td>\n",
       "      <td>b'0'</td>\n",
       "      <td>b'0'</td>\n",
       "      <td>b'0'</td>\n",
       "      <td>b'1'</td>\n",
       "      <td>b'1'</td>\n",
       "      <td>b'0'</td>\n",
       "    </tr>\n",
       "    <tr>\n",
       "      <th>1</th>\n",
       "      <td>-0.103956</td>\n",
       "      <td>0.011879</td>\n",
       "      <td>-0.098986</td>\n",
       "      <td>-0.054501</td>\n",
       "      <td>-0.007970</td>\n",
       "      <td>0.049113</td>\n",
       "      <td>-0.030580</td>\n",
       "      <td>-0.077933</td>\n",
       "      <td>-0.080529</td>\n",
       "      <td>-0.016267</td>\n",
       "      <td>...</td>\n",
       "      <td>b'0'</td>\n",
       "      <td>b'0'</td>\n",
       "      <td>b'0'</td>\n",
       "      <td>b'0'</td>\n",
       "      <td>b'0'</td>\n",
       "      <td>b'0'</td>\n",
       "      <td>b'0'</td>\n",
       "      <td>b'0'</td>\n",
       "      <td>b'0'</td>\n",
       "      <td>b'0'</td>\n",
       "    </tr>\n",
       "    <tr>\n",
       "      <th>2</th>\n",
       "      <td>0.509949</td>\n",
       "      <td>0.401709</td>\n",
       "      <td>0.293799</td>\n",
       "      <td>0.087714</td>\n",
       "      <td>0.011686</td>\n",
       "      <td>-0.006411</td>\n",
       "      <td>-0.006255</td>\n",
       "      <td>0.013646</td>\n",
       "      <td>-0.040666</td>\n",
       "      <td>-0.024447</td>\n",
       "      <td>...</td>\n",
       "      <td>b'0'</td>\n",
       "      <td>b'0'</td>\n",
       "      <td>b'0'</td>\n",
       "      <td>b'0'</td>\n",
       "      <td>b'0'</td>\n",
       "      <td>b'0'</td>\n",
       "      <td>b'0'</td>\n",
       "      <td>b'1'</td>\n",
       "      <td>b'1'</td>\n",
       "      <td>b'0'</td>\n",
       "    </tr>\n",
       "    <tr>\n",
       "      <th>3</th>\n",
       "      <td>0.119092</td>\n",
       "      <td>0.004412</td>\n",
       "      <td>-0.002262</td>\n",
       "      <td>0.072254</td>\n",
       "      <td>0.044512</td>\n",
       "      <td>-0.051467</td>\n",
       "      <td>0.074686</td>\n",
       "      <td>-0.007670</td>\n",
       "      <td>0.079438</td>\n",
       "      <td>0.062184</td>\n",
       "      <td>...</td>\n",
       "      <td>b'0'</td>\n",
       "      <td>b'0'</td>\n",
       "      <td>b'0'</td>\n",
       "      <td>b'0'</td>\n",
       "      <td>b'0'</td>\n",
       "      <td>b'0'</td>\n",
       "      <td>b'0'</td>\n",
       "      <td>b'0'</td>\n",
       "      <td>b'0'</td>\n",
       "      <td>b'0'</td>\n",
       "    </tr>\n",
       "    <tr>\n",
       "      <th>4</th>\n",
       "      <td>0.042037</td>\n",
       "      <td>0.007054</td>\n",
       "      <td>-0.069483</td>\n",
       "      <td>0.081015</td>\n",
       "      <td>-0.048207</td>\n",
       "      <td>0.089446</td>\n",
       "      <td>-0.004947</td>\n",
       "      <td>0.064456</td>\n",
       "      <td>-0.133387</td>\n",
       "      <td>0.068878</td>\n",
       "      <td>...</td>\n",
       "      <td>b'1'</td>\n",
       "      <td>b'1'</td>\n",
       "      <td>b'0'</td>\n",
       "      <td>b'0'</td>\n",
       "      <td>b'0'</td>\n",
       "      <td>b'0'</td>\n",
       "      <td>b'0'</td>\n",
       "      <td>b'0'</td>\n",
       "      <td>b'0'</td>\n",
       "      <td>b'0'</td>\n",
       "    </tr>\n",
       "  </tbody>\n",
       "</table>\n",
       "<p>5 rows × 117 columns</p>\n",
       "</div>"
      ],
      "text/plain": [
       "       Att1      Att2      Att3      Att4      Att5      Att6      Att7  \\\n",
       "0  0.004168 -0.170975 -0.156748 -0.142151  0.058781  0.026851  0.197719   \n",
       "1 -0.103956  0.011879 -0.098986 -0.054501 -0.007970  0.049113 -0.030580   \n",
       "2  0.509949  0.401709  0.293799  0.087714  0.011686 -0.006411 -0.006255   \n",
       "3  0.119092  0.004412 -0.002262  0.072254  0.044512 -0.051467  0.074686   \n",
       "4  0.042037  0.007054 -0.069483  0.081015 -0.048207  0.089446 -0.004947   \n",
       "\n",
       "       Att8      Att9     Att10   ...     Class5  Class6  Class7  Class8  \\\n",
       "0  0.041850  0.066938 -0.056617   ...       b'0'    b'0'    b'1'    b'1'   \n",
       "1 -0.077933 -0.080529 -0.016267   ...       b'0'    b'0'    b'0'    b'0'   \n",
       "2  0.013646 -0.040666 -0.024447   ...       b'0'    b'0'    b'0'    b'0'   \n",
       "3 -0.007670  0.079438  0.062184   ...       b'0'    b'0'    b'0'    b'0'   \n",
       "4  0.064456 -0.133387  0.068878   ...       b'1'    b'1'    b'0'    b'0'   \n",
       "\n",
       "   Class9  Class10  Class11  Class12  Class13  Class14  \n",
       "0    b'0'     b'0'     b'0'     b'1'     b'1'     b'0'  \n",
       "1    b'0'     b'0'     b'0'     b'0'     b'0'     b'0'  \n",
       "2    b'0'     b'0'     b'0'     b'1'     b'1'     b'0'  \n",
       "3    b'0'     b'0'     b'0'     b'0'     b'0'     b'0'  \n",
       "4    b'0'     b'0'     b'0'     b'0'     b'0'     b'0'  \n",
       "\n",
       "[5 rows x 117 columns]"
      ]
     },
     "execution_count": 902,
     "metadata": {},
     "output_type": "execute_result"
    }
   ],
   "source": [
    "yeast.head()"
   ]
  },
  {
   "cell_type": "code",
   "execution_count": 903,
   "metadata": {},
   "outputs": [],
   "source": [
    "for i in range(yeast.columns.get_loc(\"Class1\"),yeast.columns.get_loc(\"Class14\")+1):\n",
    "    yeast.iloc[:,i] =yeast.iloc[:,i] .replace(yeast.iloc[:,i] .unique()[1], 1)\n",
    "    yeast.iloc[:,i]  =yeast.iloc[:,i] .replace(yeast.iloc[:,i] .unique()[0], 0)"
   ]
  },
  {
   "cell_type": "code",
   "execution_count": 904,
   "metadata": {},
   "outputs": [
    {
     "name": "stdout",
     "output_type": "stream",
     "text": [
      "[0 1]\n",
      "[0 1]\n",
      "[0 1]\n",
      "[0 1]\n",
      "[0 1]\n",
      "[0 1]\n",
      "[0 1]\n",
      "[0 1]\n",
      "[0 1]\n",
      "[0 1]\n",
      "[0 1]\n",
      "[0 1]\n",
      "[0 1]\n",
      "[0 1]\n"
     ]
    }
   ],
   "source": [
    "for i in range(yeast.columns.get_loc(\"Class1\"),yeast.columns.get_loc(\"Class14\")+1):\n",
    "      print(yeast.iloc[:,i].unique())"
   ]
  },
  {
   "cell_type": "code",
   "execution_count": 905,
   "metadata": {},
   "outputs": [
    {
     "data": {
      "text/html": [
       "<div>\n",
       "<style>\n",
       "    .dataframe thead tr:only-child th {\n",
       "        text-align: right;\n",
       "    }\n",
       "\n",
       "    .dataframe thead th {\n",
       "        text-align: left;\n",
       "    }\n",
       "\n",
       "    .dataframe tbody tr th {\n",
       "        vertical-align: top;\n",
       "    }\n",
       "</style>\n",
       "<table border=\"1\" class=\"dataframe\">\n",
       "  <thead>\n",
       "    <tr style=\"text-align: right;\">\n",
       "      <th></th>\n",
       "      <th>Att1</th>\n",
       "      <th>Att2</th>\n",
       "      <th>Att3</th>\n",
       "      <th>Att4</th>\n",
       "      <th>Att5</th>\n",
       "      <th>Att6</th>\n",
       "      <th>Att7</th>\n",
       "      <th>Att8</th>\n",
       "      <th>Att9</th>\n",
       "      <th>Att10</th>\n",
       "      <th>...</th>\n",
       "      <th>Class5</th>\n",
       "      <th>Class6</th>\n",
       "      <th>Class7</th>\n",
       "      <th>Class8</th>\n",
       "      <th>Class9</th>\n",
       "      <th>Class10</th>\n",
       "      <th>Class11</th>\n",
       "      <th>Class12</th>\n",
       "      <th>Class13</th>\n",
       "      <th>Class14</th>\n",
       "    </tr>\n",
       "  </thead>\n",
       "  <tbody>\n",
       "    <tr>\n",
       "      <th>0</th>\n",
       "      <td>0.004168</td>\n",
       "      <td>-0.170975</td>\n",
       "      <td>-0.156748</td>\n",
       "      <td>-0.142151</td>\n",
       "      <td>0.058781</td>\n",
       "      <td>0.026851</td>\n",
       "      <td>0.197719</td>\n",
       "      <td>0.04185</td>\n",
       "      <td>0.066938</td>\n",
       "      <td>-0.056617</td>\n",
       "      <td>...</td>\n",
       "      <td>0</td>\n",
       "      <td>0</td>\n",
       "      <td>0</td>\n",
       "      <td>0</td>\n",
       "      <td>0</td>\n",
       "      <td>0</td>\n",
       "      <td>0</td>\n",
       "      <td>0</td>\n",
       "      <td>0</td>\n",
       "      <td>0</td>\n",
       "    </tr>\n",
       "  </tbody>\n",
       "</table>\n",
       "<p>1 rows × 117 columns</p>\n",
       "</div>"
      ],
      "text/plain": [
       "       Att1      Att2      Att3      Att4      Att5      Att6      Att7  \\\n",
       "0  0.004168 -0.170975 -0.156748 -0.142151  0.058781  0.026851  0.197719   \n",
       "\n",
       "      Att8      Att9     Att10   ...     Class5  Class6  Class7  Class8  \\\n",
       "0  0.04185  0.066938 -0.056617   ...          0       0       0       0   \n",
       "\n",
       "   Class9  Class10  Class11  Class12  Class13  Class14  \n",
       "0       0        0        0        0        0        0  \n",
       "\n",
       "[1 rows x 117 columns]"
      ]
     },
     "execution_count": 905,
     "metadata": {},
     "output_type": "execute_result"
    }
   ],
   "source": [
    "yeast.head(1)"
   ]
  },
  {
   "cell_type": "code",
   "execution_count": 906,
   "metadata": {},
   "outputs": [],
   "source": [
    "#yeast.loc[:,[yeast.iloc[:,0], yeast.iloc[:,1]]]\n",
    "y_yeast=yeast.loc[:,\"Class1\":\"Class14\"]"
   ]
  },
  {
   "cell_type": "code",
   "execution_count": 907,
   "metadata": {},
   "outputs": [],
   "source": [
    "x_yeast=yeast.drop(y_yeast,axis=1)"
   ]
  },
  {
   "cell_type": "code",
   "execution_count": 908,
   "metadata": {},
   "outputs": [],
   "source": [
    "x_yeast_train, x_yeast_test, y_yeast_train, y_yeast_test = train_test_split(x_yeast,y_yeast, test_size=0.3, random_state=42)"
   ]
  },
  {
   "cell_type": "markdown",
   "metadata": {},
   "source": [
    "### 1. Problem transformation \n",
    " ####   Binary Relevance "
   ]
  },
  {
   "cell_type": "code",
   "execution_count": 909,
   "metadata": {},
   "outputs": [],
   "source": [
    "classifier = BinaryRelevance(RandomForestClassifier())\n",
    "classifier.fit(x_yeast_train, y_yeast_train)\n",
    "predictions = classifier.predict(x_yeast_test)"
   ]
  },
  {
   "cell_type": "code",
   "execution_count": 910,
   "metadata": {},
   "outputs": [
    {
     "data": {
      "text/plain": [
       "(726, 103)"
      ]
     },
     "execution_count": 910,
     "metadata": {},
     "output_type": "execute_result"
    }
   ],
   "source": [
    "x_yeast_test.shape"
   ]
  },
  {
   "cell_type": "code",
   "execution_count": 911,
   "metadata": {},
   "outputs": [
    {
     "data": {
      "text/plain": [
       "matrix([[0, 0, 0, ..., 0, 0, 0],\n",
       "        [0, 0, 0, ..., 0, 0, 0],\n",
       "        [1, 1, 0, ..., 0, 0, 0],\n",
       "        ..., \n",
       "        [0, 0, 0, ..., 0, 0, 0],\n",
       "        [0, 1, 0, ..., 0, 0, 0],\n",
       "        [0, 1, 0, ..., 0, 1, 0]], dtype=int64)"
      ]
     },
     "execution_count": 911,
     "metadata": {},
     "output_type": "execute_result"
    }
   ],
   "source": [
    "predictions.todense()"
   ]
  },
  {
   "cell_type": "code",
   "execution_count": 912,
   "metadata": {},
   "outputs": [
    {
     "name": "stdout",
     "output_type": "stream",
     "text": [
      "+-----------------+---------------------+\n",
      "|     Measures    |        Value        |\n",
      "+-----------------+---------------------+\n",
      "|     Accuracy    |    0.115702479339   |\n",
      "| Micro-Precision |    0.784490532011   |\n",
      "|   Macro-Recall  |    0.301833996171   |\n",
      "|   Micro-Recall  |    0.518319928508   |\n",
      "|     Micro-F1    |    0.624215246637   |\n",
      "|     0/1 loss    |    0.884297520661   |\n",
      "|   Hamming loss  | 0.20611963793781976 |\n",
      "+-----------------+---------------------+\n"
     ]
    }
   ],
   "source": [
    "t = PrettyTable(['Measures', 'Value'])\n",
    "t.add_row(['Accuracy',accuracy_score(y_yeast_test,predictions)])\n",
    "t.add_row(['Micro-Precision',precision_score(y_yeast_test,predictions,average='micro')])\n",
    "t.add_row(['Macro-Recall',recall_score(y_yeast_test,predictions,average='macro')])\n",
    "t.add_row(['Micro-Recall',recall_score(y_yeast_test,predictions,average='micro')])\n",
    "t.add_row(['Micro-F1',f1_score(y_yeast_test,predictions,average='micro')])\n",
    "t.add_row(['0/1 loss',zero_one_loss(y_yeast_test,predictions)])\n",
    "t.add_row(['Hamming loss',hamming_loss(y_yeast_test,predictions)])\n",
    "print(t) "
   ]
  },
  {
   "cell_type": "code",
   "execution_count": 913,
   "metadata": {},
   "outputs": [
    {
     "data": {
      "text/plain": [
       "scipy.sparse.csc.csc_matrix"
      ]
     },
     "execution_count": 913,
     "metadata": {},
     "output_type": "execute_result"
    }
   ],
   "source": [
    "type(predictions)"
   ]
  },
  {
   "cell_type": "code",
   "execution_count": 914,
   "metadata": {},
   "outputs": [],
   "source": [
    "predictions = classifier.predict(x_yeast_test)"
   ]
  },
  {
   "cell_type": "code",
   "execution_count": 915,
   "metadata": {},
   "outputs": [
    {
     "data": {
      "text/plain": [
       "matrix([[ 0.1,  0.4,  0.1, ...,  0.5,  0.3,  0. ],\n",
       "        [ 0. ,  0.5,  0.4, ...,  0.5,  0.3,  0. ],\n",
       "        [ 0.6,  0.7,  0.4, ...,  0.2,  0.5,  0.1],\n",
       "        ..., \n",
       "        [ 0.1,  0.1,  0.4, ...,  0.2,  0. ,  0. ],\n",
       "        [ 0.2,  0.6,  0.2, ...,  0.4,  0. ,  0. ],\n",
       "        [ 0.2,  0.6,  0.5, ...,  0.1,  0.7,  0. ]])"
      ]
     },
     "execution_count": 915,
     "metadata": {},
     "output_type": "execute_result"
    }
   ],
   "source": [
    "probas=classifier.predict_proba(x_yeast_test)\n",
    "#[:,1]\n",
    "probas.todense()"
   ]
  },
  {
   "cell_type": "code",
   "execution_count": 916,
   "metadata": {},
   "outputs": [],
   "source": [
    "#from sklearn.metrics import confusion_matrix\n",
    "#from sklearn.model_selection import cross_val_score\n",
    "#from sklearn.model_selection import GridSearchCV\n",
    "import matplotlib.pyplot as plt\n",
    "plt.style.use('ggplot')\n",
    "%matplotlib inline"
   ]
  },
  {
   "cell_type": "markdown",
   "metadata": {},
   "source": [
    "roc_aucs=pd.DataFrame()\n",
    "for i in range(n_classes):\n",
    "    fpr[i], tpr[i], _ = roc_curve(y_yeast_test.iloc[:, i], y_score[:, i])\n",
    "    roc_auc[i] = auc(fpr[i], tpr[i])\n",
    "    roc_aucs=roc_aucs.append(pd.concat([pd.Series(i),pd.Series(roc_auc[i])],axis=1))"
   ]
  },
  {
   "cell_type": "code",
   "execution_count": 917,
   "metadata": {},
   "outputs": [
    {
     "data": {
      "image/png": "[encoded data removed]",
      "text/plain": [
       "<matplotlib.figure.Figure at 0xbdc4590>"
      ]
     },
     "metadata": {},
     "output_type": "display_data"
    }
   ],
   "source": [
    "X = x_yeast_train\n",
    "y = y_yeast_train\n",
    "plt.figure(figsize=(20,10))\n",
    "\n",
    "\n",
    "# Binarize the output\n",
    "y = label_binarize(y, classes=y_yeast_train.columns)\n",
    "n_classes = y.shape[1]\n",
    " \n",
    "classifier = OneVsRestClassifier(svm.SVC(kernel='linear', probability=True,\n",
    "                                 random_state=43))\n",
    "y_score = classifier.fit(x_yeast_train, y_yeast_train).decision_function(x_yeast_test)\n",
    "\n",
    "# Compute ROC curve and ROC area for each class\n",
    "fpr = dict()\n",
    "tpr = dict()\n",
    "roc_auc = dict()\n",
    "for i in range(n_classes):\n",
    "    fpr[i], tpr[i], _ = roc_curve(y_yeast_test.iloc[:, i], y_score[:, i])\n",
    "    roc_auc[i] = auc(fpr[i], tpr[i])\n",
    "\n",
    "\n",
    "\n",
    "\n",
    "# Plot ROC curve\n",
    "#plt.figure()\n",
    "#plt.plot(fpr[\"micro\"], tpr[\"micro\"],\n",
    " #        label='micro-average ROC curve (area = {0:0.2f})'\n",
    "  #             ''.format(roc_auc[\"micro\"]))\n",
    "for i in range(n_classes):\n",
    "    plt.plot(fpr[i], tpr[i], label='ROC curve of class {0} (area = {1:0.2f})'\n",
    "                                   ''.format(i, roc_auc[i]))\n",
    "\n",
    "plt.plot([0, 1], [0, 1], 'k--')\n",
    "plt.xlim([0.0, 1.0])\n",
    "plt.ylim([0.0, 1.05])\n",
    "plt.xlabel('False Positive Rate')\n",
    "plt.ylabel('True Positive Rate')\n",
    "plt.title('Receiver operating characteristic to multi-class')\n",
    "plt.legend(loc=\"lower right\")\n",
    "plt.show()"
   ]
  },
  {
   "cell_type": "code",
   "execution_count": 918,
   "metadata": {},
   "outputs": [],
   "source": [
    "# HM functions"
   ]
  },
  {
   "cell_type": "code",
   "execution_count": 919,
   "metadata": {},
   "outputs": [],
   "source": [
    "def GetWantedClasses(a,df):\n",
    "    proba=pd.DataFrame()\n",
    "    for i in range(len(a)):\n",
    "        proba['Class'+str(a[i])]=pd.Series(df['Class'+str(a[i])])\n",
    "    return proba"
   ]
  },
  {
   "cell_type": "code",
   "execution_count": 920,
   "metadata": {},
   "outputs": [],
   "source": [
    "def GetClassNames(a):\n",
    "        classNames=[]\n",
    "\n",
    "        for i in range(len(a)):\n",
    "   # print('Class'+str(df.iloc[a[i],0]))\n",
    "          classNames.append('Class'+str(a[i]))\n",
    "        return classNames"
   ]
  },
  {
   "cell_type": "code",
   "execution_count": 921,
   "metadata": {},
   "outputs": [],
   "source": [
    "def SelectNROC_AUC_Scores(n,operation):\n",
    "    roc_aucs=pd.DataFrame()\n",
    "    for i in range(y_yeast_train.shape[1]):\n",
    "        fpr[i], tpr[i], _ = roc_curve(y_yeast_test.iloc[:, i], y_score[:, i])\n",
    "        roc_auc[i] = auc(fpr[i], tpr[i])\n",
    "        roc_aucs=roc_aucs.append(pd.concat([pd.Series(str(i+1)),pd.Series(fpr[i]),pd.Series(tpr[i]),pd.Series(roc_auc[i])],axis=1))\n",
    "    roc_aucs.rename_axis({0:''},inplace=True)\n",
    "    if operation==0:\n",
    "        return roc_aucs.nlargest(n,columns=3)\n",
    "    if operation==1:\n",
    "        return roc_aucs.nsmallest(n,columns=3)"
   ]
  },
  {
   "cell_type": "code",
   "execution_count": 922,
   "metadata": {},
   "outputs": [],
   "source": [
    "def plotOnlyN(n,operation):\n",
    "    df=SelectNROC_AUC_Scores(n,operation)\n",
    "    X = x_yeast_train\n",
    "    y = GetWantedClasses(pd.to_numeric(df[0]).ravel(),y_yeast_train)\n",
    "\n",
    "# Binarize the output\n",
    "\n",
    "#This way is exactly the same\n",
    "   # y = GetWantedClasses(pd.to_numeric(df[0]).ravel()).values\n",
    "    \n",
    "    \n",
    "   # y = label_binarize(GetWantedClasses(pd.to_numeric(df[0]).ravel()).values, classes=pd.Index(GetClassNames(pd.to_numeric(df[0]).ravel()))) \n",
    "    y = label_binarize(GetWantedClasses(pd.to_numeric(df[0]).ravel(),y_yeast_train),classes=pd.Index(GetClassNames(pd.to_numeric(df[0]).ravel())))\n",
    "\n",
    "    n_classes = y.shape[1]\n",
    " \n",
    "    classifier = OneVsRestClassifier(svm.SVC(kernel='linear', probability=True,\n",
    "                                 random_state=43))\n",
    "    y_score = classifier.fit(x_yeast_train, GetWantedClasses(pd.to_numeric(df[0]).ravel(),y_yeast_train)).decision_function(x_yeast_test)\n",
    "\n",
    "# Compute ROC curve and ROC area for each class\n",
    "    fpr = dict()\n",
    "    tpr = dict()\n",
    "    roc_auc = dict()\n",
    "    for i in range(n_classes):\n",
    "     #   fpr[i], tpr[i], _ = roc_curve(y_yeast_test.iloc[:, i], y_score[:, i])\n",
    "        fpr[i], tpr[i], _ = roc_curve(GetWantedClasses(pd.to_numeric(df[0]).ravel(),y_yeast_test).iloc[:, i], y_score[:, i])\n",
    "      #  roc_auc[i] = df.iloc[i,3]\n",
    "        #fpr[i], tpr[i], _ =df.iloc[i,1:4]\n",
    "        \n",
    "        #roc_auc[i] = auc(df.iloc[i,1], df.iloc[i,2])\n",
    "        roc_auc[i] = auc(fpr[i], tpr[i])\n",
    "\n",
    "        \n",
    "        \n",
    "    for i in range(n_classes):\n",
    "        plt.plot(fpr[i], tpr[i], label='ROC curve of class {0} (area = {1:0.2f})'\n",
    "                                   ''.format(pd.to_numeric(df.iloc[i,0]), roc_auc[i]))\n",
    "\n",
    "    plt.plot([0, 1], [0, 1], 'k--')\n",
    "    plt.xlim([0.0, 1.0])\n",
    "    plt.ylim([0.0, 1.05])\n",
    "    plt.xlabel('False Positive Rate')\n",
    "    plt.ylabel('True Positive Rate')\n",
    "    plt.title('Receiver operating characteristic to multi-class')\n",
    "    plt.legend(loc=\"lower right\")\n",
    "    return plt.show()"
   ]
  },
  {
   "cell_type": "markdown",
   "metadata": {},
   "source": [
    "### TOP N ROC scores"
   ]
  },
  {
   "cell_type": "raw",
   "metadata": {},
   "source": [
    "plotOnlyN(a,b)\n",
    "a-number of classes\n",
    "b-operation(0-TOP scores,1-WORST scores)"
   ]
  },
  {
   "cell_type": "code",
   "execution_count": 923,
   "metadata": {},
   "outputs": [
    {
     "data": {
      "image/png": "[encoded data removed]",
      "text/plain": [
       "<matplotlib.figure.Figure at 0xc087f30>"
      ]
     },
     "metadata": {},
     "output_type": "display_data"
    }
   ],
   "source": [
    "plotOnlyN(3,0)"
   ]
  },
  {
   "cell_type": "markdown",
   "metadata": {},
   "source": [
    "### WORST N ROC scores"
   ]
  },
  {
   "cell_type": "code",
   "execution_count": 924,
   "metadata": {},
   "outputs": [
    {
     "data": {
      "image/png": "[encoded data removed]",
      "text/plain": [
       "<matplotlib.figure.Figure at 0x104a86f0>"
      ]
     },
     "metadata": {},
     "output_type": "display_data"
    }
   ],
   "source": [
    "plotOnlyN(3,1)"
   ]
  },
  {
   "cell_type": "markdown",
   "metadata": {},
   "source": [
    "### 2. Algorithm adaptation"
   ]
  },
  {
   "cell_type": "code",
   "execution_count": 817,
   "metadata": {},
   "outputs": [],
   "source": [
    "x_yeast_train_sp=scipy.sparse.csr_matrix(x_yeast_train.values)\n",
    "y_yeast_train_sp=scipy.sparse.csr_matrix(y_yeast_train.values)\n",
    "x_yeast_test_sp=scipy.sparse.csr_matrix(x_yeast_test.values)\n",
    "y_yeast_test_sp=scipy.sparse.csr_matrix(y_yeast_test.values)"
   ]
  },
  {
   "cell_type": "code",
   "execution_count": 818,
   "metadata": {},
   "outputs": [
    {
     "name": "stdout",
     "output_type": "stream",
     "text": [
      "+-----------+----------------+\n",
      "|  Measures |     Value      |\n",
      "+-----------+----------------+\n",
      "|  Accuracy | 0.18870523416  |\n",
      "| Precision | 0.742685671418 |\n",
      "|   Recall  | 0.58981233244  |\n",
      "|  0/1 loss | 0.81129476584  |\n",
      "|     F1    | 0.657479661298 |\n",
      "+-----------+----------------+\n"
     ]
    }
   ],
   "source": [
    "classifier = MLkNN(k=10)\n",
    "\n",
    "# train\n",
    "classifier.fit(x_yeast_train_sp, y_yeast_train_sp)\n",
    "\n",
    "# predict\n",
    "predictions = classifier.predict(x_yeast_test_sp)\n",
    "#predict_proba\n",
    "\n",
    "\n",
    "t = PrettyTable(['Measures', 'Value'])\n",
    "t.add_row(['Accuracy',accuracy_score(y_yeast_test_sp,predictions)])\n",
    "t.add_row(['Precision',precision_score(y_yeast_test_sp,predictions,average='micro')])\n",
    "t.add_row(['Recall',recall_score(y_yeast_test_sp,predictions,average='micro')])\n",
    "t.add_row(['0/1 loss',zero_one_loss(y_yeast_test_sp,predictions)])\n",
    "t.add_row(['F1',f1_score(y_yeast_test_sp,predictions,average='micro')])\n",
    "print(t) "
   ]
  },
  {
   "cell_type": "code",
   "execution_count": 819,
   "metadata": {},
   "outputs": [
    {
     "name": "stdout",
     "output_type": "stream",
     "text": [
      "+-----------+----------------+\n",
      "|  Measures |     Value      |\n",
      "+-----------+----------------+\n",
      "|  Accuracy | 0.125344352617 |\n",
      "| Precision | 0.876732312181 |\n",
      "|   Recall  | 0.358057789693 |\n",
      "|  0/1 loss | 0.874655647383 |\n",
      "|     F1    | 0.508460236887 |\n",
      "+-----------+----------------+\n"
     ]
    }
   ],
   "source": [
    "classifier = BRkNNaClassifier(k=10)\n",
    "\n",
    "# train\n",
    "classifier.fit(x_yeast_train_sp, y_yeast_train_sp)\n",
    "\n",
    "# predict\n",
    "predictions = classifier.predict(x_yeast_test_sp)\n",
    "#predict_proba\n",
    "\n",
    "t = PrettyTable(['Measures', 'Value'])\n",
    "t.add_row(['Accuracy',accuracy_score(y_yeast_test,predictions)])\n",
    "t.add_row(['Precision',precision_score(y_yeast_test,predictions,average='micro')])\n",
    "t.add_row(['Recall',recall_score(y_yeast_test,predictions,average='micro')])\n",
    "t.add_row(['0/1 loss',zero_one_loss(y_yeast_test,predictions)])\n",
    "t.add_row(['F1',f1_score(y_yeast_test,predictions,average='micro')])\n",
    "print(t) "
   ]
  },
  {
   "cell_type": "code",
   "execution_count": null,
   "metadata": {},
   "outputs": [],
   "source": []
  },
  {
   "cell_type": "code",
   "execution_count": null,
   "metadata": {},
   "outputs": [],
   "source": []
  },
  {
   "cell_type": "code",
   "execution_count": null,
   "metadata": {},
   "outputs": [],
   "source": []
  },
  {
   "cell_type": "code",
   "execution_count": null,
   "metadata": {},
   "outputs": [],
   "source": []
  },
  {
   "cell_type": "code",
   "execution_count": null,
   "metadata": {},
   "outputs": [],
   "source": []
  },
  {
   "cell_type": "code",
   "execution_count": null,
   "metadata": {},
   "outputs": [],
   "source": []
  },
  {
   "cell_type": "code",
   "execution_count": null,
   "metadata": {},
   "outputs": [],
   "source": []
  },
  {
   "cell_type": "code",
   "execution_count": null,
   "metadata": {},
   "outputs": [],
   "source": []
  },
  {
   "cell_type": "markdown",
   "metadata": {
    "collapsed": true
   },
   "source": [
    "# Multi class classification\n",
    "# 1. Problem transformation methods"
   ]
  },
  {
   "cell_type": "markdown",
   "metadata": {},
   "source": [
    "##     a)The binary relevance method (BR)\n",
    "the simplest problem transformation method\n",
    "BR learns a binary classifier for each label\n",
    "\n",
    "--- labels are predicted independently of each other and label dependencies are not taken into account."
   ]
  },
  {
   "cell_type": "code",
   "execution_count": 820,
   "metadata": {},
   "outputs": [
    {
     "data": {
      "image/png": "[encoded data removed]",
      "text/plain": [
       "<IPython.core.display.Image object>"
      ]
     },
     "execution_count": 820,
     "metadata": {
      "image/png": {
       "height": 300,
       "width": 500
      }
     },
     "output_type": "execute_result"
    }
   ],
   "source": [
    "Image(filename=\"C:\\\\Users\\\\Dusica\\\\Desktop\\\\RESURSII ZA MLC\\\\BinaryRelevance2.png\",width=500, height=300)"
   ]
  },
  {
   "cell_type": "markdown",
   "metadata": {},
   "source": [
    "### TARGET LABELS [G1, G2, G3]"
   ]
  },
  {
   "cell_type": "code",
   "execution_count": 821,
   "metadata": {},
   "outputs": [
    {
     "ename": "ValueError",
     "evalue": "labels ['G1' 'G2' 'G3'] not contained in axis",
     "output_type": "error",
     "traceback": [
      "\u001b[1;31m---------------------------------------------------------------------------\u001b[0m",
      "\u001b[1;31mValueError\u001b[0m                                Traceback (most recent call last)",
      "\u001b[1;32m<ipython-input-821-2d0af3c71a41>\u001b[0m in \u001b[0;36m<module>\u001b[1;34m()\u001b[0m\n\u001b[1;32m----> 1\u001b[1;33m \u001b[0mx\u001b[0m\u001b[1;33m=\u001b[0m\u001b[0mstudent_dummies\u001b[0m\u001b[1;33m.\u001b[0m\u001b[0mdrop\u001b[0m\u001b[1;33m(\u001b[0m\u001b[1;33m[\u001b[0m\u001b[1;34m'G1'\u001b[0m\u001b[1;33m,\u001b[0m\u001b[1;34m'G2'\u001b[0m\u001b[1;33m,\u001b[0m\u001b[1;34m'G3'\u001b[0m\u001b[1;33m]\u001b[0m\u001b[1;33m,\u001b[0m\u001b[0maxis\u001b[0m\u001b[1;33m=\u001b[0m\u001b[1;36m1\u001b[0m\u001b[1;33m)\u001b[0m\u001b[1;33m\u001b[0m\u001b[0m\n\u001b[0m",
      "\u001b[1;32mC:\\Users\\Dusica\\Anaconda3\\lib\\site-packages\\pandas\\core\\generic.py\u001b[0m in \u001b[0;36mdrop\u001b[1;34m(self, labels, axis, level, inplace, errors)\u001b[0m\n\u001b[0;32m   2159\u001b[0m                 \u001b[0mnew_axis\u001b[0m \u001b[1;33m=\u001b[0m \u001b[0maxis\u001b[0m\u001b[1;33m.\u001b[0m\u001b[0mdrop\u001b[0m\u001b[1;33m(\u001b[0m\u001b[0mlabels\u001b[0m\u001b[1;33m,\u001b[0m \u001b[0mlevel\u001b[0m\u001b[1;33m=\u001b[0m\u001b[0mlevel\u001b[0m\u001b[1;33m,\u001b[0m \u001b[0merrors\u001b[0m\u001b[1;33m=\u001b[0m\u001b[0merrors\u001b[0m\u001b[1;33m)\u001b[0m\u001b[1;33m\u001b[0m\u001b[0m\n\u001b[0;32m   2160\u001b[0m             \u001b[1;32melse\u001b[0m\u001b[1;33m:\u001b[0m\u001b[1;33m\u001b[0m\u001b[0m\n\u001b[1;32m-> 2161\u001b[1;33m                 \u001b[0mnew_axis\u001b[0m \u001b[1;33m=\u001b[0m \u001b[0maxis\u001b[0m\u001b[1;33m.\u001b[0m\u001b[0mdrop\u001b[0m\u001b[1;33m(\u001b[0m\u001b[0mlabels\u001b[0m\u001b[1;33m,\u001b[0m \u001b[0merrors\u001b[0m\u001b[1;33m=\u001b[0m\u001b[0merrors\u001b[0m\u001b[1;33m)\u001b[0m\u001b[1;33m\u001b[0m\u001b[0m\n\u001b[0m\u001b[0;32m   2162\u001b[0m             \u001b[0mdropped\u001b[0m \u001b[1;33m=\u001b[0m \u001b[0mself\u001b[0m\u001b[1;33m.\u001b[0m\u001b[0mreindex\u001b[0m\u001b[1;33m(\u001b[0m\u001b[1;33m**\u001b[0m\u001b[1;33m{\u001b[0m\u001b[0maxis_name\u001b[0m\u001b[1;33m:\u001b[0m \u001b[0mnew_axis\u001b[0m\u001b[1;33m}\u001b[0m\u001b[1;33m)\u001b[0m\u001b[1;33m\u001b[0m\u001b[0m\n\u001b[0;32m   2163\u001b[0m             \u001b[1;32mtry\u001b[0m\u001b[1;33m:\u001b[0m\u001b[1;33m\u001b[0m\u001b[0m\n",
      "\u001b[1;32mC:\\Users\\Dusica\\Anaconda3\\lib\\site-packages\\pandas\\core\\indexes\\base.py\u001b[0m in \u001b[0;36mdrop\u001b[1;34m(self, labels, errors)\u001b[0m\n\u001b[0;32m   3622\u001b[0m             \u001b[1;32mif\u001b[0m \u001b[0merrors\u001b[0m \u001b[1;33m!=\u001b[0m \u001b[1;34m'ignore'\u001b[0m\u001b[1;33m:\u001b[0m\u001b[1;33m\u001b[0m\u001b[0m\n\u001b[0;32m   3623\u001b[0m                 raise ValueError('labels %s not contained in axis' %\n\u001b[1;32m-> 3624\u001b[1;33m                                  labels[mask])\n\u001b[0m\u001b[0;32m   3625\u001b[0m             \u001b[0mindexer\u001b[0m \u001b[1;33m=\u001b[0m \u001b[0mindexer\u001b[0m\u001b[1;33m[\u001b[0m\u001b[1;33m~\u001b[0m\u001b[0mmask\u001b[0m\u001b[1;33m]\u001b[0m\u001b[1;33m\u001b[0m\u001b[0m\n\u001b[0;32m   3626\u001b[0m         \u001b[1;32mreturn\u001b[0m \u001b[0mself\u001b[0m\u001b[1;33m.\u001b[0m\u001b[0mdelete\u001b[0m\u001b[1;33m(\u001b[0m\u001b[0mindexer\u001b[0m\u001b[1;33m)\u001b[0m\u001b[1;33m\u001b[0m\u001b[0m\n",
      "\u001b[1;31mValueError\u001b[0m: labels ['G1' 'G2' 'G3'] not contained in axis"
     ]
    }
   ],
   "source": [
    "x=student_dummies.drop(['G1','G2','G3'],axis=1)"
   ]
  },
  {
   "cell_type": "code",
   "execution_count": null,
   "metadata": {},
   "outputs": [],
   "source": [
    "y=student_dummies[['G1','G2','G3']]"
   ]
  },
  {
   "cell_type": "code",
   "execution_count": null,
   "metadata": {},
   "outputs": [],
   "source": [
    "a_train, a_test, b_train, b_test = train_test_split(x,y, test_size=0.3, random_state=42)"
   ]
  },
  {
   "cell_type": "code",
   "execution_count": null,
   "metadata": {},
   "outputs": [],
   "source": [
    "#classifier = BinaryRelevance(RandomForestClassifier())\n",
    "#classifier = BinaryRelevance(GaussianNB())\n",
    "classifier = BinaryRelevance(LogisticRegression())\n",
    "\n",
    "# train\n",
    "classifier.fit(a_train, b_train)\n",
    "\n",
    "# predict\n",
    "predictions = classifier.predict(a_test)"
   ]
  },
  {
   "cell_type": "code",
   "execution_count": null,
   "metadata": {},
   "outputs": [],
   "source": [
    "predictions.todense()[0:5]"
   ]
  },
  {
   "cell_type": "code",
   "execution_count": null,
   "metadata": {},
   "outputs": [],
   "source": [
    "t = PrettyTable(['Measures', 'Value'])\n",
    "t.add_row(['Accuracy',accuracy_score(b_test,predictions)])\n",
    "t.add_row(['Precision',precision_score(b_test,predictions,average='macro')])\n",
    "t.add_row(['Recall',recall_score(b_test,predictions,average='macro')])\n",
    "t.add_row(['0/1 loss',zero_one_loss(b_test,predictions)])\n",
    "t.add_row(['F1',f1_score(b_test,predictions,average='macro')])\n",
    "print(t)"
   ]
  },
  {
   "cell_type": "markdown",
   "metadata": {},
   "source": [
    "## b) Classifier Chains\n",
    " -The first classifier is trained just on the input data and then each next classifier is trained on the input space and all the previous classifiers in the chain."
   ]
  },
  {
   "cell_type": "code",
   "execution_count": null,
   "metadata": {},
   "outputs": [],
   "source": [
    "Image(filename=\"C:\\\\Users\\\\Dusica\\\\Desktop\\\\RESURSII ZA MLC\\\\ClassifierChains.png\",width=700, height=700)"
   ]
  },
  {
   "cell_type": "markdown",
   "metadata": {},
   "source": [
    "### TARGET LABELS [G1, G2, G3]"
   ]
  },
  {
   "cell_type": "code",
   "execution_count": null,
   "metadata": {},
   "outputs": [],
   "source": [
    "classifier = ClassifierChain(LogisticRegression())\n",
    "\n",
    "# train\n",
    "classifier.fit(a_train, b_train)\n",
    "\n",
    "# predict\n",
    "predictions = classifier.predict(a_test)\n",
    " \n",
    " \n",
    "t = PrettyTable(['Measures', 'Value'])\n",
    "t.add_row(['Accuracy',accuracy_score(b_test,predictions)])\n",
    "t.add_row(['Precision',precision_score(b_test,predictions,average='macro')])\n",
    "t.add_row(['Recall',recall_score(b_test,predictions,average='macro')])\n",
    "t.add_row(['0/1 loss',zero_one_loss(b_test,predictions)])\n",
    "t.add_row(['F1',f1_score(b_test,predictions,average='macro')])\n",
    "print(t) "
   ]
  },
  {
   "cell_type": "code",
   "execution_count": null,
   "metadata": {},
   "outputs": [],
   "source": [
    "#Nested stacking\n",
    "#proba"
   ]
  },
  {
   "cell_type": "code",
   "execution_count": null,
   "metadata": {},
   "outputs": [],
   "source": [
    "Image(filename=\"C:\\\\Users\\\\Dusica\\\\Desktop\\\\RESURSII ZA MLC\\\\NestedStacking.png\",width=700, height=700)"
   ]
  },
  {
   "cell_type": "code",
   "execution_count": null,
   "metadata": {},
   "outputs": [],
   "source": [
    "x1_ns=x\n",
    "y1_ns=y['G1']"
   ]
  },
  {
   "cell_type": "code",
   "execution_count": null,
   "metadata": {},
   "outputs": [],
   "source": [
    "predicted_G1 = cross_val_predict(LogisticRegression(), x1_ns, y1_ns, cv=2)\n",
    "accuracy_score(y1_ns, predicted_G1) "
   ]
  },
  {
   "cell_type": "code",
   "execution_count": null,
   "metadata": {},
   "outputs": [],
   "source": [
    "x1_ns['predicted_G1']=predicted_G1\n",
    "y2_ns=y['G2']"
   ]
  },
  {
   "cell_type": "code",
   "execution_count": null,
   "metadata": {},
   "outputs": [],
   "source": [
    "predicted_G2 = cross_val_predict(LogisticRegression(), x1_ns, y2_ns, cv=2)\n",
    "accuracy_score(y2_ns, predicted_G2) "
   ]
  },
  {
   "cell_type": "code",
   "execution_count": null,
   "metadata": {},
   "outputs": [],
   "source": [
    "x1_ns['predicted_G2']=predicted_G2\n",
    "y3_ns=y['G3']"
   ]
  },
  {
   "cell_type": "code",
   "execution_count": null,
   "metadata": {},
   "outputs": [],
   "source": [
    "predicted_G3 = cross_val_predict(LogisticRegression(), x1_ns, y3_ns, cv=2)\n",
    "accuracy_score(y3_ns, predicted_G3) "
   ]
  },
  {
   "cell_type": "code",
   "execution_count": null,
   "metadata": {},
   "outputs": [],
   "source": [
    "#Dependent binary relevance - DBR\n",
    "#proba"
   ]
  },
  {
   "cell_type": "code",
   "execution_count": null,
   "metadata": {},
   "outputs": [],
   "source": [
    "Image(filename=\"C:\\\\Users\\\\Dusica\\\\Desktop\\\\RESURSII ZA MLC\\\\dbr.png\",width=700, height=700)"
   ]
  },
  {
   "cell_type": "code",
   "execution_count": null,
   "metadata": {},
   "outputs": [],
   "source": [
    "x1_dbr=student_dummies.drop('G1',axis=1)\n",
    "y1_dbr=y['G1']"
   ]
  },
  {
   "cell_type": "code",
   "execution_count": null,
   "metadata": {},
   "outputs": [],
   "source": [
    "predicted_G1 = cross_val_predict(LogisticRegression(), x1_dbr, y1_dbr, cv=5)\n",
    "accuracy_score(y1_dbr, predicted_G1) "
   ]
  },
  {
   "cell_type": "code",
   "execution_count": null,
   "metadata": {},
   "outputs": [],
   "source": [
    "x2_dbr=student_dummies.drop('G2',axis=1)\n",
    "y2_dbr=y['G2']"
   ]
  },
  {
   "cell_type": "code",
   "execution_count": null,
   "metadata": {},
   "outputs": [],
   "source": [
    "predicted_G2 = cross_val_predict(LogisticRegression(), x2_dbr, y2_dbr, cv=5)\n",
    "accuracy_score(y2_dbr, predicted_G2) "
   ]
  },
  {
   "cell_type": "code",
   "execution_count": null,
   "metadata": {},
   "outputs": [],
   "source": [
    "x3_dbr=student_dummies.drop('G3',axis=1)\n",
    "y3_dbr=y['G3']"
   ]
  },
  {
   "cell_type": "code",
   "execution_count": null,
   "metadata": {},
   "outputs": [],
   "source": [
    "predicted_G3 = cross_val_predict(LogisticRegression(), x3_dbr, y3_dbr, cv=5)\n",
    "accuracy_score(y3_dbr, predicted_G3) "
   ]
  },
  {
   "cell_type": "markdown",
   "metadata": {},
   "source": [
    "## c) Label Powerset\n",
    "It transforms the problem into a multi-class problem with one multi-class classifier which is trained on all unique label combinations found in the training data.\n",
    "x1 and x4 have the same labels, similarly, x3 and x6 have the same set of labels. Label powerset transforms this problem into a single multi-class problem as shown below.\n",
    "Disadvantage:  The only disadvantage of this is that as the training data increases, number of classes also inreases, and measure values decrease.  "
   ]
  },
  {
   "cell_type": "code",
   "execution_count": 605,
   "metadata": {},
   "outputs": [
    {
     "data": {
      "image/png": "[encoded data removed]",
      "text/plain": [
       "<IPython.core.display.Image object>"
      ]
     },
     "execution_count": 605,
     "metadata": {
      "image/png": {
       "height": 300,
       "width": 500
      }
     },
     "output_type": "execute_result"
    }
   ],
   "source": [
    "Image(filename=\"C:\\\\Users\\\\Dusica\\\\Desktop\\\\RESURSII ZA MLC\\\\LabelPowerset2.png\",width=500, height=300)"
   ]
  },
  {
   "cell_type": "markdown",
   "metadata": {},
   "source": [
    "### TARGET LABELS [G1, G2, G3]"
   ]
  },
  {
   "cell_type": "code",
   "execution_count": 606,
   "metadata": {},
   "outputs": [
    {
     "name": "stdout",
     "output_type": "stream",
     "text": [
      "+-----------+----------------+\n",
      "|  Measures |     Value      |\n",
      "+-----------+----------------+\n",
      "|  Accuracy | 0.588235294118 |\n",
      "| Precision | 0.664059138854 |\n",
      "|   Recall  | 0.922625353928 |\n",
      "|  0/1 loss | 0.411764705882 |\n",
      "|     F1    | 0.772061868226 |\n",
      "+-----------+----------------+\n"
     ]
    }
   ],
   "source": [
    "classifier = LabelPowerset(LogisticRegression())\n",
    "\n",
    "# train\n",
    "classifier.fit(a_train, b_train)\n",
    "\n",
    "# predict\n",
    "predictions = classifier.predict(a_test)\n",
    "\n",
    "t = PrettyTable(['Measures', 'Value'])\n",
    "t.add_row(['Accuracy',accuracy_score(b_test,predictions)])\n",
    "t.add_row(['Precision',precision_score(b_test,predictions,average='macro')])\n",
    "t.add_row(['Recall',recall_score(b_test,predictions,average='macro')])\n",
    "t.add_row(['0/1 loss',zero_one_loss(b_test,predictions)])\n",
    "t.add_row(['F1',f1_score(b_test,predictions,average='macro')])\n",
    "print(t) "
   ]
  },
  {
   "cell_type": "markdown",
   "metadata": {
    "collapsed": true
   },
   "source": [
    "# 2. Algorithm adaptation methods\n",
    "\n",
    "Adapted algorithm, as the name suggests, adapting the algorithm to directly perform multi-label classification, rather than transforming the problem into different subsets of problems.\n",
    "\n",
    "multi-label version of kNN is represented by MLkNN"
   ]
  },
  {
   "cell_type": "markdown",
   "metadata": {},
   "source": [
    "### TARGET LABELS [G1, G2, G3]"
   ]
  },
  {
   "cell_type": "code",
   "execution_count": 621,
   "metadata": {
    "collapsed": true
   },
   "outputs": [],
   "source": [
    "a_train_sp=scipy.sparse.csr_matrix(a_train.values)\n",
    "b_train_sp=scipy.sparse.csr_matrix(b_train.values)\n",
    "a_test_sp=scipy.sparse.csr_matrix(a_test.values)\n",
    "b_test_sp=scipy.sparse.csr_matrix(b_test.values)"
   ]
  },
  {
   "cell_type": "code",
   "execution_count": 622,
   "metadata": {},
   "outputs": [
    {
     "name": "stdout",
     "output_type": "stream",
     "text": [
      "+-----------+----------------+\n",
      "|  Measures |     Value      |\n",
      "+-----------+----------------+\n",
      "|  Accuracy | 0.487394957983 |\n",
      "| Precision | 0.619729708547 |\n",
      "|   Recall  | 0.953853604539 |\n",
      "|  0/1 loss | 0.512605042017 |\n",
      "|     F1    | 0.74959880321  |\n",
      "+-----------+----------------+\n"
     ]
    }
   ],
   "source": [
    "classifier = MLkNN(k=20)\n",
    "\n",
    "# train\n",
    "classifier.fit(a_train_sp, b_train_sp)\n",
    "\n",
    "# predict\n",
    "predictions = classifier.predict(a_test_sp)\n",
    "#predict_proba\n",
    "\n",
    " \n",
    "t = PrettyTable(['Measures', 'Value'])\n",
    "t.add_row(['Accuracy',accuracy_score(b_test_sp,predictions)])\n",
    "t.add_row(['Precision',precision_score(b_test_sp,predictions,average='macro')])\n",
    "t.add_row(['Recall',recall_score(b_test_sp,predictions,average='macro')])\n",
    "t.add_row(['0/1 loss',zero_one_loss(b_test_sp,predictions)])\n",
    "t.add_row(['F1',f1_score(b_test_sp,predictions,average='macro')])\n",
    "print(t) "
   ]
  },
  {
   "cell_type": "code",
   "execution_count": 623,
   "metadata": {},
   "outputs": [
    {
     "name": "stdout",
     "output_type": "stream",
     "text": [
      "+-----------+----------------+\n",
      "|  Measures |     Value      |\n",
      "+-----------+----------------+\n",
      "|  Accuracy | 0.504201680672 |\n",
      "| Precision | 0.597442313039 |\n",
      "|   Recall  | 0.951324737871 |\n",
      "|  0/1 loss | 0.495798319328 |\n",
      "|     F1    | 0.733667116126 |\n",
      "+-----------+----------------+\n"
     ]
    }
   ],
   "source": [
    "classifier = BRkNNaClassifier(k=4)\n",
    "\n",
    "# train\n",
    "classifier.fit(a_train_sp, b_train_sp)\n",
    "\n",
    "# predict\n",
    "predictions = classifier.predict(a_test_sp)\n",
    "#predict_proba\n",
    "\n",
    "\n",
    "t = PrettyTable(['Measures', 'Value'])\n",
    "t.add_row(['Accuracy',accuracy_score(b_test,predictions)])\n",
    "t.add_row(['Precision',precision_score(b_test,predictions,average='macro')])\n",
    "t.add_row(['Recall',recall_score(b_test,predictions,average='macro')])\n",
    "t.add_row(['0/1 loss',zero_one_loss(b_test,predictions)])\n",
    "t.add_row(['F1',f1_score(b_test,predictions,average='macro')])\n",
    "print(t) "
   ]
  },
  {
   "cell_type": "raw",
   "metadata": {},
   "source": [
    ".\n",
    ".\n",
    "."
   ]
  },
  {
   "cell_type": "raw",
   "metadata": {},
   "source": [
    "Multi label classification\n",
    "1. Algorithm adaptation\n",
    "   skmultilearn.adapt\n",
    "2. Problem transformation \n",
    "  such as Binary Relevance, Label Powerset\n",
    "  skmultilearn.problem_transformation\n",
    "3. Ensemble classification \n",
    "  skmultilearn.ensemble"
   ]
  },
  {
   "cell_type": "markdown",
   "metadata": {
    "collapsed": true
   },
   "source": [
    "# 3. Ensemble Approaches?\n",
    "Ensemble always produces better results. Scikit-Multilearn library provides different ensembling classification functions, which you can use for obtaining better results."
   ]
  },
  {
   "cell_type": "code",
   "execution_count": null,
   "metadata": {},
   "outputs": [],
   "source": []
  },
  {
   "cell_type": "code",
   "execution_count": null,
   "metadata": {},
   "outputs": [],
   "source": []
  },
  {
   "cell_type": "code",
   "execution_count": null,
   "metadata": {},
   "outputs": [],
   "source": []
  },
  {
   "cell_type": "code",
   "execution_count": null,
   "metadata": {},
   "outputs": [],
   "source": []
  },
  {
   "cell_type": "code",
   "execution_count": 153,
   "metadata": {},
   "outputs": [],
   "source": [
    "#enables the %%R magic, load not necessary if you've already done this\n",
    "#%load_ext rpy2.ipython\n",
    "%reload_ext rpy2.ipython"
   ]
  },
  {
   "cell_type": "code",
   "execution_count": 160,
   "metadata": {},
   "outputs": [
    {
     "data": {
      "image/png": "[encoded data removed]"
     },
     "metadata": {},
     "output_type": "display_data"
    }
   ],
   "source": [
    "%%R -i student -w 5 -h 5 --units in -r 70\n",
    "\n",
    "install.packages(\"ggplot2\", repos='http://cran.us.r-project.org', quiet=TRUE)\n",
    "library(ggplot2)\n",
    "ggplot(student, aes(x=romantic_x, y=G3_p)) + geom_line()\n",
    "#python+R playtime"
   ]
  },
  {
   "cell_type": "code",
   "execution_count": 209,
   "metadata": {},
   "outputs": [
    {
     "name": "stdout",
     "output_type": "stream",
     "text": [
      "Collecting scikit-multilearn\n",
      "  Downloading scikit_multilearn-0.0.5-py3-none-any.whl\n",
      "Installing collected packages: scikit-multilearn\n",
      "Successfully installed scikit-multilearn-0.0.5\n"
     ]
    }
   ],
   "source": [
    "!pip install scikit-multilearn"
   ]
  },
  {
   "cell_type": "code",
   "execution_count": 192,
   "metadata": {},
   "outputs": [
    {
     "name": "stdout",
     "output_type": "stream",
     "text": [
      "Collecting liac-arff\n",
      "  Downloading liac-arff-2.1.1.tar.gz\n",
      "Building wheels for collected packages: liac-arff\n",
      "  Running setup.py bdist_wheel for liac-arff: started\n",
      "  Running setup.py bdist_wheel for liac-arff: finished with status 'done'\n",
      "  Stored in directory: C:\\Users\\Dusica\\AppData\\Local\\pip\\Cache\\wheels\\fa\\05\\89\\ad13dcf092046e2ea86beec50db9ad5ce8a3ba0c4d00489579\n",
      "Successfully built liac-arff\n",
      "Installing collected packages: liac-arff\n",
      "Successfully installed liac-arff-2.1.1\n"
     ]
    }
   ],
   "source": [
    "!pip install liac-arff"
   ]
  },
  {
   "cell_type": "code",
   "execution_count": 208,
   "metadata": {},
   "outputs": [
    {
     "name": "stdout",
     "output_type": "stream",
     "text": [
      "Collecting future\n",
      "  Downloading future-0.16.0.tar.gz (824kB)\n",
      "Building wheels for collected packages: future\n",
      "  Running setup.py bdist_wheel for future: started\n",
      "  Running setup.py bdist_wheel for future: finished with status 'done'\n",
      "  Stored in directory: C:\\Users\\Dusica\\AppData\\Local\\pip\\Cache\\wheels\\c2\\50\\7c\\0d83b4baac4f63ff7a765bd16390d2ab43c93587fac9d6017a\n",
      "Successfully built future\n",
      "Installing collected packages: future\n",
      "Successfully installed future-0.16.0\n"
     ]
    }
   ],
   "source": [
    "!pip install future"
   ]
  },
  {
   "cell_type": "code",
   "execution_count": 226,
   "metadata": {},
   "outputs": [
    {
     "name": "stdout",
     "output_type": "stream",
     "text": [
      "Collecting whichcraft\n",
      "  Downloading whichcraft-0.4.1-py2.py3-none-any.whl\n",
      "Installing collected packages: whichcraft\n",
      "Successfully installed whichcraft-0.4.1\n"
     ]
    }
   ],
   "source": [
    "!pip install whichcraft"
   ]
  },
  {
   "cell_type": "code",
   "execution_count": 382,
   "metadata": {},
   "outputs": [
    {
     "name": "stdout",
     "output_type": "stream",
     "text": [
      "Collecting prettytable\n",
      "  Downloading prettytable-0.7.2.zip\n",
      "Building wheels for collected packages: prettytable\n",
      "  Running setup.py bdist_wheel for prettytable: started\n",
      "  Running setup.py bdist_wheel for prettytable: finished with status 'done'\n",
      "  Stored in directory: C:\\Users\\Dusica\\AppData\\Local\\pip\\Cache\\wheels\\b6\\90\\7b\\1c22b89217d0eba6d5f406e562365ebee804f0d4595b2bdbcd\n",
      "Successfully built prettytable\n",
      "Installing collected packages: prettytable\n",
      "Successfully installed prettytable-0.7.2\n"
     ]
    }
   ],
   "source": [
    "!pip install prettytable"
   ]
  },
  {
   "cell_type": "code",
   "execution_count": null,
   "metadata": {
    "collapsed": true
   },
   "outputs": [],
   "source": [
    "#!pip install dvc"
   ]
  },
  {
   "cell_type": "code",
   "execution_count": null,
   "metadata": {
    "collapsed": true
   },
   "outputs": [],
   "source": []
  }
 ],
 "metadata": {
  "kernelspec": {
   "display_name": "Python 3",
   "language": "python",
   "name": "python3"
  },
  "language_info": {
   "codemirror_mode": {
    "name": "ipython",
    "version": 3
   },
   "file_extension": ".py",
   "mimetype": "text/x-python",
   "name": "python",
   "nbconvert_exporter": "python",
   "pygments_lexer": "ipython3",
   "version": "3.6.3"
  }
 },
 "nbformat": 4,
 "nbformat_minor": 2
}
